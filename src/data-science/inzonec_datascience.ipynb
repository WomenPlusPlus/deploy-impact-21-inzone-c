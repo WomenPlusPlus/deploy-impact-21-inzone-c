{
 "cells": [
  {
   "cell_type": "markdown",
   "metadata": {},
   "source": [
    "# Data Analytics Dashboard for Coordinators\n",
    "\n",
    "## The Coordinator can perform the following actions:\n",
    "\n",
    "### (I) Look at the following tables:\n",
    "- User Table which contains information about students, coordinators, their age, gender and the refugee camps they are based.\n",
    "- Exam Table which contains information about the students' exam scores and their feedback\n",
    "- Multiple Choice Questions (MCQ) Table which contains all the questions from second section, the true answers of the questions\n",
    "- Answers of every student corresponding to every question from the MCQ section\n",
    "- Truth Table containing answers of every student whether they were correct or not\n",
    "\n",
    "### (II) Analysis of Exam Scores:\n",
    "- Histogram plots for first, second, third section for the whole group \n",
    "- Identify which questions were the hardest \n",
    "- Average time taken to finish the exam\n",
    "- Can indentify which students scored the highest and which students scored the least\n",
    "\n",
    "### (III) Cheating Notification:\n",
    "- A table is displayed if two students have exactly the same answers with exactly the same time taken to finish the exam\n",
    "\n",
    "### (IV) Sentiment Analysis on Feedback provided by students:\n",
    "- Sentiment Analysis is performed on the feedback text data provided by the students: Polarity for the text varies between -1 and +1 where +1 implies extremly positive and -1 implies extremly negative\n",
    "- WordCloud corresponding to the most frequest used words in the feedback is shown\n",
    "\n",
    "### (V) Enter and visualize Attendance:\n",
    "- Coordinator can input the attendance percentage of a student and view a pie chart accordingly\n"
   ]
  },
  {
   "cell_type": "markdown",
   "metadata": {},
   "source": [
    "# The code begins here:"
   ]
  },
  {
   "cell_type": "code",
   "execution_count": 1,
   "metadata": {},
   "outputs": [],
   "source": [
    "#import required libraries\n",
    "\n",
    "import pandas as pd\n",
    "import numpy as np\n",
    "import seaborn as sns\n",
    "import matplotlib.pyplot as plt\n",
    "import json\n",
    "import requests"
   ]
  },
  {
   "cell_type": "markdown",
   "metadata": {},
   "source": [
    "## User Table"
   ]
  },
  {
   "cell_type": "code",
   "execution_count": 2,
   "metadata": {},
   "outputs": [],
   "source": [
    "url = \"https://inzone-c-parse.tools.deployimpact.ch/parse/users\"\n",
    "querystring = {\"include\":\"refugeeCampId\"}\n",
    "payload = \"\"\n",
    "headers = {\n",
    "    'X-Parse-Application-Id': \"inzonec\"\n",
    "    }\n",
    "response = requests.request(\"GET\", url, data=payload, headers=headers, params=querystring)\n",
    "#print(response.text)"
   ]
  },
  {
   "cell_type": "code",
   "execution_count": 3,
   "metadata": {},
   "outputs": [],
   "source": [
    "output = response.text"
   ]
  },
  {
   "cell_type": "code",
   "execution_count": 4,
   "metadata": {},
   "outputs": [],
   "source": [
    "response_dict = json.loads(output)"
   ]
  },
  {
   "cell_type": "code",
   "execution_count": 5,
   "metadata": {},
   "outputs": [],
   "source": [
    "df_response = pd.DataFrame(response_dict)"
   ]
  },
  {
   "cell_type": "code",
   "execution_count": 6,
   "metadata": {},
   "outputs": [],
   "source": [
    "trial = []"
   ]
  },
  {
   "cell_type": "code",
   "execution_count": 7,
   "metadata": {},
   "outputs": [],
   "source": [
    "for i in range(len(df_response)):\n",
    "    ck = pd.DataFrame(df_response.results[i])\n",
    "    trial.append(ck[ck.index == 'objectId'])\n",
    "    \n",
    "final_df_usertable = pd.concat(trial, ignore_index=True)\n"
   ]
  },
  {
   "cell_type": "code",
   "execution_count": 8,
   "metadata": {},
   "outputs": [
    {
     "data": {
      "text/html": [
       "<div>\n",
       "<style scoped>\n",
       "    .dataframe tbody tr th:only-of-type {\n",
       "        vertical-align: middle;\n",
       "    }\n",
       "\n",
       "    .dataframe tbody tr th {\n",
       "        vertical-align: top;\n",
       "    }\n",
       "\n",
       "    .dataframe thead th {\n",
       "        text-align: right;\n",
       "    }\n",
       "</style>\n",
       "<table border=\"1\" class=\"dataframe\">\n",
       "  <thead>\n",
       "    <tr style=\"text-align: right;\">\n",
       "      <th></th>\n",
       "      <th>objectId</th>\n",
       "      <th>username</th>\n",
       "      <th>phone</th>\n",
       "      <th>role</th>\n",
       "      <th>name</th>\n",
       "      <th>surName</th>\n",
       "      <th>createdAt</th>\n",
       "      <th>updatedAt</th>\n",
       "      <th>address</th>\n",
       "      <th>age</th>\n",
       "      <th>refugeeCampId</th>\n",
       "      <th>description</th>\n",
       "      <th>gender</th>\n",
       "      <th>ACL</th>\n",
       "      <th>emailVerified</th>\n",
       "    </tr>\n",
       "  </thead>\n",
       "  <tbody>\n",
       "    <tr>\n",
       "      <th>0</th>\n",
       "      <td>e1lEFJC3hK</td>\n",
       "      <td>giada</td>\n",
       "      <td>415-392-0202</td>\n",
       "      <td>student</td>\n",
       "      <td>Giada</td>\n",
       "      <td>Fallo</td>\n",
       "      <td>2021-10-27T11:01:56.071Z</td>\n",
       "      <td>2021-11-19T20:08:08.991Z</td>\n",
       "      <td>4626 Elk Street Anaheim California 92805</td>\n",
       "      <td>19</td>\n",
       "      <td>RGDifmMQAi</td>\n",
       "      <td>highschool student</td>\n",
       "      <td>Female</td>\n",
       "      <td>NaN</td>\n",
       "      <td>NaN</td>\n",
       "    </tr>\n",
       "    <tr>\n",
       "      <th>1</th>\n",
       "      <td>aZ0gXwjlNK</td>\n",
       "      <td>namrata</td>\n",
       "      <td>415-392-0203</td>\n",
       "      <td>student</td>\n",
       "      <td>Namrata</td>\n",
       "      <td>Gurung</td>\n",
       "      <td>2021-10-27T11:04:59.861Z</td>\n",
       "      <td>2021-11-19T20:08:11.562Z</td>\n",
       "      <td>3166 Pine Street Sheakleyville Pennsylvania 16151</td>\n",
       "      <td>18</td>\n",
       "      <td>RGDifmMQAi</td>\n",
       "      <td>want to improve herself more in education</td>\n",
       "      <td>Female</td>\n",
       "      <td>NaN</td>\n",
       "      <td>NaN</td>\n",
       "    </tr>\n",
       "    <tr>\n",
       "      <th>2</th>\n",
       "      <td>Zs9uCTRg59</td>\n",
       "      <td>marta</td>\n",
       "      <td>415-392-0204</td>\n",
       "      <td>student</td>\n",
       "      <td>Marta</td>\n",
       "      <td>Bonilla</td>\n",
       "      <td>2021-10-27T11:05:42.396Z</td>\n",
       "      <td>2021-11-19T20:02:11.651Z</td>\n",
       "      <td>2419 Chipmunk Lane Portland Maine 04101</td>\n",
       "      <td>17</td>\n",
       "      <td>RGDifmMQAi</td>\n",
       "      <td>university student.</td>\n",
       "      <td>Female</td>\n",
       "      <td>NaN</td>\n",
       "      <td>NaN</td>\n",
       "    </tr>\n",
       "    <tr>\n",
       "      <th>3</th>\n",
       "      <td>zy2Iymim8g</td>\n",
       "      <td>gioele</td>\n",
       "      <td>415-392-0205</td>\n",
       "      <td>student</td>\n",
       "      <td>Gioele</td>\n",
       "      <td>Monopoli</td>\n",
       "      <td>2021-10-27T11:06:24.032Z</td>\n",
       "      <td>2021-11-19T20:02:13.932Z</td>\n",
       "      <td>4013 Augusta Park Mullens West Virginia 25882</td>\n",
       "      <td>16</td>\n",
       "      <td>RGDifmMQAi</td>\n",
       "      <td>no background on education.</td>\n",
       "      <td>Male</td>\n",
       "      <td>NaN</td>\n",
       "      <td>NaN</td>\n",
       "    </tr>\n",
       "    <tr>\n",
       "      <th>4</th>\n",
       "      <td>khUX3max7b</td>\n",
       "      <td>juliet</td>\n",
       "      <td>415-392-0206</td>\n",
       "      <td>student</td>\n",
       "      <td>Juliet</td>\n",
       "      <td>Gisemba</td>\n",
       "      <td>2021-10-27T11:07:53.454Z</td>\n",
       "      <td>2021-11-03T19:55:33.998Z</td>\n",
       "      <td>653 Arlington Avenue Little Rock AR Arkansas 7...</td>\n",
       "      <td>15</td>\n",
       "      <td>RGDifmMQAi</td>\n",
       "      <td>Highschool student with strong passion</td>\n",
       "      <td>Female</td>\n",
       "      <td>NaN</td>\n",
       "      <td>True</td>\n",
       "    </tr>\n",
       "    <tr>\n",
       "      <th>5</th>\n",
       "      <td>xo7xcIt3Yq</td>\n",
       "      <td>emrecan</td>\n",
       "      <td>415-392-0207</td>\n",
       "      <td>coordinator</td>\n",
       "      <td>Emrecan</td>\n",
       "      <td>Ozkan</td>\n",
       "      <td>2021-10-27T11:08:22.792Z</td>\n",
       "      <td>2021-11-11T08:17:06.241Z</td>\n",
       "      <td>3079 Flint Street</td>\n",
       "      <td>22</td>\n",
       "      <td>RGDifmMQAi</td>\n",
       "      <td>Highschool student with strong passion</td>\n",
       "      <td>Male</td>\n",
       "      <td>NaN</td>\n",
       "      <td>NaN</td>\n",
       "    </tr>\n",
       "    <tr>\n",
       "      <th>6</th>\n",
       "      <td>YJxMmeKFYG</td>\n",
       "      <td>karim</td>\n",
       "      <td>415-392-0207</td>\n",
       "      <td>coordinator</td>\n",
       "      <td>Karim</td>\n",
       "      <td>Tutor</td>\n",
       "      <td>2021-11-10T11:08:36.131Z</td>\n",
       "      <td>2021-11-11T08:17:19.394Z</td>\n",
       "      <td>359 Essex Court</td>\n",
       "      <td>21</td>\n",
       "      <td>RGDifmMQAi</td>\n",
       "      <td>Highschool student with strong passion</td>\n",
       "      <td>Male</td>\n",
       "      <td>NaN</td>\n",
       "      <td>NaN</td>\n",
       "    </tr>\n",
       "    <tr>\n",
       "      <th>7</th>\n",
       "      <td>vcM0w26xi6</td>\n",
       "      <td>zakia</td>\n",
       "      <td>415-392-0207</td>\n",
       "      <td>student</td>\n",
       "      <td>Zakia</td>\n",
       "      <td>Student</td>\n",
       "      <td>2021-11-10T11:08:53.952Z</td>\n",
       "      <td>2021-11-11T08:17:22.978Z</td>\n",
       "      <td>349 Rhapsody Street</td>\n",
       "      <td>20</td>\n",
       "      <td>RGDifmMQAi</td>\n",
       "      <td>Highschool student with strong passion</td>\n",
       "      <td>Female</td>\n",
       "      <td>NaN</td>\n",
       "      <td>NaN</td>\n",
       "    </tr>\n",
       "  </tbody>\n",
       "</table>\n",
       "</div>"
      ],
      "text/plain": [
       "     objectId username         phone         role     name   surName  \\\n",
       "0  e1lEFJC3hK    giada  415-392-0202      student    Giada     Fallo   \n",
       "1  aZ0gXwjlNK  namrata  415-392-0203      student  Namrata    Gurung   \n",
       "2  Zs9uCTRg59    marta  415-392-0204      student    Marta   Bonilla   \n",
       "3  zy2Iymim8g   gioele  415-392-0205      student   Gioele  Monopoli   \n",
       "4  khUX3max7b   juliet  415-392-0206      student   Juliet   Gisemba   \n",
       "5  xo7xcIt3Yq  emrecan  415-392-0207  coordinator  Emrecan     Ozkan   \n",
       "6  YJxMmeKFYG    karim  415-392-0207  coordinator    Karim     Tutor   \n",
       "7  vcM0w26xi6    zakia  415-392-0207      student    Zakia   Student   \n",
       "\n",
       "                  createdAt                 updatedAt  \\\n",
       "0  2021-10-27T11:01:56.071Z  2021-11-19T20:08:08.991Z   \n",
       "1  2021-10-27T11:04:59.861Z  2021-11-19T20:08:11.562Z   \n",
       "2  2021-10-27T11:05:42.396Z  2021-11-19T20:02:11.651Z   \n",
       "3  2021-10-27T11:06:24.032Z  2021-11-19T20:02:13.932Z   \n",
       "4  2021-10-27T11:07:53.454Z  2021-11-03T19:55:33.998Z   \n",
       "5  2021-10-27T11:08:22.792Z  2021-11-11T08:17:06.241Z   \n",
       "6  2021-11-10T11:08:36.131Z  2021-11-11T08:17:19.394Z   \n",
       "7  2021-11-10T11:08:53.952Z  2021-11-11T08:17:22.978Z   \n",
       "\n",
       "                                             address  age refugeeCampId  \\\n",
       "0           4626 Elk Street Anaheim California 92805   19    RGDifmMQAi   \n",
       "1  3166 Pine Street Sheakleyville Pennsylvania 16151   18    RGDifmMQAi   \n",
       "2            2419 Chipmunk Lane Portland Maine 04101   17    RGDifmMQAi   \n",
       "3      4013 Augusta Park Mullens West Virginia 25882   16    RGDifmMQAi   \n",
       "4  653 Arlington Avenue Little Rock AR Arkansas 7...   15    RGDifmMQAi   \n",
       "5                                  3079 Flint Street   22    RGDifmMQAi   \n",
       "6                                    359 Essex Court   21    RGDifmMQAi   \n",
       "7                                349 Rhapsody Street   20    RGDifmMQAi   \n",
       "\n",
       "                                 description  gender  ACL emailVerified  \n",
       "0                         highschool student  Female  NaN           NaN  \n",
       "1  want to improve herself more in education  Female  NaN           NaN  \n",
       "2                        university student.  Female  NaN           NaN  \n",
       "3                no background on education.    Male  NaN           NaN  \n",
       "4     Highschool student with strong passion  Female  NaN          True  \n",
       "5     Highschool student with strong passion    Male  NaN           NaN  \n",
       "6     Highschool student with strong passion    Male  NaN           NaN  \n",
       "7     Highschool student with strong passion  Female  NaN           NaN  "
      ]
     },
     "execution_count": 8,
     "metadata": {},
     "output_type": "execute_result"
    }
   ],
   "source": [
    "final_df_usertable"
   ]
  },
  {
   "cell_type": "markdown",
   "metadata": {},
   "source": [
    "## Exam Table"
   ]
  },
  {
   "cell_type": "code",
   "execution_count": 9,
   "metadata": {
    "scrolled": true
   },
   "outputs": [],
   "source": [
    "url = \"https://inzone-c-parse.tools.deployimpact.ch/parse/classes/UserExam\"\n",
    "querystring = {\"include\":\"userId\", \"include\":\"examId\"}\n",
    "payload = \"\"\n",
    "headers = {\n",
    "    'X-Parse-Application-Id': \"inzonec\"\n",
    "    }\n",
    "response = requests.request(\"GET\", url, data=payload, headers=headers, params=querystring)\n",
    "#print(response.text)"
   ]
  },
  {
   "cell_type": "code",
   "execution_count": 10,
   "metadata": {},
   "outputs": [],
   "source": [
    "output = response.text"
   ]
  },
  {
   "cell_type": "code",
   "execution_count": 11,
   "metadata": {},
   "outputs": [],
   "source": [
    "response_dict = json.loads(output)"
   ]
  },
  {
   "cell_type": "code",
   "execution_count": 12,
   "metadata": {},
   "outputs": [],
   "source": [
    "df_response = pd.DataFrame(response_dict)"
   ]
  },
  {
   "cell_type": "code",
   "execution_count": 13,
   "metadata": {},
   "outputs": [],
   "source": [
    "trial = []"
   ]
  },
  {
   "cell_type": "code",
   "execution_count": 14,
   "metadata": {},
   "outputs": [],
   "source": [
    "for i in range(len(df_response)):\n",
    "    ck = pd.DataFrame(df_response.results[i])\n",
    "    trial.append(ck[ck.index == 'objectId'])\n",
    "    \n",
    "final_df_examtable = pd.concat(trial, ignore_index=True)\n"
   ]
  },
  {
   "cell_type": "code",
   "execution_count": 15,
   "metadata": {
    "scrolled": true
   },
   "outputs": [
    {
     "data": {
      "text/html": [
       "<div>\n",
       "<style scoped>\n",
       "    .dataframe tbody tr th:only-of-type {\n",
       "        vertical-align: middle;\n",
       "    }\n",
       "\n",
       "    .dataframe tbody tr th {\n",
       "        vertical-align: top;\n",
       "    }\n",
       "\n",
       "    .dataframe thead th {\n",
       "        text-align: right;\n",
       "    }\n",
       "</style>\n",
       "<table border=\"1\" class=\"dataframe\">\n",
       "  <thead>\n",
       "    <tr style=\"text-align: right;\">\n",
       "      <th></th>\n",
       "      <th>objectId</th>\n",
       "      <th>thirdSection</th>\n",
       "      <th>userId</th>\n",
       "      <th>examId</th>\n",
       "      <th>createdAt</th>\n",
       "      <th>updatedAt</th>\n",
       "      <th>optionalFeedback</th>\n",
       "      <th>capstoneProjectTextFeedback</th>\n",
       "      <th>firstSection</th>\n",
       "      <th>secondSection</th>\n",
       "      <th>totalTimeToFinishSecondSection</th>\n",
       "    </tr>\n",
       "  </thead>\n",
       "  <tbody>\n",
       "    <tr>\n",
       "      <th>0</th>\n",
       "      <td>MZiDmknBr3</td>\n",
       "      <td>100</td>\n",
       "      <td>vcM0w26xi6</td>\n",
       "      <td>1EKKLfkBDR</td>\n",
       "      <td>2021-11-11T08:18:24.227Z</td>\n",
       "      <td>2021-11-19T07:53:48.290Z</td>\n",
       "      <td>MCQ section was very hard! The live question s...</td>\n",
       "      <td>I am very very happy to finish this course.</td>\n",
       "      <td>60</td>\n",
       "      <td>80</td>\n",
       "      <td>8</td>\n",
       "    </tr>\n",
       "    <tr>\n",
       "      <th>1</th>\n",
       "      <td>CH0hVcqi5S</td>\n",
       "      <td>70</td>\n",
       "      <td>e1lEFJC3hK</td>\n",
       "      <td>1EKKLfkBDR</td>\n",
       "      <td>2021-11-19T07:31:58.321Z</td>\n",
       "      <td>2021-11-19T20:00:20.882Z</td>\n",
       "      <td>I have to work hard on those questions.</td>\n",
       "      <td>The course was awesome.</td>\n",
       "      <td>45</td>\n",
       "      <td>80</td>\n",
       "      <td>8</td>\n",
       "    </tr>\n",
       "    <tr>\n",
       "      <th>2</th>\n",
       "      <td>tNSNzAvzZi</td>\n",
       "      <td>65</td>\n",
       "      <td>khUX3max7b</td>\n",
       "      <td>1EKKLfkBDR</td>\n",
       "      <td>2021-11-19T19:55:37.807Z</td>\n",
       "      <td>2021-11-26T05:53:24.634Z</td>\n",
       "      <td>Neither good nor bad. It was a normal exam.</td>\n",
       "      <td>I am very happy to finish this course.</td>\n",
       "      <td>50</td>\n",
       "      <td>80</td>\n",
       "      <td>13</td>\n",
       "    </tr>\n",
       "    <tr>\n",
       "      <th>3</th>\n",
       "      <td>NOzD7Smsqe</td>\n",
       "      <td>55</td>\n",
       "      <td>zy2Iymim8g</td>\n",
       "      <td>1EKKLfkBDR</td>\n",
       "      <td>2021-11-19T20:03:28.131Z</td>\n",
       "      <td>2021-11-19T20:05:05.991Z</td>\n",
       "      <td>I had a hard time. Why did you ask so hard?</td>\n",
       "      <td>Although the course was good, unfortunately I ...</td>\n",
       "      <td>35</td>\n",
       "      <td>40</td>\n",
       "      <td>17</td>\n",
       "    </tr>\n",
       "    <tr>\n",
       "      <th>4</th>\n",
       "      <td>ozC9SB1b0f</td>\n",
       "      <td>100</td>\n",
       "      <td>Zs9uCTRg59</td>\n",
       "      <td>1EKKLfkBDR</td>\n",
       "      <td>2021-11-19T20:06:44.311Z</td>\n",
       "      <td>2021-11-19T20:07:52.891Z</td>\n",
       "      <td>Some questions were easy, some were hard. I di...</td>\n",
       "      <td>I am very happy to have finished this course. ...</td>\n",
       "      <td>75</td>\n",
       "      <td>80</td>\n",
       "      <td>15</td>\n",
       "    </tr>\n",
       "    <tr>\n",
       "      <th>5</th>\n",
       "      <td>1Bgpkc7lXt</td>\n",
       "      <td>40</td>\n",
       "      <td>aZ0gXwjlNK</td>\n",
       "      <td>1EKKLfkBDR</td>\n",
       "      <td>2021-11-19T20:09:45.272Z</td>\n",
       "      <td>2021-11-19T20:11:14.832Z</td>\n",
       "      <td>I'm not sure about some questions but I think ...</td>\n",
       "      <td>It was a better course than I thought. If I ha...</td>\n",
       "      <td>80</td>\n",
       "      <td>60</td>\n",
       "      <td>16</td>\n",
       "    </tr>\n",
       "  </tbody>\n",
       "</table>\n",
       "</div>"
      ],
      "text/plain": [
       "     objectId  thirdSection      userId      examId                 createdAt  \\\n",
       "0  MZiDmknBr3           100  vcM0w26xi6  1EKKLfkBDR  2021-11-11T08:18:24.227Z   \n",
       "1  CH0hVcqi5S            70  e1lEFJC3hK  1EKKLfkBDR  2021-11-19T07:31:58.321Z   \n",
       "2  tNSNzAvzZi            65  khUX3max7b  1EKKLfkBDR  2021-11-19T19:55:37.807Z   \n",
       "3  NOzD7Smsqe            55  zy2Iymim8g  1EKKLfkBDR  2021-11-19T20:03:28.131Z   \n",
       "4  ozC9SB1b0f           100  Zs9uCTRg59  1EKKLfkBDR  2021-11-19T20:06:44.311Z   \n",
       "5  1Bgpkc7lXt            40  aZ0gXwjlNK  1EKKLfkBDR  2021-11-19T20:09:45.272Z   \n",
       "\n",
       "                  updatedAt  \\\n",
       "0  2021-11-19T07:53:48.290Z   \n",
       "1  2021-11-19T20:00:20.882Z   \n",
       "2  2021-11-26T05:53:24.634Z   \n",
       "3  2021-11-19T20:05:05.991Z   \n",
       "4  2021-11-19T20:07:52.891Z   \n",
       "5  2021-11-19T20:11:14.832Z   \n",
       "\n",
       "                                    optionalFeedback  \\\n",
       "0  MCQ section was very hard! The live question s...   \n",
       "1            I have to work hard on those questions.   \n",
       "2        Neither good nor bad. It was a normal exam.   \n",
       "3        I had a hard time. Why did you ask so hard?   \n",
       "4  Some questions were easy, some were hard. I di...   \n",
       "5  I'm not sure about some questions but I think ...   \n",
       "\n",
       "                         capstoneProjectTextFeedback  firstSection  \\\n",
       "0        I am very very happy to finish this course.            60   \n",
       "1                            The course was awesome.            45   \n",
       "2             I am very happy to finish this course.            50   \n",
       "3  Although the course was good, unfortunately I ...            35   \n",
       "4  I am very happy to have finished this course. ...            75   \n",
       "5  It was a better course than I thought. If I ha...            80   \n",
       "\n",
       "   secondSection  totalTimeToFinishSecondSection  \n",
       "0             80                               8  \n",
       "1             80                               8  \n",
       "2             80                              13  \n",
       "3             40                              17  \n",
       "4             80                              15  \n",
       "5             60                              16  "
      ]
     },
     "execution_count": 15,
     "metadata": {},
     "output_type": "execute_result"
    }
   ],
   "source": [
    "final_df_examtable"
   ]
  },
  {
   "cell_type": "code",
   "execution_count": 16,
   "metadata": {},
   "outputs": [],
   "source": [
    "final_df_examtable[\"overall_score\"] = final_df_examtable[\"firstSection\"] + final_df_examtable[\"secondSection\"] + final_df_examtable[\"thirdSection\"]"
   ]
  },
  {
   "cell_type": "code",
   "execution_count": 17,
   "metadata": {},
   "outputs": [],
   "source": [
    "final_df_examtable[\"overall_score_percentage\"] = (final_df_examtable[\"overall_score\"]/300) * 100"
   ]
  },
  {
   "cell_type": "code",
   "execution_count": 18,
   "metadata": {
    "scrolled": true
   },
   "outputs": [
    {
     "data": {
      "text/html": [
       "<div>\n",
       "<style scoped>\n",
       "    .dataframe tbody tr th:only-of-type {\n",
       "        vertical-align: middle;\n",
       "    }\n",
       "\n",
       "    .dataframe tbody tr th {\n",
       "        vertical-align: top;\n",
       "    }\n",
       "\n",
       "    .dataframe thead th {\n",
       "        text-align: right;\n",
       "    }\n",
       "</style>\n",
       "<table border=\"1\" class=\"dataframe\">\n",
       "  <thead>\n",
       "    <tr style=\"text-align: right;\">\n",
       "      <th></th>\n",
       "      <th>objectId</th>\n",
       "      <th>thirdSection</th>\n",
       "      <th>userId</th>\n",
       "      <th>examId</th>\n",
       "      <th>createdAt</th>\n",
       "      <th>updatedAt</th>\n",
       "      <th>optionalFeedback</th>\n",
       "      <th>capstoneProjectTextFeedback</th>\n",
       "      <th>firstSection</th>\n",
       "      <th>secondSection</th>\n",
       "      <th>totalTimeToFinishSecondSection</th>\n",
       "      <th>overall_score</th>\n",
       "      <th>overall_score_percentage</th>\n",
       "    </tr>\n",
       "  </thead>\n",
       "  <tbody>\n",
       "    <tr>\n",
       "      <th>0</th>\n",
       "      <td>MZiDmknBr3</td>\n",
       "      <td>100</td>\n",
       "      <td>vcM0w26xi6</td>\n",
       "      <td>1EKKLfkBDR</td>\n",
       "      <td>2021-11-11T08:18:24.227Z</td>\n",
       "      <td>2021-11-19T07:53:48.290Z</td>\n",
       "      <td>MCQ section was very hard! The live question s...</td>\n",
       "      <td>I am very very happy to finish this course.</td>\n",
       "      <td>60</td>\n",
       "      <td>80</td>\n",
       "      <td>8</td>\n",
       "      <td>240</td>\n",
       "      <td>80.000000</td>\n",
       "    </tr>\n",
       "    <tr>\n",
       "      <th>1</th>\n",
       "      <td>CH0hVcqi5S</td>\n",
       "      <td>70</td>\n",
       "      <td>e1lEFJC3hK</td>\n",
       "      <td>1EKKLfkBDR</td>\n",
       "      <td>2021-11-19T07:31:58.321Z</td>\n",
       "      <td>2021-11-19T20:00:20.882Z</td>\n",
       "      <td>I have to work hard on those questions.</td>\n",
       "      <td>The course was awesome.</td>\n",
       "      <td>45</td>\n",
       "      <td>80</td>\n",
       "      <td>8</td>\n",
       "      <td>195</td>\n",
       "      <td>65.000000</td>\n",
       "    </tr>\n",
       "    <tr>\n",
       "      <th>2</th>\n",
       "      <td>tNSNzAvzZi</td>\n",
       "      <td>65</td>\n",
       "      <td>khUX3max7b</td>\n",
       "      <td>1EKKLfkBDR</td>\n",
       "      <td>2021-11-19T19:55:37.807Z</td>\n",
       "      <td>2021-11-26T05:53:24.634Z</td>\n",
       "      <td>Neither good nor bad. It was a normal exam.</td>\n",
       "      <td>I am very happy to finish this course.</td>\n",
       "      <td>50</td>\n",
       "      <td>80</td>\n",
       "      <td>13</td>\n",
       "      <td>195</td>\n",
       "      <td>65.000000</td>\n",
       "    </tr>\n",
       "    <tr>\n",
       "      <th>3</th>\n",
       "      <td>NOzD7Smsqe</td>\n",
       "      <td>55</td>\n",
       "      <td>zy2Iymim8g</td>\n",
       "      <td>1EKKLfkBDR</td>\n",
       "      <td>2021-11-19T20:03:28.131Z</td>\n",
       "      <td>2021-11-19T20:05:05.991Z</td>\n",
       "      <td>I had a hard time. Why did you ask so hard?</td>\n",
       "      <td>Although the course was good, unfortunately I ...</td>\n",
       "      <td>35</td>\n",
       "      <td>40</td>\n",
       "      <td>17</td>\n",
       "      <td>130</td>\n",
       "      <td>43.333333</td>\n",
       "    </tr>\n",
       "    <tr>\n",
       "      <th>4</th>\n",
       "      <td>ozC9SB1b0f</td>\n",
       "      <td>100</td>\n",
       "      <td>Zs9uCTRg59</td>\n",
       "      <td>1EKKLfkBDR</td>\n",
       "      <td>2021-11-19T20:06:44.311Z</td>\n",
       "      <td>2021-11-19T20:07:52.891Z</td>\n",
       "      <td>Some questions were easy, some were hard. I di...</td>\n",
       "      <td>I am very happy to have finished this course. ...</td>\n",
       "      <td>75</td>\n",
       "      <td>80</td>\n",
       "      <td>15</td>\n",
       "      <td>255</td>\n",
       "      <td>85.000000</td>\n",
       "    </tr>\n",
       "    <tr>\n",
       "      <th>5</th>\n",
       "      <td>1Bgpkc7lXt</td>\n",
       "      <td>40</td>\n",
       "      <td>aZ0gXwjlNK</td>\n",
       "      <td>1EKKLfkBDR</td>\n",
       "      <td>2021-11-19T20:09:45.272Z</td>\n",
       "      <td>2021-11-19T20:11:14.832Z</td>\n",
       "      <td>I'm not sure about some questions but I think ...</td>\n",
       "      <td>It was a better course than I thought. If I ha...</td>\n",
       "      <td>80</td>\n",
       "      <td>60</td>\n",
       "      <td>16</td>\n",
       "      <td>180</td>\n",
       "      <td>60.000000</td>\n",
       "    </tr>\n",
       "  </tbody>\n",
       "</table>\n",
       "</div>"
      ],
      "text/plain": [
       "     objectId  thirdSection      userId      examId                 createdAt  \\\n",
       "0  MZiDmknBr3           100  vcM0w26xi6  1EKKLfkBDR  2021-11-11T08:18:24.227Z   \n",
       "1  CH0hVcqi5S            70  e1lEFJC3hK  1EKKLfkBDR  2021-11-19T07:31:58.321Z   \n",
       "2  tNSNzAvzZi            65  khUX3max7b  1EKKLfkBDR  2021-11-19T19:55:37.807Z   \n",
       "3  NOzD7Smsqe            55  zy2Iymim8g  1EKKLfkBDR  2021-11-19T20:03:28.131Z   \n",
       "4  ozC9SB1b0f           100  Zs9uCTRg59  1EKKLfkBDR  2021-11-19T20:06:44.311Z   \n",
       "5  1Bgpkc7lXt            40  aZ0gXwjlNK  1EKKLfkBDR  2021-11-19T20:09:45.272Z   \n",
       "\n",
       "                  updatedAt  \\\n",
       "0  2021-11-19T07:53:48.290Z   \n",
       "1  2021-11-19T20:00:20.882Z   \n",
       "2  2021-11-26T05:53:24.634Z   \n",
       "3  2021-11-19T20:05:05.991Z   \n",
       "4  2021-11-19T20:07:52.891Z   \n",
       "5  2021-11-19T20:11:14.832Z   \n",
       "\n",
       "                                    optionalFeedback  \\\n",
       "0  MCQ section was very hard! The live question s...   \n",
       "1            I have to work hard on those questions.   \n",
       "2        Neither good nor bad. It was a normal exam.   \n",
       "3        I had a hard time. Why did you ask so hard?   \n",
       "4  Some questions were easy, some were hard. I di...   \n",
       "5  I'm not sure about some questions but I think ...   \n",
       "\n",
       "                         capstoneProjectTextFeedback  firstSection  \\\n",
       "0        I am very very happy to finish this course.            60   \n",
       "1                            The course was awesome.            45   \n",
       "2             I am very happy to finish this course.            50   \n",
       "3  Although the course was good, unfortunately I ...            35   \n",
       "4  I am very happy to have finished this course. ...            75   \n",
       "5  It was a better course than I thought. If I ha...            80   \n",
       "\n",
       "   secondSection  totalTimeToFinishSecondSection  overall_score  \\\n",
       "0             80                               8            240   \n",
       "1             80                               8            195   \n",
       "2             80                              13            195   \n",
       "3             40                              17            130   \n",
       "4             80                              15            255   \n",
       "5             60                              16            180   \n",
       "\n",
       "   overall_score_percentage  \n",
       "0                 80.000000  \n",
       "1                 65.000000  \n",
       "2                 65.000000  \n",
       "3                 43.333333  \n",
       "4                 85.000000  \n",
       "5                 60.000000  "
      ]
     },
     "execution_count": 18,
     "metadata": {},
     "output_type": "execute_result"
    }
   ],
   "source": [
    "final_df_examtable"
   ]
  },
  {
   "cell_type": "markdown",
   "metadata": {},
   "source": [
    "## Average time taken to finish the exam"
   ]
  },
  {
   "cell_type": "code",
   "execution_count": 19,
   "metadata": {},
   "outputs": [
    {
     "data": {
      "text/plain": [
       "12.833333333333334"
      ]
     },
     "execution_count": 19,
     "metadata": {},
     "output_type": "execute_result"
    }
   ],
   "source": [
    "final_df_examtable[\"totalTimeToFinishSecondSection\"].mean()"
   ]
  },
  {
   "cell_type": "code",
   "execution_count": 20,
   "metadata": {},
   "outputs": [
    {
     "data": {
      "text/plain": [
       "6"
      ]
     },
     "execution_count": 20,
     "metadata": {},
     "output_type": "execute_result"
    }
   ],
   "source": [
    "len(final_df_examtable)"
   ]
  },
  {
   "cell_type": "code",
   "execution_count": 21,
   "metadata": {},
   "outputs": [],
   "source": [
    "final_df_examtable[\"gender\"] = 0\n",
    "final_df_examtable[\"age\"] = 0\n",
    "final_df_examtable[\"username\"] = 0"
   ]
  },
  {
   "cell_type": "code",
   "execution_count": 22,
   "metadata": {},
   "outputs": [
    {
     "name": "stderr",
     "output_type": "stream",
     "text": [
      "<ipython-input-22-56e3877e36bd>:4: SettingWithCopyWarning: \n",
      "A value is trying to be set on a copy of a slice from a DataFrame\n",
      "\n",
      "See the caveats in the documentation: https://pandas.pydata.org/pandas-docs/stable/user_guide/indexing.html#returning-a-view-versus-a-copy\n",
      "  final_df_examtable[\"gender\"][i] = final_df_usertable[\"gender\"][j]\n",
      "C:\\Users\\namra\\anaconda3\\lib\\site-packages\\pandas\\core\\indexing.py:671: SettingWithCopyWarning: \n",
      "A value is trying to be set on a copy of a slice from a DataFrame\n",
      "\n",
      "See the caveats in the documentation: https://pandas.pydata.org/pandas-docs/stable/user_guide/indexing.html#returning-a-view-versus-a-copy\n",
      "  self._setitem_with_indexer(indexer, value)\n",
      "<ipython-input-22-56e3877e36bd>:5: SettingWithCopyWarning: \n",
      "A value is trying to be set on a copy of a slice from a DataFrame\n",
      "\n",
      "See the caveats in the documentation: https://pandas.pydata.org/pandas-docs/stable/user_guide/indexing.html#returning-a-view-versus-a-copy\n",
      "  final_df_examtable[\"age\"][i] = final_df_usertable[\"age\"][j]\n",
      "<ipython-input-22-56e3877e36bd>:6: SettingWithCopyWarning: \n",
      "A value is trying to be set on a copy of a slice from a DataFrame\n",
      "\n",
      "See the caveats in the documentation: https://pandas.pydata.org/pandas-docs/stable/user_guide/indexing.html#returning-a-view-versus-a-copy\n",
      "  final_df_examtable[\"username\"][i] = final_df_usertable[\"username\"][j]\n"
     ]
    }
   ],
   "source": [
    "for i in range(len(final_df_examtable)):\n",
    "    for j in range(len(final_df_usertable)):\n",
    "        if (final_df_examtable['userId'][i]==final_df_usertable[\"objectId\"][j]):\n",
    "            final_df_examtable[\"gender\"][i] = final_df_usertable[\"gender\"][j]\n",
    "            final_df_examtable[\"age\"][i] = final_df_usertable[\"age\"][j]\n",
    "            final_df_examtable[\"username\"][i] = final_df_usertable[\"username\"][j]"
   ]
  },
  {
   "cell_type": "code",
   "execution_count": 23,
   "metadata": {},
   "outputs": [
    {
     "data": {
      "text/html": [
       "<div>\n",
       "<style scoped>\n",
       "    .dataframe tbody tr th:only-of-type {\n",
       "        vertical-align: middle;\n",
       "    }\n",
       "\n",
       "    .dataframe tbody tr th {\n",
       "        vertical-align: top;\n",
       "    }\n",
       "\n",
       "    .dataframe thead th {\n",
       "        text-align: right;\n",
       "    }\n",
       "</style>\n",
       "<table border=\"1\" class=\"dataframe\">\n",
       "  <thead>\n",
       "    <tr style=\"text-align: right;\">\n",
       "      <th></th>\n",
       "      <th>objectId</th>\n",
       "      <th>thirdSection</th>\n",
       "      <th>userId</th>\n",
       "      <th>examId</th>\n",
       "      <th>createdAt</th>\n",
       "      <th>updatedAt</th>\n",
       "      <th>optionalFeedback</th>\n",
       "      <th>capstoneProjectTextFeedback</th>\n",
       "      <th>firstSection</th>\n",
       "      <th>secondSection</th>\n",
       "      <th>totalTimeToFinishSecondSection</th>\n",
       "      <th>overall_score</th>\n",
       "      <th>overall_score_percentage</th>\n",
       "      <th>gender</th>\n",
       "      <th>age</th>\n",
       "      <th>username</th>\n",
       "    </tr>\n",
       "  </thead>\n",
       "  <tbody>\n",
       "    <tr>\n",
       "      <th>0</th>\n",
       "      <td>MZiDmknBr3</td>\n",
       "      <td>100</td>\n",
       "      <td>vcM0w26xi6</td>\n",
       "      <td>1EKKLfkBDR</td>\n",
       "      <td>2021-11-11T08:18:24.227Z</td>\n",
       "      <td>2021-11-19T07:53:48.290Z</td>\n",
       "      <td>MCQ section was very hard! The live question s...</td>\n",
       "      <td>I am very very happy to finish this course.</td>\n",
       "      <td>60</td>\n",
       "      <td>80</td>\n",
       "      <td>8</td>\n",
       "      <td>240</td>\n",
       "      <td>80.000000</td>\n",
       "      <td>Female</td>\n",
       "      <td>20</td>\n",
       "      <td>zakia</td>\n",
       "    </tr>\n",
       "    <tr>\n",
       "      <th>1</th>\n",
       "      <td>CH0hVcqi5S</td>\n",
       "      <td>70</td>\n",
       "      <td>e1lEFJC3hK</td>\n",
       "      <td>1EKKLfkBDR</td>\n",
       "      <td>2021-11-19T07:31:58.321Z</td>\n",
       "      <td>2021-11-19T20:00:20.882Z</td>\n",
       "      <td>I have to work hard on those questions.</td>\n",
       "      <td>The course was awesome.</td>\n",
       "      <td>45</td>\n",
       "      <td>80</td>\n",
       "      <td>8</td>\n",
       "      <td>195</td>\n",
       "      <td>65.000000</td>\n",
       "      <td>Female</td>\n",
       "      <td>19</td>\n",
       "      <td>giada</td>\n",
       "    </tr>\n",
       "    <tr>\n",
       "      <th>2</th>\n",
       "      <td>tNSNzAvzZi</td>\n",
       "      <td>65</td>\n",
       "      <td>khUX3max7b</td>\n",
       "      <td>1EKKLfkBDR</td>\n",
       "      <td>2021-11-19T19:55:37.807Z</td>\n",
       "      <td>2021-11-26T05:53:24.634Z</td>\n",
       "      <td>Neither good nor bad. It was a normal exam.</td>\n",
       "      <td>I am very happy to finish this course.</td>\n",
       "      <td>50</td>\n",
       "      <td>80</td>\n",
       "      <td>13</td>\n",
       "      <td>195</td>\n",
       "      <td>65.000000</td>\n",
       "      <td>Female</td>\n",
       "      <td>15</td>\n",
       "      <td>juliet</td>\n",
       "    </tr>\n",
       "    <tr>\n",
       "      <th>3</th>\n",
       "      <td>NOzD7Smsqe</td>\n",
       "      <td>55</td>\n",
       "      <td>zy2Iymim8g</td>\n",
       "      <td>1EKKLfkBDR</td>\n",
       "      <td>2021-11-19T20:03:28.131Z</td>\n",
       "      <td>2021-11-19T20:05:05.991Z</td>\n",
       "      <td>I had a hard time. Why did you ask so hard?</td>\n",
       "      <td>Although the course was good, unfortunately I ...</td>\n",
       "      <td>35</td>\n",
       "      <td>40</td>\n",
       "      <td>17</td>\n",
       "      <td>130</td>\n",
       "      <td>43.333333</td>\n",
       "      <td>Male</td>\n",
       "      <td>16</td>\n",
       "      <td>gioele</td>\n",
       "    </tr>\n",
       "    <tr>\n",
       "      <th>4</th>\n",
       "      <td>ozC9SB1b0f</td>\n",
       "      <td>100</td>\n",
       "      <td>Zs9uCTRg59</td>\n",
       "      <td>1EKKLfkBDR</td>\n",
       "      <td>2021-11-19T20:06:44.311Z</td>\n",
       "      <td>2021-11-19T20:07:52.891Z</td>\n",
       "      <td>Some questions were easy, some were hard. I di...</td>\n",
       "      <td>I am very happy to have finished this course. ...</td>\n",
       "      <td>75</td>\n",
       "      <td>80</td>\n",
       "      <td>15</td>\n",
       "      <td>255</td>\n",
       "      <td>85.000000</td>\n",
       "      <td>Female</td>\n",
       "      <td>17</td>\n",
       "      <td>marta</td>\n",
       "    </tr>\n",
       "    <tr>\n",
       "      <th>5</th>\n",
       "      <td>1Bgpkc7lXt</td>\n",
       "      <td>40</td>\n",
       "      <td>aZ0gXwjlNK</td>\n",
       "      <td>1EKKLfkBDR</td>\n",
       "      <td>2021-11-19T20:09:45.272Z</td>\n",
       "      <td>2021-11-19T20:11:14.832Z</td>\n",
       "      <td>I'm not sure about some questions but I think ...</td>\n",
       "      <td>It was a better course than I thought. If I ha...</td>\n",
       "      <td>80</td>\n",
       "      <td>60</td>\n",
       "      <td>16</td>\n",
       "      <td>180</td>\n",
       "      <td>60.000000</td>\n",
       "      <td>Female</td>\n",
       "      <td>18</td>\n",
       "      <td>namrata</td>\n",
       "    </tr>\n",
       "  </tbody>\n",
       "</table>\n",
       "</div>"
      ],
      "text/plain": [
       "     objectId  thirdSection      userId      examId                 createdAt  \\\n",
       "0  MZiDmknBr3           100  vcM0w26xi6  1EKKLfkBDR  2021-11-11T08:18:24.227Z   \n",
       "1  CH0hVcqi5S            70  e1lEFJC3hK  1EKKLfkBDR  2021-11-19T07:31:58.321Z   \n",
       "2  tNSNzAvzZi            65  khUX3max7b  1EKKLfkBDR  2021-11-19T19:55:37.807Z   \n",
       "3  NOzD7Smsqe            55  zy2Iymim8g  1EKKLfkBDR  2021-11-19T20:03:28.131Z   \n",
       "4  ozC9SB1b0f           100  Zs9uCTRg59  1EKKLfkBDR  2021-11-19T20:06:44.311Z   \n",
       "5  1Bgpkc7lXt            40  aZ0gXwjlNK  1EKKLfkBDR  2021-11-19T20:09:45.272Z   \n",
       "\n",
       "                  updatedAt  \\\n",
       "0  2021-11-19T07:53:48.290Z   \n",
       "1  2021-11-19T20:00:20.882Z   \n",
       "2  2021-11-26T05:53:24.634Z   \n",
       "3  2021-11-19T20:05:05.991Z   \n",
       "4  2021-11-19T20:07:52.891Z   \n",
       "5  2021-11-19T20:11:14.832Z   \n",
       "\n",
       "                                    optionalFeedback  \\\n",
       "0  MCQ section was very hard! The live question s...   \n",
       "1            I have to work hard on those questions.   \n",
       "2        Neither good nor bad. It was a normal exam.   \n",
       "3        I had a hard time. Why did you ask so hard?   \n",
       "4  Some questions were easy, some were hard. I di...   \n",
       "5  I'm not sure about some questions but I think ...   \n",
       "\n",
       "                         capstoneProjectTextFeedback  firstSection  \\\n",
       "0        I am very very happy to finish this course.            60   \n",
       "1                            The course was awesome.            45   \n",
       "2             I am very happy to finish this course.            50   \n",
       "3  Although the course was good, unfortunately I ...            35   \n",
       "4  I am very happy to have finished this course. ...            75   \n",
       "5  It was a better course than I thought. If I ha...            80   \n",
       "\n",
       "   secondSection  totalTimeToFinishSecondSection  overall_score  \\\n",
       "0             80                               8            240   \n",
       "1             80                               8            195   \n",
       "2             80                              13            195   \n",
       "3             40                              17            130   \n",
       "4             80                              15            255   \n",
       "5             60                              16            180   \n",
       "\n",
       "   overall_score_percentage  gender  age username  \n",
       "0                 80.000000  Female   20    zakia  \n",
       "1                 65.000000  Female   19    giada  \n",
       "2                 65.000000  Female   15   juliet  \n",
       "3                 43.333333    Male   16   gioele  \n",
       "4                 85.000000  Female   17    marta  \n",
       "5                 60.000000  Female   18  namrata  "
      ]
     },
     "execution_count": 23,
     "metadata": {},
     "output_type": "execute_result"
    }
   ],
   "source": [
    "final_df_examtable"
   ]
  },
  {
   "cell_type": "markdown",
   "metadata": {},
   "source": [
    "# Analysis of the Exam Scores"
   ]
  },
  {
   "cell_type": "code",
   "execution_count": 24,
   "metadata": {},
   "outputs": [
    {
     "data": {
      "image/png": "[encoded data removed]",
      "text/plain": [
       "<Figure size 432x288 with 1 Axes>"
      ]
     },
     "metadata": {
      "needs_background": "light"
     },
     "output_type": "display_data"
    }
   ],
   "source": [
    "fig, ax = plt.subplots()\n",
    "sns.histplot(data=final_df_examtable, x=\"overall_score_percentage\", color=\"#F8BE48\", binwidth=10, ax = ax)\n",
    "ax.set_xlim(0,100)\n",
    "plt.show()\n",
    "#fig.savefig(\"overallscorepercentage.png\")"
   ]
  },
  {
   "cell_type": "code",
   "execution_count": 25,
   "metadata": {},
   "outputs": [
    {
     "data": {
      "image/png": "[encoded data removed]",
      "text/plain": [
       "<Figure size 432x288 with 1 Axes>"
      ]
     },
     "metadata": {
      "needs_background": "light"
     },
     "output_type": "display_data"
    }
   ],
   "source": [
    "fig, ax = plt.subplots()\n",
    "sns.histplot(data=final_df_examtable, x=\"firstSection\", color=\"#F8BE48\", binwidth=10)\n",
    "ax.set_xlim(0,100)\n",
    "plt.show()"
   ]
  },
  {
   "cell_type": "code",
   "execution_count": 26,
   "metadata": {},
   "outputs": [
    {
     "data": {
      "image/png": "[encoded data removed]",
      "text/plain": [
       "<Figure size 432x288 with 1 Axes>"
      ]
     },
     "metadata": {
      "needs_background": "light"
     },
     "output_type": "display_data"
    }
   ],
   "source": [
    "fig, ax = plt.subplots()\n",
    "sns.histplot(data=final_df_examtable, x=\"secondSection\", color=\"#F8BE48\", binwidth = 10)\n",
    "ax.set_xlim(0,100)\n",
    "plt.show()"
   ]
  },
  {
   "cell_type": "code",
   "execution_count": 27,
   "metadata": {},
   "outputs": [
    {
     "data": {
      "image/png": "[encoded data removed]",
      "text/plain": [
       "<Figure size 432x288 with 1 Axes>"
      ]
     },
     "metadata": {
      "needs_background": "light"
     },
     "output_type": "display_data"
    }
   ],
   "source": [
    "fig, ax = plt.subplots()\n",
    "sns.histplot(data=final_df_examtable, x=\"thirdSection\", color=\"#F8BE48\", binwidth = 10)\n",
    "ax.set_xlim(0,100)\n",
    "plt.show()"
   ]
  },
  {
   "cell_type": "code",
   "execution_count": 28,
   "metadata": {},
   "outputs": [
    {
     "data": {
      "image/png": "[encoded data removed]",
      "text/plain": [
       "<Figure size 432x288 with 1 Axes>"
      ]
     },
     "metadata": {
      "needs_background": "light"
     },
     "output_type": "display_data"
    }
   ],
   "source": [
    "fig, ax = plt.subplots()\n",
    "sns.scatterplot(data=final_df_examtable, x=\"username\", y=\"overall_score_percentage\", hue=\"gender\", s = 70)\n",
    "ax.set_ylim(0,100)\n",
    "plt.show()\n",
    "#fig.savefig(\"gender_marks.png\")"
   ]
  },
  {
   "cell_type": "code",
   "execution_count": 29,
   "metadata": {},
   "outputs": [
    {
     "data": {
      "image/png": "[encoded data removed]",
      "text/plain": [
       "<Figure size 432x288 with 1 Axes>"
      ]
     },
     "metadata": {
      "needs_background": "light"
     },
     "output_type": "display_data"
    }
   ],
   "source": [
    "fig, ax = plt.subplots()\n",
    "sns.scatterplot(data=final_df_examtable, x=\"username\", y=\"overall_score_percentage\", hue=\"age\", s = 70, palette = \"rocket\")\n",
    "ax.set_ylim(0,100)\n",
    "plt.show()\n",
    "fig.savefig(\"age_marks.png\")"
   ]
  },
  {
   "cell_type": "markdown",
   "metadata": {},
   "source": [
    "# Multiple Choice Questions Table"
   ]
  },
  {
   "cell_type": "code",
   "execution_count": 56,
   "metadata": {
    "scrolled": true
   },
   "outputs": [],
   "source": [
    "url = \"https://inzone-c-parse.tools.deployimpact.ch/parse/classes/MultipleChoiceQuestion\"\n",
    "querystring = {}\n",
    "payload = \"\"\n",
    "headers = {\n",
    "    'X-Parse-Application-Id': \"inzonec\"\n",
    "    }\n",
    "response = requests.request(\"GET\", url, data=payload, headers=headers, params=querystring)\n",
    "#print(response.text)"
   ]
  },
  {
   "cell_type": "code",
   "execution_count": 57,
   "metadata": {},
   "outputs": [],
   "source": [
    "output = response.text"
   ]
  },
  {
   "cell_type": "code",
   "execution_count": 58,
   "metadata": {},
   "outputs": [],
   "source": [
    "response_dict = json.loads(output)"
   ]
  },
  {
   "cell_type": "code",
   "execution_count": 59,
   "metadata": {},
   "outputs": [],
   "source": [
    "df_response = pd.DataFrame(response_dict)"
   ]
  },
  {
   "cell_type": "code",
   "execution_count": 60,
   "metadata": {},
   "outputs": [],
   "source": [
    "trial = []"
   ]
  },
  {
   "cell_type": "code",
   "execution_count": 61,
   "metadata": {},
   "outputs": [],
   "source": [
    "for i in range(len(df_response)):\n",
    "    ck = pd.DataFrame(df_response.results[i])\n",
    "    trial.append(ck[ck.index == 'objectId'])\n",
    "    \n",
    "final_df_MCQtable = pd.concat(trial, ignore_index=True)\n"
   ]
  },
  {
   "cell_type": "code",
   "execution_count": 64,
   "metadata": {
    "scrolled": true
   },
   "outputs": [
    {
     "data": {
      "text/html": [
       "<div>\n",
       "<style scoped>\n",
       "    .dataframe tbody tr th:only-of-type {\n",
       "        vertical-align: middle;\n",
       "    }\n",
       "\n",
       "    .dataframe tbody tr th {\n",
       "        vertical-align: top;\n",
       "    }\n",
       "\n",
       "    .dataframe thead th {\n",
       "        text-align: right;\n",
       "    }\n",
       "</style>\n",
       "<table border=\"1\" class=\"dataframe\">\n",
       "  <thead>\n",
       "    <tr style=\"text-align: right;\">\n",
       "      <th></th>\n",
       "      <th>objectId</th>\n",
       "      <th>answerA</th>\n",
       "      <th>question</th>\n",
       "      <th>answerB</th>\n",
       "      <th>answerC</th>\n",
       "      <th>answerD</th>\n",
       "      <th>trueAnswer</th>\n",
       "      <th>createdAt</th>\n",
       "      <th>updatedAt</th>\n",
       "      <th>examId</th>\n",
       "    </tr>\n",
       "  </thead>\n",
       "  <tbody>\n",
       "    <tr>\n",
       "      <th>0</th>\n",
       "      <td>HZQ9LBYy07</td>\n",
       "      <td>4</td>\n",
       "      <td>What is 2 + 2?</td>\n",
       "      <td>2</td>\n",
       "      <td>3</td>\n",
       "      <td>1</td>\n",
       "      <td>1</td>\n",
       "      <td>2021-10-27T12:31:59.064Z</td>\n",
       "      <td>2021-10-28T07:54:20.256Z</td>\n",
       "      <td>1EKKLfkBDR</td>\n",
       "    </tr>\n",
       "    <tr>\n",
       "      <th>1</th>\n",
       "      <td>XxfMEUBz2K</td>\n",
       "      <td>8</td>\n",
       "      <td>What is 4 + 4?</td>\n",
       "      <td>10</td>\n",
       "      <td>12</td>\n",
       "      <td>14</td>\n",
       "      <td>1</td>\n",
       "      <td>2021-10-27T12:42:19.886Z</td>\n",
       "      <td>2021-10-28T07:54:24.674Z</td>\n",
       "      <td>1EKKLfkBDR</td>\n",
       "    </tr>\n",
       "    <tr>\n",
       "      <th>2</th>\n",
       "      <td>KraRmlAdki</td>\n",
       "      <td>15</td>\n",
       "      <td>What is 5 + 5?</td>\n",
       "      <td>20</td>\n",
       "      <td>5</td>\n",
       "      <td>10</td>\n",
       "      <td>4</td>\n",
       "      <td>2021-10-27T12:43:11.208Z</td>\n",
       "      <td>2021-10-28T07:54:21.728Z</td>\n",
       "      <td>1EKKLfkBDR</td>\n",
       "    </tr>\n",
       "    <tr>\n",
       "      <th>3</th>\n",
       "      <td>4qItIo2aSp</td>\n",
       "      <td>12</td>\n",
       "      <td>What is 8 + 5?</td>\n",
       "      <td>13</td>\n",
       "      <td>16</td>\n",
       "      <td>25</td>\n",
       "      <td>2</td>\n",
       "      <td>2021-10-27T12:43:47.227Z</td>\n",
       "      <td>2021-10-28T07:54:28.196Z</td>\n",
       "      <td>1EKKLfkBDR</td>\n",
       "    </tr>\n",
       "    <tr>\n",
       "      <th>4</th>\n",
       "      <td>A7VehTbDkj</td>\n",
       "      <td>36</td>\n",
       "      <td>What is 10 + 4?</td>\n",
       "      <td>20</td>\n",
       "      <td>14</td>\n",
       "      <td>25</td>\n",
       "      <td>3</td>\n",
       "      <td>2021-10-28T07:54:00.535Z</td>\n",
       "      <td>2021-10-29T08:44:04.911Z</td>\n",
       "      <td>1EKKLfkBDR</td>\n",
       "    </tr>\n",
       "  </tbody>\n",
       "</table>\n",
       "</div>"
      ],
      "text/plain": [
       "     objectId answerA         question answerB answerC answerD  trueAnswer  \\\n",
       "0  HZQ9LBYy07       4   What is 2 + 2?       2       3       1           1   \n",
       "1  XxfMEUBz2K       8   What is 4 + 4?      10      12      14           1   \n",
       "2  KraRmlAdki      15   What is 5 + 5?      20       5      10           4   \n",
       "3  4qItIo2aSp      12   What is 8 + 5?      13      16      25           2   \n",
       "4  A7VehTbDkj      36  What is 10 + 4?      20      14      25           3   \n",
       "\n",
       "                  createdAt                 updatedAt      examId  \n",
       "0  2021-10-27T12:31:59.064Z  2021-10-28T07:54:20.256Z  1EKKLfkBDR  \n",
       "1  2021-10-27T12:42:19.886Z  2021-10-28T07:54:24.674Z  1EKKLfkBDR  \n",
       "2  2021-10-27T12:43:11.208Z  2021-10-28T07:54:21.728Z  1EKKLfkBDR  \n",
       "3  2021-10-27T12:43:47.227Z  2021-10-28T07:54:28.196Z  1EKKLfkBDR  \n",
       "4  2021-10-28T07:54:00.535Z  2021-10-29T08:44:04.911Z  1EKKLfkBDR  "
      ]
     },
     "execution_count": 64,
     "metadata": {},
     "output_type": "execute_result"
    }
   ],
   "source": [
    "final_df_MCQtable"
   ]
  },
  {
   "cell_type": "code",
   "execution_count": 63,
   "metadata": {},
   "outputs": [],
   "source": [
    "#remove NaN columns and unidentifiable rows (temporary fix as last columns and rows were added last minute)\n",
    "final_df_MCQtable = final_df_MCQtable.iloc[:, :-10]\n",
    "final_df_MCQtable = final_df_MCQtable.head(-3)"
   ]
  },
  {
   "cell_type": "markdown",
   "metadata": {},
   "source": [
    "# MCQ answers of all users"
   ]
  },
  {
   "cell_type": "code",
   "execution_count": 65,
   "metadata": {
    "scrolled": true
   },
   "outputs": [],
   "source": [
    "url = \"https://inzone-c-parse.tools.deployimpact.ch/parse/classes/UserMCQAnswer\"\n",
    "querystring = {}\n",
    "payload = \"\"\n",
    "headers = {\n",
    "    'X-Parse-Application-Id': \"inzonec\"\n",
    "    }\n",
    "response = requests.request(\"GET\", url, data=payload, headers=headers, params=querystring)\n",
    "#print(response.text)"
   ]
  },
  {
   "cell_type": "code",
   "execution_count": 66,
   "metadata": {},
   "outputs": [],
   "source": [
    "output = response.text"
   ]
  },
  {
   "cell_type": "code",
   "execution_count": 67,
   "metadata": {},
   "outputs": [],
   "source": [
    "response_dict = json.loads(output)"
   ]
  },
  {
   "cell_type": "code",
   "execution_count": 68,
   "metadata": {},
   "outputs": [],
   "source": [
    "df_response = pd.DataFrame(response_dict)"
   ]
  },
  {
   "cell_type": "code",
   "execution_count": 69,
   "metadata": {},
   "outputs": [],
   "source": [
    "trial = []"
   ]
  },
  {
   "cell_type": "code",
   "execution_count": 70,
   "metadata": {},
   "outputs": [],
   "source": [
    "for i in range(len(df_response)):\n",
    "    ck = pd.DataFrame(df_response.results[i])\n",
    "    trial.append(ck[ck.index == 'objectId'])\n",
    "    \n",
    "final_df_MCQAns = pd.concat(trial, ignore_index=True)"
   ]
  },
  {
   "cell_type": "code",
   "execution_count": 71,
   "metadata": {
    "scrolled": true
   },
   "outputs": [
    {
     "data": {
      "text/html": [
       "<div>\n",
       "<style scoped>\n",
       "    .dataframe tbody tr th:only-of-type {\n",
       "        vertical-align: middle;\n",
       "    }\n",
       "\n",
       "    .dataframe tbody tr th {\n",
       "        vertical-align: top;\n",
       "    }\n",
       "\n",
       "    .dataframe thead th {\n",
       "        text-align: right;\n",
       "    }\n",
       "</style>\n",
       "<table border=\"1\" class=\"dataframe\">\n",
       "  <thead>\n",
       "    <tr style=\"text-align: right;\">\n",
       "      <th></th>\n",
       "      <th>objectId</th>\n",
       "      <th>answer</th>\n",
       "      <th>howManySecondsPassed</th>\n",
       "      <th>questionId</th>\n",
       "      <th>userId</th>\n",
       "      <th>createdAt</th>\n",
       "      <th>updatedAt</th>\n",
       "    </tr>\n",
       "  </thead>\n",
       "  <tbody>\n",
       "    <tr>\n",
       "      <th>0</th>\n",
       "      <td>V5CJCArRvZ</td>\n",
       "      <td>1</td>\n",
       "      <td>1</td>\n",
       "      <td>HZQ9LBYy07</td>\n",
       "      <td>vcM0w26xi6</td>\n",
       "      <td>2021-11-18T14:07:47.456Z</td>\n",
       "      <td>2021-11-18T14:07:47.456Z</td>\n",
       "    </tr>\n",
       "    <tr>\n",
       "      <th>1</th>\n",
       "      <td>DrGD2RUHdP</td>\n",
       "      <td>2</td>\n",
       "      <td>2</td>\n",
       "      <td>XxfMEUBz2K</td>\n",
       "      <td>vcM0w26xi6</td>\n",
       "      <td>2021-11-18T14:07:49.346Z</td>\n",
       "      <td>2021-11-18T14:07:49.346Z</td>\n",
       "    </tr>\n",
       "    <tr>\n",
       "      <th>2</th>\n",
       "      <td>aNQ78oBfPi</td>\n",
       "      <td>4</td>\n",
       "      <td>1</td>\n",
       "      <td>KraRmlAdki</td>\n",
       "      <td>vcM0w26xi6</td>\n",
       "      <td>2021-11-18T14:07:50.776Z</td>\n",
       "      <td>2021-11-18T14:07:50.776Z</td>\n",
       "    </tr>\n",
       "    <tr>\n",
       "      <th>3</th>\n",
       "      <td>tMTWPB61Dy</td>\n",
       "      <td>2</td>\n",
       "      <td>2</td>\n",
       "      <td>4qItIo2aSp</td>\n",
       "      <td>vcM0w26xi6</td>\n",
       "      <td>2021-11-18T14:07:52.318Z</td>\n",
       "      <td>2021-11-18T14:07:52.318Z</td>\n",
       "    </tr>\n",
       "    <tr>\n",
       "      <th>4</th>\n",
       "      <td>gG2gDSn6t1</td>\n",
       "      <td>3</td>\n",
       "      <td>2</td>\n",
       "      <td>A7VehTbDkj</td>\n",
       "      <td>vcM0w26xi6</td>\n",
       "      <td>2021-11-18T14:07:54.546Z</td>\n",
       "      <td>2021-11-18T14:07:54.546Z</td>\n",
       "    </tr>\n",
       "    <tr>\n",
       "      <th>5</th>\n",
       "      <td>eInMMXdyPf</td>\n",
       "      <td>1</td>\n",
       "      <td>1</td>\n",
       "      <td>HZQ9LBYy07</td>\n",
       "      <td>e1lEFJC3hK</td>\n",
       "      <td>2021-11-19T07:45:27.348Z</td>\n",
       "      <td>2021-11-19T07:45:48.550Z</td>\n",
       "    </tr>\n",
       "    <tr>\n",
       "      <th>6</th>\n",
       "      <td>WYQ9CeFxHz</td>\n",
       "      <td>2</td>\n",
       "      <td>2</td>\n",
       "      <td>XxfMEUBz2K</td>\n",
       "      <td>e1lEFJC3hK</td>\n",
       "      <td>2021-11-19T07:45:28.909Z</td>\n",
       "      <td>2021-11-19T07:45:28.909Z</td>\n",
       "    </tr>\n",
       "    <tr>\n",
       "      <th>7</th>\n",
       "      <td>JiA6gQ35zA</td>\n",
       "      <td>4</td>\n",
       "      <td>1</td>\n",
       "      <td>KraRmlAdki</td>\n",
       "      <td>e1lEFJC3hK</td>\n",
       "      <td>2021-11-19T07:45:32.939Z</td>\n",
       "      <td>2021-11-19T07:45:50.049Z</td>\n",
       "    </tr>\n",
       "    <tr>\n",
       "      <th>8</th>\n",
       "      <td>GU8WxVdWGK</td>\n",
       "      <td>2</td>\n",
       "      <td>2</td>\n",
       "      <td>4qItIo2aSp</td>\n",
       "      <td>e1lEFJC3hK</td>\n",
       "      <td>2021-11-19T07:45:34.621Z</td>\n",
       "      <td>2021-11-19T07:45:59.455Z</td>\n",
       "    </tr>\n",
       "    <tr>\n",
       "      <th>9</th>\n",
       "      <td>DQTLDSGooC</td>\n",
       "      <td>3</td>\n",
       "      <td>2</td>\n",
       "      <td>A7VehTbDkj</td>\n",
       "      <td>e1lEFJC3hK</td>\n",
       "      <td>2021-11-19T07:45:36.899Z</td>\n",
       "      <td>2021-11-19T07:45:36.899Z</td>\n",
       "    </tr>\n",
       "    <tr>\n",
       "      <th>10</th>\n",
       "      <td>W4KItbdSfx</td>\n",
       "      <td>1</td>\n",
       "      <td>3</td>\n",
       "      <td>HZQ9LBYy07</td>\n",
       "      <td>zy2Iymim8g</td>\n",
       "      <td>2021-11-19T20:03:36.813Z</td>\n",
       "      <td>2021-11-19T20:03:36.813Z</td>\n",
       "    </tr>\n",
       "    <tr>\n",
       "      <th>11</th>\n",
       "      <td>lRfuOlhGxm</td>\n",
       "      <td>2</td>\n",
       "      <td>4</td>\n",
       "      <td>XxfMEUBz2K</td>\n",
       "      <td>zy2Iymim8g</td>\n",
       "      <td>2021-11-19T20:03:40.291Z</td>\n",
       "      <td>2021-11-19T20:03:40.291Z</td>\n",
       "    </tr>\n",
       "    <tr>\n",
       "      <th>12</th>\n",
       "      <td>Pm7aUqjYld</td>\n",
       "      <td>1</td>\n",
       "      <td>3</td>\n",
       "      <td>KraRmlAdki</td>\n",
       "      <td>zy2Iymim8g</td>\n",
       "      <td>2021-11-19T20:03:44.021Z</td>\n",
       "      <td>2021-11-19T20:03:44.021Z</td>\n",
       "    </tr>\n",
       "    <tr>\n",
       "      <th>13</th>\n",
       "      <td>63E9kcYmzA</td>\n",
       "      <td>2</td>\n",
       "      <td>3</td>\n",
       "      <td>4qItIo2aSp</td>\n",
       "      <td>zy2Iymim8g</td>\n",
       "      <td>2021-11-19T20:03:46.731Z</td>\n",
       "      <td>2021-11-19T20:03:46.731Z</td>\n",
       "    </tr>\n",
       "    <tr>\n",
       "      <th>14</th>\n",
       "      <td>GpOEyZpgOo</td>\n",
       "      <td>4</td>\n",
       "      <td>4</td>\n",
       "      <td>A7VehTbDkj</td>\n",
       "      <td>zy2Iymim8g</td>\n",
       "      <td>2021-11-19T20:03:51.113Z</td>\n",
       "      <td>2021-11-19T20:03:51.113Z</td>\n",
       "    </tr>\n",
       "    <tr>\n",
       "      <th>15</th>\n",
       "      <td>7lY3Ienf8h</td>\n",
       "      <td>1</td>\n",
       "      <td>2</td>\n",
       "      <td>HZQ9LBYy07</td>\n",
       "      <td>Zs9uCTRg59</td>\n",
       "      <td>2021-11-19T20:06:49.972Z</td>\n",
       "      <td>2021-11-19T20:06:49.972Z</td>\n",
       "    </tr>\n",
       "    <tr>\n",
       "      <th>16</th>\n",
       "      <td>FDhvA2G7ms</td>\n",
       "      <td>1</td>\n",
       "      <td>5</td>\n",
       "      <td>XxfMEUBz2K</td>\n",
       "      <td>Zs9uCTRg59</td>\n",
       "      <td>2021-11-19T20:06:55.561Z</td>\n",
       "      <td>2021-11-19T20:06:55.561Z</td>\n",
       "    </tr>\n",
       "    <tr>\n",
       "      <th>17</th>\n",
       "      <td>ihaYek2RpQ</td>\n",
       "      <td>4</td>\n",
       "      <td>3</td>\n",
       "      <td>KraRmlAdki</td>\n",
       "      <td>Zs9uCTRg59</td>\n",
       "      <td>2021-11-19T20:06:57.933Z</td>\n",
       "      <td>2021-11-19T20:06:57.933Z</td>\n",
       "    </tr>\n",
       "    <tr>\n",
       "      <th>18</th>\n",
       "      <td>XY1GYfFXKe</td>\n",
       "      <td>2</td>\n",
       "      <td>2</td>\n",
       "      <td>4qItIo2aSp</td>\n",
       "      <td>Zs9uCTRg59</td>\n",
       "      <td>2021-11-19T20:07:00.737Z</td>\n",
       "      <td>2021-11-19T20:07:00.737Z</td>\n",
       "    </tr>\n",
       "    <tr>\n",
       "      <th>19</th>\n",
       "      <td>4UEFg1KysC</td>\n",
       "      <td>2</td>\n",
       "      <td>3</td>\n",
       "      <td>A7VehTbDkj</td>\n",
       "      <td>Zs9uCTRg59</td>\n",
       "      <td>2021-11-19T20:07:03.719Z</td>\n",
       "      <td>2021-11-19T20:07:03.719Z</td>\n",
       "    </tr>\n",
       "    <tr>\n",
       "      <th>20</th>\n",
       "      <td>6HVUvAJHDo</td>\n",
       "      <td>1</td>\n",
       "      <td>3</td>\n",
       "      <td>HZQ9LBYy07</td>\n",
       "      <td>aZ0gXwjlNK</td>\n",
       "      <td>2021-11-19T20:10:01.912Z</td>\n",
       "      <td>2021-11-19T20:10:01.912Z</td>\n",
       "    </tr>\n",
       "    <tr>\n",
       "      <th>21</th>\n",
       "      <td>KcO3ZVBKIP</td>\n",
       "      <td>3</td>\n",
       "      <td>4</td>\n",
       "      <td>XxfMEUBz2K</td>\n",
       "      <td>aZ0gXwjlNK</td>\n",
       "      <td>2021-11-19T20:10:05.531Z</td>\n",
       "      <td>2021-11-19T20:10:05.531Z</td>\n",
       "    </tr>\n",
       "    <tr>\n",
       "      <th>22</th>\n",
       "      <td>rqemAzEIJQ</td>\n",
       "      <td>1</td>\n",
       "      <td>5</td>\n",
       "      <td>KraRmlAdki</td>\n",
       "      <td>aZ0gXwjlNK</td>\n",
       "      <td>2021-11-19T20:10:11.402Z</td>\n",
       "      <td>2021-11-19T20:10:11.402Z</td>\n",
       "    </tr>\n",
       "    <tr>\n",
       "      <th>23</th>\n",
       "      <td>2SGFVgEXJW</td>\n",
       "      <td>2</td>\n",
       "      <td>2</td>\n",
       "      <td>4qItIo2aSp</td>\n",
       "      <td>aZ0gXwjlNK</td>\n",
       "      <td>2021-11-19T20:10:13.243Z</td>\n",
       "      <td>2021-11-19T20:10:13.243Z</td>\n",
       "    </tr>\n",
       "    <tr>\n",
       "      <th>24</th>\n",
       "      <td>0YTUY13ku5</td>\n",
       "      <td>3</td>\n",
       "      <td>2</td>\n",
       "      <td>A7VehTbDkj</td>\n",
       "      <td>aZ0gXwjlNK</td>\n",
       "      <td>2021-11-19T20:10:15.129Z</td>\n",
       "      <td>2021-11-19T20:10:15.129Z</td>\n",
       "    </tr>\n",
       "    <tr>\n",
       "      <th>25</th>\n",
       "      <td>F6buYKV8HG</td>\n",
       "      <td>2</td>\n",
       "      <td>4</td>\n",
       "      <td>HZQ9LBYy07</td>\n",
       "      <td>khUX3max7b</td>\n",
       "      <td>2021-11-26T05:53:15.532Z</td>\n",
       "      <td>2021-11-26T05:53:15.532Z</td>\n",
       "    </tr>\n",
       "    <tr>\n",
       "      <th>26</th>\n",
       "      <td>3BBoQDvdhR</td>\n",
       "      <td>1</td>\n",
       "      <td>2</td>\n",
       "      <td>XxfMEUBz2K</td>\n",
       "      <td>khUX3max7b</td>\n",
       "      <td>2021-11-26T05:53:17.272Z</td>\n",
       "      <td>2021-11-26T05:53:17.272Z</td>\n",
       "    </tr>\n",
       "    <tr>\n",
       "      <th>27</th>\n",
       "      <td>NYIGzA93PT</td>\n",
       "      <td>4</td>\n",
       "      <td>2</td>\n",
       "      <td>KraRmlAdki</td>\n",
       "      <td>khUX3max7b</td>\n",
       "      <td>2021-11-26T05:53:19.713Z</td>\n",
       "      <td>2021-11-26T05:53:19.713Z</td>\n",
       "    </tr>\n",
       "    <tr>\n",
       "      <th>28</th>\n",
       "      <td>fSw5kqui4w</td>\n",
       "      <td>2</td>\n",
       "      <td>2</td>\n",
       "      <td>4qItIo2aSp</td>\n",
       "      <td>khUX3max7b</td>\n",
       "      <td>2021-11-26T05:53:21.466Z</td>\n",
       "      <td>2021-11-26T05:53:21.466Z</td>\n",
       "    </tr>\n",
       "    <tr>\n",
       "      <th>29</th>\n",
       "      <td>LoUQa8L7ZP</td>\n",
       "      <td>3</td>\n",
       "      <td>3</td>\n",
       "      <td>A7VehTbDkj</td>\n",
       "      <td>khUX3max7b</td>\n",
       "      <td>2021-11-26T05:53:24.275Z</td>\n",
       "      <td>2021-11-26T05:53:24.275Z</td>\n",
       "    </tr>\n",
       "  </tbody>\n",
       "</table>\n",
       "</div>"
      ],
      "text/plain": [
       "      objectId  answer  howManySecondsPassed  questionId      userId  \\\n",
       "0   V5CJCArRvZ       1                     1  HZQ9LBYy07  vcM0w26xi6   \n",
       "1   DrGD2RUHdP       2                     2  XxfMEUBz2K  vcM0w26xi6   \n",
       "2   aNQ78oBfPi       4                     1  KraRmlAdki  vcM0w26xi6   \n",
       "3   tMTWPB61Dy       2                     2  4qItIo2aSp  vcM0w26xi6   \n",
       "4   gG2gDSn6t1       3                     2  A7VehTbDkj  vcM0w26xi6   \n",
       "5   eInMMXdyPf       1                     1  HZQ9LBYy07  e1lEFJC3hK   \n",
       "6   WYQ9CeFxHz       2                     2  XxfMEUBz2K  e1lEFJC3hK   \n",
       "7   JiA6gQ35zA       4                     1  KraRmlAdki  e1lEFJC3hK   \n",
       "8   GU8WxVdWGK       2                     2  4qItIo2aSp  e1lEFJC3hK   \n",
       "9   DQTLDSGooC       3                     2  A7VehTbDkj  e1lEFJC3hK   \n",
       "10  W4KItbdSfx       1                     3  HZQ9LBYy07  zy2Iymim8g   \n",
       "11  lRfuOlhGxm       2                     4  XxfMEUBz2K  zy2Iymim8g   \n",
       "12  Pm7aUqjYld       1                     3  KraRmlAdki  zy2Iymim8g   \n",
       "13  63E9kcYmzA       2                     3  4qItIo2aSp  zy2Iymim8g   \n",
       "14  GpOEyZpgOo       4                     4  A7VehTbDkj  zy2Iymim8g   \n",
       "15  7lY3Ienf8h       1                     2  HZQ9LBYy07  Zs9uCTRg59   \n",
       "16  FDhvA2G7ms       1                     5  XxfMEUBz2K  Zs9uCTRg59   \n",
       "17  ihaYek2RpQ       4                     3  KraRmlAdki  Zs9uCTRg59   \n",
       "18  XY1GYfFXKe       2                     2  4qItIo2aSp  Zs9uCTRg59   \n",
       "19  4UEFg1KysC       2                     3  A7VehTbDkj  Zs9uCTRg59   \n",
       "20  6HVUvAJHDo       1                     3  HZQ9LBYy07  aZ0gXwjlNK   \n",
       "21  KcO3ZVBKIP       3                     4  XxfMEUBz2K  aZ0gXwjlNK   \n",
       "22  rqemAzEIJQ       1                     5  KraRmlAdki  aZ0gXwjlNK   \n",
       "23  2SGFVgEXJW       2                     2  4qItIo2aSp  aZ0gXwjlNK   \n",
       "24  0YTUY13ku5       3                     2  A7VehTbDkj  aZ0gXwjlNK   \n",
       "25  F6buYKV8HG       2                     4  HZQ9LBYy07  khUX3max7b   \n",
       "26  3BBoQDvdhR       1                     2  XxfMEUBz2K  khUX3max7b   \n",
       "27  NYIGzA93PT       4                     2  KraRmlAdki  khUX3max7b   \n",
       "28  fSw5kqui4w       2                     2  4qItIo2aSp  khUX3max7b   \n",
       "29  LoUQa8L7ZP       3                     3  A7VehTbDkj  khUX3max7b   \n",
       "\n",
       "                   createdAt                 updatedAt  \n",
       "0   2021-11-18T14:07:47.456Z  2021-11-18T14:07:47.456Z  \n",
       "1   2021-11-18T14:07:49.346Z  2021-11-18T14:07:49.346Z  \n",
       "2   2021-11-18T14:07:50.776Z  2021-11-18T14:07:50.776Z  \n",
       "3   2021-11-18T14:07:52.318Z  2021-11-18T14:07:52.318Z  \n",
       "4   2021-11-18T14:07:54.546Z  2021-11-18T14:07:54.546Z  \n",
       "5   2021-11-19T07:45:27.348Z  2021-11-19T07:45:48.550Z  \n",
       "6   2021-11-19T07:45:28.909Z  2021-11-19T07:45:28.909Z  \n",
       "7   2021-11-19T07:45:32.939Z  2021-11-19T07:45:50.049Z  \n",
       "8   2021-11-19T07:45:34.621Z  2021-11-19T07:45:59.455Z  \n",
       "9   2021-11-19T07:45:36.899Z  2021-11-19T07:45:36.899Z  \n",
       "10  2021-11-19T20:03:36.813Z  2021-11-19T20:03:36.813Z  \n",
       "11  2021-11-19T20:03:40.291Z  2021-11-19T20:03:40.291Z  \n",
       "12  2021-11-19T20:03:44.021Z  2021-11-19T20:03:44.021Z  \n",
       "13  2021-11-19T20:03:46.731Z  2021-11-19T20:03:46.731Z  \n",
       "14  2021-11-19T20:03:51.113Z  2021-11-19T20:03:51.113Z  \n",
       "15  2021-11-19T20:06:49.972Z  2021-11-19T20:06:49.972Z  \n",
       "16  2021-11-19T20:06:55.561Z  2021-11-19T20:06:55.561Z  \n",
       "17  2021-11-19T20:06:57.933Z  2021-11-19T20:06:57.933Z  \n",
       "18  2021-11-19T20:07:00.737Z  2021-11-19T20:07:00.737Z  \n",
       "19  2021-11-19T20:07:03.719Z  2021-11-19T20:07:03.719Z  \n",
       "20  2021-11-19T20:10:01.912Z  2021-11-19T20:10:01.912Z  \n",
       "21  2021-11-19T20:10:05.531Z  2021-11-19T20:10:05.531Z  \n",
       "22  2021-11-19T20:10:11.402Z  2021-11-19T20:10:11.402Z  \n",
       "23  2021-11-19T20:10:13.243Z  2021-11-19T20:10:13.243Z  \n",
       "24  2021-11-19T20:10:15.129Z  2021-11-19T20:10:15.129Z  \n",
       "25  2021-11-26T05:53:15.532Z  2021-11-26T05:53:15.532Z  \n",
       "26  2021-11-26T05:53:17.272Z  2021-11-26T05:53:17.272Z  \n",
       "27  2021-11-26T05:53:19.713Z  2021-11-26T05:53:19.713Z  \n",
       "28  2021-11-26T05:53:21.466Z  2021-11-26T05:53:21.466Z  \n",
       "29  2021-11-26T05:53:24.275Z  2021-11-26T05:53:24.275Z  "
      ]
     },
     "execution_count": 71,
     "metadata": {},
     "output_type": "execute_result"
    }
   ],
   "source": [
    "final_df_MCQAns"
   ]
  },
  {
   "cell_type": "code",
   "execution_count": 72,
   "metadata": {},
   "outputs": [],
   "source": [
    "questions = final_df_MCQAns['questionId'].unique()"
   ]
  },
  {
   "cell_type": "code",
   "execution_count": 73,
   "metadata": {},
   "outputs": [
    {
     "data": {
      "text/plain": [
       "array(['HZQ9LBYy07', 'XxfMEUBz2K', 'KraRmlAdki', '4qItIo2aSp',\n",
       "       'A7VehTbDkj'], dtype=object)"
      ]
     },
     "execution_count": 73,
     "metadata": {},
     "output_type": "execute_result"
    }
   ],
   "source": [
    "questions"
   ]
  },
  {
   "cell_type": "code",
   "execution_count": 74,
   "metadata": {},
   "outputs": [],
   "source": [
    "users = final_df_MCQAns['userId'].unique()"
   ]
  },
  {
   "cell_type": "code",
   "execution_count": 75,
   "metadata": {},
   "outputs": [
    {
     "data": {
      "text/plain": [
       "array(['vcM0w26xi6', 'e1lEFJC3hK', 'zy2Iymim8g', 'Zs9uCTRg59',\n",
       "       'aZ0gXwjlNK', 'khUX3max7b'], dtype=object)"
      ]
     },
     "execution_count": 75,
     "metadata": {},
     "output_type": "execute_result"
    }
   ],
   "source": [
    "users"
   ]
  },
  {
   "cell_type": "code",
   "execution_count": 76,
   "metadata": {},
   "outputs": [],
   "source": [
    "w, h = len(questions), len(users)\n",
    "Matrix = [[0 for x in range(w)] for y in range(h)] "
   ]
  },
  {
   "cell_type": "code",
   "execution_count": 77,
   "metadata": {
    "scrolled": true
   },
   "outputs": [],
   "source": [
    "for i in range(h):\n",
    "    for j in range(w):\n",
    "        row = final_df_MCQAns[(final_df_MCQAns['questionId']==questions[j]) & (final_df_MCQAns['userId']==users[i])]\n",
    "        if not row.empty:\n",
    "            Matrix[i][j] = row[\"answer\"]"
   ]
  },
  {
   "cell_type": "code",
   "execution_count": 78,
   "metadata": {},
   "outputs": [],
   "source": [
    "final_df_userans = pd.DataFrame(Matrix)"
   ]
  },
  {
   "cell_type": "code",
   "execution_count": 79,
   "metadata": {},
   "outputs": [
    {
     "data": {
      "text/html": [
       "<div>\n",
       "<style scoped>\n",
       "    .dataframe tbody tr th:only-of-type {\n",
       "        vertical-align: middle;\n",
       "    }\n",
       "\n",
       "    .dataframe tbody tr th {\n",
       "        vertical-align: top;\n",
       "    }\n",
       "\n",
       "    .dataframe thead th {\n",
       "        text-align: right;\n",
       "    }\n",
       "</style>\n",
       "<table border=\"1\" class=\"dataframe\">\n",
       "  <thead>\n",
       "    <tr style=\"text-align: right;\">\n",
       "      <th></th>\n",
       "      <th>0</th>\n",
       "      <th>1</th>\n",
       "      <th>2</th>\n",
       "      <th>3</th>\n",
       "      <th>4</th>\n",
       "    </tr>\n",
       "  </thead>\n",
       "  <tbody>\n",
       "    <tr>\n",
       "      <th>0</th>\n",
       "      <td>0    1\n",
       "Name: answer, dtype: int64</td>\n",
       "      <td>1    2\n",
       "Name: answer, dtype: int64</td>\n",
       "      <td>2    4\n",
       "Name: answer, dtype: int64</td>\n",
       "      <td>3    2\n",
       "Name: answer, dtype: int64</td>\n",
       "      <td>4    3\n",
       "Name: answer, dtype: int64</td>\n",
       "    </tr>\n",
       "    <tr>\n",
       "      <th>1</th>\n",
       "      <td>5    1\n",
       "Name: answer, dtype: int64</td>\n",
       "      <td>6    2\n",
       "Name: answer, dtype: int64</td>\n",
       "      <td>7    4\n",
       "Name: answer, dtype: int64</td>\n",
       "      <td>8    2\n",
       "Name: answer, dtype: int64</td>\n",
       "      <td>9    3\n",
       "Name: answer, dtype: int64</td>\n",
       "    </tr>\n",
       "    <tr>\n",
       "      <th>2</th>\n",
       "      <td>10    1\n",
       "Name: answer, dtype: int64</td>\n",
       "      <td>11    2\n",
       "Name: answer, dtype: int64</td>\n",
       "      <td>12    1\n",
       "Name: answer, dtype: int64</td>\n",
       "      <td>13    2\n",
       "Name: answer, dtype: int64</td>\n",
       "      <td>14    4\n",
       "Name: answer, dtype: int64</td>\n",
       "    </tr>\n",
       "    <tr>\n",
       "      <th>3</th>\n",
       "      <td>15    1\n",
       "Name: answer, dtype: int64</td>\n",
       "      <td>16    1\n",
       "Name: answer, dtype: int64</td>\n",
       "      <td>17    4\n",
       "Name: answer, dtype: int64</td>\n",
       "      <td>18    2\n",
       "Name: answer, dtype: int64</td>\n",
       "      <td>19    2\n",
       "Name: answer, dtype: int64</td>\n",
       "    </tr>\n",
       "    <tr>\n",
       "      <th>4</th>\n",
       "      <td>20    1\n",
       "Name: answer, dtype: int64</td>\n",
       "      <td>21    3\n",
       "Name: answer, dtype: int64</td>\n",
       "      <td>22    1\n",
       "Name: answer, dtype: int64</td>\n",
       "      <td>23    2\n",
       "Name: answer, dtype: int64</td>\n",
       "      <td>24    3\n",
       "Name: answer, dtype: int64</td>\n",
       "    </tr>\n",
       "    <tr>\n",
       "      <th>5</th>\n",
       "      <td>25    2\n",
       "Name: answer, dtype: int64</td>\n",
       "      <td>26    1\n",
       "Name: answer, dtype: int64</td>\n",
       "      <td>27    4\n",
       "Name: answer, dtype: int64</td>\n",
       "      <td>28    2\n",
       "Name: answer, dtype: int64</td>\n",
       "      <td>29    3\n",
       "Name: answer, dtype: int64</td>\n",
       "    </tr>\n",
       "  </tbody>\n",
       "</table>\n",
       "</div>"
      ],
      "text/plain": [
       "                                    0                                   1  \\\n",
       "0   0    1\n",
       "Name: answer, dtype: int64   1    2\n",
       "Name: answer, dtype: int64   \n",
       "1   5    1\n",
       "Name: answer, dtype: int64   6    2\n",
       "Name: answer, dtype: int64   \n",
       "2  10    1\n",
       "Name: answer, dtype: int64  11    2\n",
       "Name: answer, dtype: int64   \n",
       "3  15    1\n",
       "Name: answer, dtype: int64  16    1\n",
       "Name: answer, dtype: int64   \n",
       "4  20    1\n",
       "Name: answer, dtype: int64  21    3\n",
       "Name: answer, dtype: int64   \n",
       "5  25    2\n",
       "Name: answer, dtype: int64  26    1\n",
       "Name: answer, dtype: int64   \n",
       "\n",
       "                                    2                                   3  \\\n",
       "0   2    4\n",
       "Name: answer, dtype: int64   3    2\n",
       "Name: answer, dtype: int64   \n",
       "1   7    4\n",
       "Name: answer, dtype: int64   8    2\n",
       "Name: answer, dtype: int64   \n",
       "2  12    1\n",
       "Name: answer, dtype: int64  13    2\n",
       "Name: answer, dtype: int64   \n",
       "3  17    4\n",
       "Name: answer, dtype: int64  18    2\n",
       "Name: answer, dtype: int64   \n",
       "4  22    1\n",
       "Name: answer, dtype: int64  23    2\n",
       "Name: answer, dtype: int64   \n",
       "5  27    4\n",
       "Name: answer, dtype: int64  28    2\n",
       "Name: answer, dtype: int64   \n",
       "\n",
       "                                    4  \n",
       "0   4    3\n",
       "Name: answer, dtype: int64  \n",
       "1   9    3\n",
       "Name: answer, dtype: int64  \n",
       "2  14    4\n",
       "Name: answer, dtype: int64  \n",
       "3  19    2\n",
       "Name: answer, dtype: int64  \n",
       "4  24    3\n",
       "Name: answer, dtype: int64  \n",
       "5  29    3\n",
       "Name: answer, dtype: int64  "
      ]
     },
     "execution_count": 79,
     "metadata": {},
     "output_type": "execute_result"
    }
   ],
   "source": [
    "final_df_userans"
   ]
  },
  {
   "cell_type": "code",
   "execution_count": 80,
   "metadata": {},
   "outputs": [],
   "source": [
    "for i in range(final_df_userans.shape[1]):\n",
    "    final_df_userans = final_df_userans.rename(columns={i: questions[i]})"
   ]
  },
  {
   "cell_type": "code",
   "execution_count": 81,
   "metadata": {},
   "outputs": [],
   "source": [
    "for j in range(final_df_userans.shape[0]):\n",
    "    final_df_userans = final_df_userans.rename(index={j: users[j]})"
   ]
  },
  {
   "cell_type": "code",
   "execution_count": 82,
   "metadata": {},
   "outputs": [],
   "source": [
    "final_df_userans = final_df_userans.astype(int)"
   ]
  },
  {
   "cell_type": "code",
   "execution_count": 83,
   "metadata": {
    "scrolled": false
   },
   "outputs": [
    {
     "data": {
      "text/html": [
       "<div>\n",
       "<style scoped>\n",
       "    .dataframe tbody tr th:only-of-type {\n",
       "        vertical-align: middle;\n",
       "    }\n",
       "\n",
       "    .dataframe tbody tr th {\n",
       "        vertical-align: top;\n",
       "    }\n",
       "\n",
       "    .dataframe thead th {\n",
       "        text-align: right;\n",
       "    }\n",
       "</style>\n",
       "<table border=\"1\" class=\"dataframe\">\n",
       "  <thead>\n",
       "    <tr style=\"text-align: right;\">\n",
       "      <th></th>\n",
       "      <th>HZQ9LBYy07</th>\n",
       "      <th>XxfMEUBz2K</th>\n",
       "      <th>KraRmlAdki</th>\n",
       "      <th>4qItIo2aSp</th>\n",
       "      <th>A7VehTbDkj</th>\n",
       "    </tr>\n",
       "  </thead>\n",
       "  <tbody>\n",
       "    <tr>\n",
       "      <th>vcM0w26xi6</th>\n",
       "      <td>1</td>\n",
       "      <td>2</td>\n",
       "      <td>4</td>\n",
       "      <td>2</td>\n",
       "      <td>3</td>\n",
       "    </tr>\n",
       "    <tr>\n",
       "      <th>e1lEFJC3hK</th>\n",
       "      <td>1</td>\n",
       "      <td>2</td>\n",
       "      <td>4</td>\n",
       "      <td>2</td>\n",
       "      <td>3</td>\n",
       "    </tr>\n",
       "    <tr>\n",
       "      <th>zy2Iymim8g</th>\n",
       "      <td>1</td>\n",
       "      <td>2</td>\n",
       "      <td>1</td>\n",
       "      <td>2</td>\n",
       "      <td>4</td>\n",
       "    </tr>\n",
       "    <tr>\n",
       "      <th>Zs9uCTRg59</th>\n",
       "      <td>1</td>\n",
       "      <td>1</td>\n",
       "      <td>4</td>\n",
       "      <td>2</td>\n",
       "      <td>2</td>\n",
       "    </tr>\n",
       "    <tr>\n",
       "      <th>aZ0gXwjlNK</th>\n",
       "      <td>1</td>\n",
       "      <td>3</td>\n",
       "      <td>1</td>\n",
       "      <td>2</td>\n",
       "      <td>3</td>\n",
       "    </tr>\n",
       "    <tr>\n",
       "      <th>khUX3max7b</th>\n",
       "      <td>2</td>\n",
       "      <td>1</td>\n",
       "      <td>4</td>\n",
       "      <td>2</td>\n",
       "      <td>3</td>\n",
       "    </tr>\n",
       "  </tbody>\n",
       "</table>\n",
       "</div>"
      ],
      "text/plain": [
       "            HZQ9LBYy07  XxfMEUBz2K  KraRmlAdki  4qItIo2aSp  A7VehTbDkj\n",
       "vcM0w26xi6           1           2           4           2           3\n",
       "e1lEFJC3hK           1           2           4           2           3\n",
       "zy2Iymim8g           1           2           1           2           4\n",
       "Zs9uCTRg59           1           1           4           2           2\n",
       "aZ0gXwjlNK           1           3           1           2           3\n",
       "khUX3max7b           2           1           4           2           3"
      ]
     },
     "execution_count": 83,
     "metadata": {},
     "output_type": "execute_result"
    }
   ],
   "source": [
    "final_df_userans"
   ]
  },
  {
   "cell_type": "code",
   "execution_count": 84,
   "metadata": {
    "scrolled": false
   },
   "outputs": [],
   "source": [
    "duplicate_answers = final_df_userans[final_df_userans.duplicated(keep=False)]"
   ]
  },
  {
   "cell_type": "code",
   "execution_count": 85,
   "metadata": {
    "scrolled": true
   },
   "outputs": [
    {
     "data": {
      "text/html": [
       "<div>\n",
       "<style scoped>\n",
       "    .dataframe tbody tr th:only-of-type {\n",
       "        vertical-align: middle;\n",
       "    }\n",
       "\n",
       "    .dataframe tbody tr th {\n",
       "        vertical-align: top;\n",
       "    }\n",
       "\n",
       "    .dataframe thead th {\n",
       "        text-align: right;\n",
       "    }\n",
       "</style>\n",
       "<table border=\"1\" class=\"dataframe\">\n",
       "  <thead>\n",
       "    <tr style=\"text-align: right;\">\n",
       "      <th></th>\n",
       "      <th>HZQ9LBYy07</th>\n",
       "      <th>XxfMEUBz2K</th>\n",
       "      <th>KraRmlAdki</th>\n",
       "      <th>4qItIo2aSp</th>\n",
       "      <th>A7VehTbDkj</th>\n",
       "    </tr>\n",
       "  </thead>\n",
       "  <tbody>\n",
       "    <tr>\n",
       "      <th>vcM0w26xi6</th>\n",
       "      <td>1</td>\n",
       "      <td>2</td>\n",
       "      <td>4</td>\n",
       "      <td>2</td>\n",
       "      <td>3</td>\n",
       "    </tr>\n",
       "    <tr>\n",
       "      <th>e1lEFJC3hK</th>\n",
       "      <td>1</td>\n",
       "      <td>2</td>\n",
       "      <td>4</td>\n",
       "      <td>2</td>\n",
       "      <td>3</td>\n",
       "    </tr>\n",
       "  </tbody>\n",
       "</table>\n",
       "</div>"
      ],
      "text/plain": [
       "            HZQ9LBYy07  XxfMEUBz2K  KraRmlAdki  4qItIo2aSp  A7VehTbDkj\n",
       "vcM0w26xi6           1           2           4           2           3\n",
       "e1lEFJC3hK           1           2           4           2           3"
      ]
     },
     "execution_count": 85,
     "metadata": {},
     "output_type": "execute_result"
    }
   ],
   "source": [
    "duplicate_answers"
   ]
  },
  {
   "cell_type": "code",
   "execution_count": 86,
   "metadata": {},
   "outputs": [
    {
     "name": "stderr",
     "output_type": "stream",
     "text": [
      "<ipython-input-86-5cf6e91a42af>:1: SettingWithCopyWarning: \n",
      "A value is trying to be set on a copy of a slice from a DataFrame.\n",
      "Try using .loc[row_indexer,col_indexer] = value instead\n",
      "\n",
      "See the caveats in the documentation: https://pandas.pydata.org/pandas-docs/stable/user_guide/indexing.html#returning-a-view-versus-a-copy\n",
      "  duplicate_answers[\"timetaken\"]=0\n",
      "<ipython-input-86-5cf6e91a42af>:2: SettingWithCopyWarning: \n",
      "A value is trying to be set on a copy of a slice from a DataFrame.\n",
      "Try using .loc[row_indexer,col_indexer] = value instead\n",
      "\n",
      "See the caveats in the documentation: https://pandas.pydata.org/pandas-docs/stable/user_guide/indexing.html#returning-a-view-versus-a-copy\n",
      "  duplicate_answers[\"username\"]=\"\"\n"
     ]
    }
   ],
   "source": [
    "duplicate_answers[\"timetaken\"]=0\n",
    "duplicate_answers[\"username\"]=\"\""
   ]
  },
  {
   "cell_type": "code",
   "execution_count": 87,
   "metadata": {},
   "outputs": [
    {
     "name": "stderr",
     "output_type": "stream",
     "text": [
      "<ipython-input-87-8ee773fb3143>:5: SettingWithCopyWarning: \n",
      "A value is trying to be set on a copy of a slice from a DataFrame\n",
      "\n",
      "See the caveats in the documentation: https://pandas.pydata.org/pandas-docs/stable/user_guide/indexing.html#returning-a-view-versus-a-copy\n",
      "  duplicate_answers[\"timetaken\"][i] = final_df_examtable[\"totalTimeToFinishSecondSection\"][j]\n",
      "C:\\Users\\namra\\anaconda3\\lib\\site-packages\\IPython\\core\\interactiveshell.py:3343: SettingWithCopyWarning: \n",
      "A value is trying to be set on a copy of a slice from a DataFrame\n",
      "\n",
      "See the caveats in the documentation: https://pandas.pydata.org/pandas-docs/stable/user_guide/indexing.html#returning-a-view-versus-a-copy\n",
      "  exec(code_obj, self.user_global_ns, self.user_ns)\n",
      "<ipython-input-87-8ee773fb3143>:6: SettingWithCopyWarning: \n",
      "A value is trying to be set on a copy of a slice from a DataFrame\n",
      "\n",
      "See the caveats in the documentation: https://pandas.pydata.org/pandas-docs/stable/user_guide/indexing.html#returning-a-view-versus-a-copy\n",
      "  duplicate_answers[\"username\"][i] = final_df_examtable[\"username\"][j]\n"
     ]
    }
   ],
   "source": [
    "for i in range(len(duplicate_answers)):\n",
    "    for j in range(len(final_df_examtable)):\n",
    "        if (pd.isna(final_df_examtable[\"totalTimeToFinishSecondSection\"][j]) == False):\n",
    "            if (final_df_userans.index[i]==final_df_examtable[\"userId\"][j]):\n",
    "                duplicate_answers[\"timetaken\"][i] = final_df_examtable[\"totalTimeToFinishSecondSection\"][j]\n",
    "                duplicate_answers[\"username\"][i] = final_df_examtable[\"username\"][j]"
   ]
  },
  {
   "cell_type": "markdown",
   "metadata": {},
   "source": [
    "## Cheating Notification"
   ]
  },
  {
   "cell_type": "code",
   "execution_count": 88,
   "metadata": {},
   "outputs": [
    {
     "data": {
      "text/html": [
       "<div>\n",
       "<style scoped>\n",
       "    .dataframe tbody tr th:only-of-type {\n",
       "        vertical-align: middle;\n",
       "    }\n",
       "\n",
       "    .dataframe tbody tr th {\n",
       "        vertical-align: top;\n",
       "    }\n",
       "\n",
       "    .dataframe thead th {\n",
       "        text-align: right;\n",
       "    }\n",
       "</style>\n",
       "<table border=\"1\" class=\"dataframe\">\n",
       "  <thead>\n",
       "    <tr style=\"text-align: right;\">\n",
       "      <th></th>\n",
       "      <th>HZQ9LBYy07</th>\n",
       "      <th>XxfMEUBz2K</th>\n",
       "      <th>KraRmlAdki</th>\n",
       "      <th>4qItIo2aSp</th>\n",
       "      <th>A7VehTbDkj</th>\n",
       "      <th>timetaken</th>\n",
       "      <th>username</th>\n",
       "    </tr>\n",
       "  </thead>\n",
       "  <tbody>\n",
       "    <tr>\n",
       "      <th>vcM0w26xi6</th>\n",
       "      <td>1</td>\n",
       "      <td>2</td>\n",
       "      <td>4</td>\n",
       "      <td>2</td>\n",
       "      <td>3</td>\n",
       "      <td>8</td>\n",
       "      <td>zakia</td>\n",
       "    </tr>\n",
       "    <tr>\n",
       "      <th>e1lEFJC3hK</th>\n",
       "      <td>1</td>\n",
       "      <td>2</td>\n",
       "      <td>4</td>\n",
       "      <td>2</td>\n",
       "      <td>3</td>\n",
       "      <td>8</td>\n",
       "      <td>giada</td>\n",
       "    </tr>\n",
       "  </tbody>\n",
       "</table>\n",
       "</div>"
      ],
      "text/plain": [
       "            HZQ9LBYy07  XxfMEUBz2K  KraRmlAdki  4qItIo2aSp  A7VehTbDkj  \\\n",
       "vcM0w26xi6           1           2           4           2           3   \n",
       "e1lEFJC3hK           1           2           4           2           3   \n",
       "\n",
       "            timetaken username  \n",
       "vcM0w26xi6          8    zakia  \n",
       "e1lEFJC3hK          8    giada  "
      ]
     },
     "execution_count": 88,
     "metadata": {},
     "output_type": "execute_result"
    }
   ],
   "source": [
    "duplicate_answers"
   ]
  },
  {
   "cell_type": "code",
   "execution_count": 89,
   "metadata": {},
   "outputs": [],
   "source": [
    "new_row = final_df_MCQtable[\"trueAnswer\"]"
   ]
  },
  {
   "cell_type": "code",
   "execution_count": 90,
   "metadata": {},
   "outputs": [],
   "source": [
    "new_row.index = final_df_MCQtable[\"objectId\"]"
   ]
  },
  {
   "cell_type": "code",
   "execution_count": 91,
   "metadata": {},
   "outputs": [],
   "source": [
    "final_df_userans = final_df_userans.append(new_row)"
   ]
  },
  {
   "cell_type": "code",
   "execution_count": 92,
   "metadata": {},
   "outputs": [
    {
     "data": {
      "text/html": [
       "<div>\n",
       "<style scoped>\n",
       "    .dataframe tbody tr th:only-of-type {\n",
       "        vertical-align: middle;\n",
       "    }\n",
       "\n",
       "    .dataframe tbody tr th {\n",
       "        vertical-align: top;\n",
       "    }\n",
       "\n",
       "    .dataframe thead th {\n",
       "        text-align: right;\n",
       "    }\n",
       "</style>\n",
       "<table border=\"1\" class=\"dataframe\">\n",
       "  <thead>\n",
       "    <tr style=\"text-align: right;\">\n",
       "      <th></th>\n",
       "      <th>HZQ9LBYy07</th>\n",
       "      <th>XxfMEUBz2K</th>\n",
       "      <th>KraRmlAdki</th>\n",
       "      <th>4qItIo2aSp</th>\n",
       "      <th>A7VehTbDkj</th>\n",
       "    </tr>\n",
       "  </thead>\n",
       "  <tbody>\n",
       "    <tr>\n",
       "      <th>vcM0w26xi6</th>\n",
       "      <td>1</td>\n",
       "      <td>2</td>\n",
       "      <td>4</td>\n",
       "      <td>2</td>\n",
       "      <td>3</td>\n",
       "    </tr>\n",
       "    <tr>\n",
       "      <th>e1lEFJC3hK</th>\n",
       "      <td>1</td>\n",
       "      <td>2</td>\n",
       "      <td>4</td>\n",
       "      <td>2</td>\n",
       "      <td>3</td>\n",
       "    </tr>\n",
       "    <tr>\n",
       "      <th>zy2Iymim8g</th>\n",
       "      <td>1</td>\n",
       "      <td>2</td>\n",
       "      <td>1</td>\n",
       "      <td>2</td>\n",
       "      <td>4</td>\n",
       "    </tr>\n",
       "    <tr>\n",
       "      <th>Zs9uCTRg59</th>\n",
       "      <td>1</td>\n",
       "      <td>1</td>\n",
       "      <td>4</td>\n",
       "      <td>2</td>\n",
       "      <td>2</td>\n",
       "    </tr>\n",
       "    <tr>\n",
       "      <th>aZ0gXwjlNK</th>\n",
       "      <td>1</td>\n",
       "      <td>3</td>\n",
       "      <td>1</td>\n",
       "      <td>2</td>\n",
       "      <td>3</td>\n",
       "    </tr>\n",
       "    <tr>\n",
       "      <th>khUX3max7b</th>\n",
       "      <td>2</td>\n",
       "      <td>1</td>\n",
       "      <td>4</td>\n",
       "      <td>2</td>\n",
       "      <td>3</td>\n",
       "    </tr>\n",
       "    <tr>\n",
       "      <th>trueAnswer</th>\n",
       "      <td>1</td>\n",
       "      <td>1</td>\n",
       "      <td>4</td>\n",
       "      <td>2</td>\n",
       "      <td>3</td>\n",
       "    </tr>\n",
       "  </tbody>\n",
       "</table>\n",
       "</div>"
      ],
      "text/plain": [
       "            HZQ9LBYy07  XxfMEUBz2K  KraRmlAdki  4qItIo2aSp  A7VehTbDkj\n",
       "vcM0w26xi6           1           2           4           2           3\n",
       "e1lEFJC3hK           1           2           4           2           3\n",
       "zy2Iymim8g           1           2           1           2           4\n",
       "Zs9uCTRg59           1           1           4           2           2\n",
       "aZ0gXwjlNK           1           3           1           2           3\n",
       "khUX3max7b           2           1           4           2           3\n",
       "trueAnswer           1           1           4           2           3"
      ]
     },
     "execution_count": 92,
     "metadata": {},
     "output_type": "execute_result"
    }
   ],
   "source": [
    "final_df_userans"
   ]
  },
  {
   "cell_type": "code",
   "execution_count": 93,
   "metadata": {},
   "outputs": [],
   "source": [
    "max_score_per_question = 100/len(questions)"
   ]
  },
  {
   "cell_type": "code",
   "execution_count": 94,
   "metadata": {},
   "outputs": [
    {
     "data": {
      "text/plain": [
       "20.0"
      ]
     },
     "execution_count": 94,
     "metadata": {},
     "output_type": "execute_result"
    }
   ],
   "source": [
    "max_score_per_question"
   ]
  },
  {
   "cell_type": "code",
   "execution_count": 95,
   "metadata": {},
   "outputs": [
    {
     "data": {
      "text/html": [
       "<div>\n",
       "<style scoped>\n",
       "    .dataframe tbody tr th:only-of-type {\n",
       "        vertical-align: middle;\n",
       "    }\n",
       "\n",
       "    .dataframe tbody tr th {\n",
       "        vertical-align: top;\n",
       "    }\n",
       "\n",
       "    .dataframe thead th {\n",
       "        text-align: right;\n",
       "    }\n",
       "</style>\n",
       "<table border=\"1\" class=\"dataframe\">\n",
       "  <thead>\n",
       "    <tr style=\"text-align: right;\">\n",
       "      <th></th>\n",
       "      <th>HZQ9LBYy07</th>\n",
       "      <th>XxfMEUBz2K</th>\n",
       "      <th>KraRmlAdki</th>\n",
       "      <th>4qItIo2aSp</th>\n",
       "      <th>A7VehTbDkj</th>\n",
       "    </tr>\n",
       "  </thead>\n",
       "  <tbody>\n",
       "    <tr>\n",
       "      <th>vcM0w26xi6</th>\n",
       "      <td>1</td>\n",
       "      <td>2</td>\n",
       "      <td>4</td>\n",
       "      <td>2</td>\n",
       "      <td>3</td>\n",
       "    </tr>\n",
       "    <tr>\n",
       "      <th>e1lEFJC3hK</th>\n",
       "      <td>1</td>\n",
       "      <td>2</td>\n",
       "      <td>4</td>\n",
       "      <td>2</td>\n",
       "      <td>3</td>\n",
       "    </tr>\n",
       "    <tr>\n",
       "      <th>zy2Iymim8g</th>\n",
       "      <td>1</td>\n",
       "      <td>2</td>\n",
       "      <td>1</td>\n",
       "      <td>2</td>\n",
       "      <td>4</td>\n",
       "    </tr>\n",
       "    <tr>\n",
       "      <th>Zs9uCTRg59</th>\n",
       "      <td>1</td>\n",
       "      <td>1</td>\n",
       "      <td>4</td>\n",
       "      <td>2</td>\n",
       "      <td>2</td>\n",
       "    </tr>\n",
       "    <tr>\n",
       "      <th>aZ0gXwjlNK</th>\n",
       "      <td>1</td>\n",
       "      <td>3</td>\n",
       "      <td>1</td>\n",
       "      <td>2</td>\n",
       "      <td>3</td>\n",
       "    </tr>\n",
       "    <tr>\n",
       "      <th>khUX3max7b</th>\n",
       "      <td>2</td>\n",
       "      <td>1</td>\n",
       "      <td>4</td>\n",
       "      <td>2</td>\n",
       "      <td>3</td>\n",
       "    </tr>\n",
       "    <tr>\n",
       "      <th>trueAnswer</th>\n",
       "      <td>1</td>\n",
       "      <td>1</td>\n",
       "      <td>4</td>\n",
       "      <td>2</td>\n",
       "      <td>3</td>\n",
       "    </tr>\n",
       "  </tbody>\n",
       "</table>\n",
       "</div>"
      ],
      "text/plain": [
       "            HZQ9LBYy07  XxfMEUBz2K  KraRmlAdki  4qItIo2aSp  A7VehTbDkj\n",
       "vcM0w26xi6           1           2           4           2           3\n",
       "e1lEFJC3hK           1           2           4           2           3\n",
       "zy2Iymim8g           1           2           1           2           4\n",
       "Zs9uCTRg59           1           1           4           2           2\n",
       "aZ0gXwjlNK           1           3           1           2           3\n",
       "khUX3max7b           2           1           4           2           3\n",
       "trueAnswer           1           1           4           2           3"
      ]
     },
     "execution_count": 95,
     "metadata": {},
     "output_type": "execute_result"
    }
   ],
   "source": [
    "final_df_userans"
   ]
  },
  {
   "cell_type": "code",
   "execution_count": 96,
   "metadata": {},
   "outputs": [],
   "source": [
    "Matrix = [[0 for x in range(final_df_userans.shape[1])] for y in range(final_df_userans.shape[0]-1)] "
   ]
  },
  {
   "cell_type": "code",
   "execution_count": 97,
   "metadata": {},
   "outputs": [
    {
     "data": {
      "text/plain": [
       "[[0, 0, 0, 0, 0],\n",
       " [0, 0, 0, 0, 0],\n",
       " [0, 0, 0, 0, 0],\n",
       " [0, 0, 0, 0, 0],\n",
       " [0, 0, 0, 0, 0],\n",
       " [0, 0, 0, 0, 0]]"
      ]
     },
     "execution_count": 97,
     "metadata": {},
     "output_type": "execute_result"
    }
   ],
   "source": [
    "Matrix"
   ]
  },
  {
   "cell_type": "code",
   "execution_count": 98,
   "metadata": {},
   "outputs": [],
   "source": [
    "ta = final_df_userans[final_df_userans.index == \"trueAnswer\"]\n",
    "\n",
    "for i in range(final_df_userans.shape[0]-1):\n",
    "    for j in range(final_df_userans.shape[1]):\n",
    "        Matrix[i][j] = (final_df_userans[final_df_userans.columns[j]][i]==ta[ta.columns[j]][0])"
   ]
  },
  {
   "cell_type": "code",
   "execution_count": 99,
   "metadata": {},
   "outputs": [
    {
     "data": {
      "text/plain": [
       "[[True, False, True, True, True],\n",
       " [True, False, True, True, True],\n",
       " [True, False, False, True, False],\n",
       " [True, True, True, True, False],\n",
       " [True, False, False, True, True],\n",
       " [False, True, True, True, True]]"
      ]
     },
     "execution_count": 99,
     "metadata": {},
     "output_type": "execute_result"
    }
   ],
   "source": [
    "Matrix"
   ]
  },
  {
   "cell_type": "code",
   "execution_count": 100,
   "metadata": {},
   "outputs": [],
   "source": [
    "final_df_ta = pd.DataFrame(Matrix)"
   ]
  },
  {
   "cell_type": "code",
   "execution_count": 101,
   "metadata": {},
   "outputs": [
    {
     "data": {
      "text/html": [
       "<div>\n",
       "<style scoped>\n",
       "    .dataframe tbody tr th:only-of-type {\n",
       "        vertical-align: middle;\n",
       "    }\n",
       "\n",
       "    .dataframe tbody tr th {\n",
       "        vertical-align: top;\n",
       "    }\n",
       "\n",
       "    .dataframe thead th {\n",
       "        text-align: right;\n",
       "    }\n",
       "</style>\n",
       "<table border=\"1\" class=\"dataframe\">\n",
       "  <thead>\n",
       "    <tr style=\"text-align: right;\">\n",
       "      <th></th>\n",
       "      <th>0</th>\n",
       "      <th>1</th>\n",
       "      <th>2</th>\n",
       "      <th>3</th>\n",
       "      <th>4</th>\n",
       "    </tr>\n",
       "  </thead>\n",
       "  <tbody>\n",
       "    <tr>\n",
       "      <th>0</th>\n",
       "      <td>True</td>\n",
       "      <td>False</td>\n",
       "      <td>True</td>\n",
       "      <td>True</td>\n",
       "      <td>True</td>\n",
       "    </tr>\n",
       "    <tr>\n",
       "      <th>1</th>\n",
       "      <td>True</td>\n",
       "      <td>False</td>\n",
       "      <td>True</td>\n",
       "      <td>True</td>\n",
       "      <td>True</td>\n",
       "    </tr>\n",
       "    <tr>\n",
       "      <th>2</th>\n",
       "      <td>True</td>\n",
       "      <td>False</td>\n",
       "      <td>False</td>\n",
       "      <td>True</td>\n",
       "      <td>False</td>\n",
       "    </tr>\n",
       "    <tr>\n",
       "      <th>3</th>\n",
       "      <td>True</td>\n",
       "      <td>True</td>\n",
       "      <td>True</td>\n",
       "      <td>True</td>\n",
       "      <td>False</td>\n",
       "    </tr>\n",
       "    <tr>\n",
       "      <th>4</th>\n",
       "      <td>True</td>\n",
       "      <td>False</td>\n",
       "      <td>False</td>\n",
       "      <td>True</td>\n",
       "      <td>True</td>\n",
       "    </tr>\n",
       "    <tr>\n",
       "      <th>5</th>\n",
       "      <td>False</td>\n",
       "      <td>True</td>\n",
       "      <td>True</td>\n",
       "      <td>True</td>\n",
       "      <td>True</td>\n",
       "    </tr>\n",
       "  </tbody>\n",
       "</table>\n",
       "</div>"
      ],
      "text/plain": [
       "       0      1      2     3      4\n",
       "0   True  False   True  True   True\n",
       "1   True  False   True  True   True\n",
       "2   True  False  False  True  False\n",
       "3   True   True   True  True  False\n",
       "4   True  False  False  True   True\n",
       "5  False   True   True  True   True"
      ]
     },
     "execution_count": 101,
     "metadata": {},
     "output_type": "execute_result"
    }
   ],
   "source": [
    "final_df_ta"
   ]
  },
  {
   "cell_type": "code",
   "execution_count": 102,
   "metadata": {},
   "outputs": [],
   "source": [
    "for i in range(final_df_ta.shape[1]):\n",
    "    final_df_ta = final_df_ta.rename(columns={i: questions[i]})"
   ]
  },
  {
   "cell_type": "code",
   "execution_count": 103,
   "metadata": {},
   "outputs": [],
   "source": [
    "for j in range(final_df_ta.shape[0]):\n",
    "    final_df_ta = final_df_ta.rename(index={j: users[j]})"
   ]
  },
  {
   "cell_type": "code",
   "execution_count": 104,
   "metadata": {},
   "outputs": [],
   "source": [
    "final_df_ta = final_df_ta.astype(int)"
   ]
  },
  {
   "cell_type": "markdown",
   "metadata": {},
   "source": [
    "## Truth Table"
   ]
  },
  {
   "cell_type": "code",
   "execution_count": 105,
   "metadata": {
    "scrolled": false
   },
   "outputs": [
    {
     "data": {
      "text/html": [
       "<div>\n",
       "<style scoped>\n",
       "    .dataframe tbody tr th:only-of-type {\n",
       "        vertical-align: middle;\n",
       "    }\n",
       "\n",
       "    .dataframe tbody tr th {\n",
       "        vertical-align: top;\n",
       "    }\n",
       "\n",
       "    .dataframe thead th {\n",
       "        text-align: right;\n",
       "    }\n",
       "</style>\n",
       "<table border=\"1\" class=\"dataframe\">\n",
       "  <thead>\n",
       "    <tr style=\"text-align: right;\">\n",
       "      <th></th>\n",
       "      <th>HZQ9LBYy07</th>\n",
       "      <th>XxfMEUBz2K</th>\n",
       "      <th>KraRmlAdki</th>\n",
       "      <th>4qItIo2aSp</th>\n",
       "      <th>A7VehTbDkj</th>\n",
       "    </tr>\n",
       "  </thead>\n",
       "  <tbody>\n",
       "    <tr>\n",
       "      <th>vcM0w26xi6</th>\n",
       "      <td>1</td>\n",
       "      <td>0</td>\n",
       "      <td>1</td>\n",
       "      <td>1</td>\n",
       "      <td>1</td>\n",
       "    </tr>\n",
       "    <tr>\n",
       "      <th>e1lEFJC3hK</th>\n",
       "      <td>1</td>\n",
       "      <td>0</td>\n",
       "      <td>1</td>\n",
       "      <td>1</td>\n",
       "      <td>1</td>\n",
       "    </tr>\n",
       "    <tr>\n",
       "      <th>zy2Iymim8g</th>\n",
       "      <td>1</td>\n",
       "      <td>0</td>\n",
       "      <td>0</td>\n",
       "      <td>1</td>\n",
       "      <td>0</td>\n",
       "    </tr>\n",
       "    <tr>\n",
       "      <th>Zs9uCTRg59</th>\n",
       "      <td>1</td>\n",
       "      <td>1</td>\n",
       "      <td>1</td>\n",
       "      <td>1</td>\n",
       "      <td>0</td>\n",
       "    </tr>\n",
       "    <tr>\n",
       "      <th>aZ0gXwjlNK</th>\n",
       "      <td>1</td>\n",
       "      <td>0</td>\n",
       "      <td>0</td>\n",
       "      <td>1</td>\n",
       "      <td>1</td>\n",
       "    </tr>\n",
       "    <tr>\n",
       "      <th>khUX3max7b</th>\n",
       "      <td>0</td>\n",
       "      <td>1</td>\n",
       "      <td>1</td>\n",
       "      <td>1</td>\n",
       "      <td>1</td>\n",
       "    </tr>\n",
       "  </tbody>\n",
       "</table>\n",
       "</div>"
      ],
      "text/plain": [
       "            HZQ9LBYy07  XxfMEUBz2K  KraRmlAdki  4qItIo2aSp  A7VehTbDkj\n",
       "vcM0w26xi6           1           0           1           1           1\n",
       "e1lEFJC3hK           1           0           1           1           1\n",
       "zy2Iymim8g           1           0           0           1           0\n",
       "Zs9uCTRg59           1           1           1           1           0\n",
       "aZ0gXwjlNK           1           0           0           1           1\n",
       "khUX3max7b           0           1           1           1           1"
      ]
     },
     "execution_count": 105,
     "metadata": {},
     "output_type": "execute_result"
    }
   ],
   "source": [
    "final_df_ta"
   ]
  },
  {
   "cell_type": "code",
   "execution_count": 106,
   "metadata": {},
   "outputs": [],
   "source": [
    "sum_ques = final_df_ta.sum(axis=0)"
   ]
  },
  {
   "cell_type": "code",
   "execution_count": 107,
   "metadata": {},
   "outputs": [
    {
     "data": {
      "text/plain": [
       "HZQ9LBYy07    5\n",
       "XxfMEUBz2K    2\n",
       "KraRmlAdki    4\n",
       "4qItIo2aSp    6\n",
       "A7VehTbDkj    4\n",
       "dtype: int64"
      ]
     },
     "execution_count": 107,
     "metadata": {},
     "output_type": "execute_result"
    }
   ],
   "source": [
    "sum_ques"
   ]
  },
  {
   "cell_type": "code",
   "execution_count": 108,
   "metadata": {},
   "outputs": [],
   "source": [
    "## Hardest Questions"
   ]
  },
  {
   "cell_type": "code",
   "execution_count": 109,
   "metadata": {},
   "outputs": [
    {
     "name": "stdout",
     "output_type": "stream",
     "text": [
      "2\n",
      "XxfMEUBz2K\n",
      "What is 4 + 4?\n"
     ]
    }
   ],
   "source": [
    "hard_ques_score = sum_ques.min()\n",
    "print(hard_ques_score)\n",
    "for i in range(len(sum_ques)):\n",
    "    if (sum_ques[i]==hard_ques_score):\n",
    "        print(sum_ques.index[i])\n",
    "        for j in range(len(final_df_MCQtable)):\n",
    "            if (sum_ques.index[i]==final_df_MCQtable[\"objectId\"][j]):\n",
    "                print(final_df_MCQtable[\"question\"][j])"
   ]
  },
  {
   "cell_type": "code",
   "execution_count": 110,
   "metadata": {},
   "outputs": [],
   "source": [
    "sum_ans = final_df_ta.sum(axis=1)"
   ]
  },
  {
   "cell_type": "code",
   "execution_count": 111,
   "metadata": {},
   "outputs": [],
   "source": [
    "sum_ans = sum_ans*max_score_per_question"
   ]
  },
  {
   "cell_type": "code",
   "execution_count": 112,
   "metadata": {},
   "outputs": [
    {
     "data": {
      "text/plain": [
       "Index(['vcM0w26xi6', 'e1lEFJC3hK', 'zy2Iymim8g', 'Zs9uCTRg59', 'aZ0gXwjlNK',\n",
       "       'khUX3max7b'],\n",
       "      dtype='object')"
      ]
     },
     "execution_count": 112,
     "metadata": {},
     "output_type": "execute_result"
    }
   ],
   "source": [
    "sum_ans.index"
   ]
  },
  {
   "cell_type": "markdown",
   "metadata": {},
   "source": [
    "## Highest Scores"
   ]
  },
  {
   "cell_type": "code",
   "execution_count": 113,
   "metadata": {},
   "outputs": [
    {
     "name": "stdout",
     "output_type": "stream",
     "text": [
      "80.0\n",
      "vcM0w26xi6\n",
      "zakia\n",
      "e1lEFJC3hK\n",
      "giada\n",
      "Zs9uCTRg59\n",
      "marta\n",
      "khUX3max7b\n",
      "juliet\n"
     ]
    }
   ],
   "source": [
    "max_score = sum_ans.max()\n",
    "print(max_score)\n",
    "for i in range(len(sum_ans)):\n",
    "    if (sum_ans[i]==max_score):\n",
    "        print(sum_ans.index[i])\n",
    "        for j in range(len(final_df_examtable)):\n",
    "            if (sum_ans.index[i]==final_df_examtable[\"userId\"][j]):\n",
    "                print(final_df_examtable[\"username\"][j])"
   ]
  },
  {
   "cell_type": "markdown",
   "metadata": {},
   "source": [
    "## Minimum Scores"
   ]
  },
  {
   "cell_type": "code",
   "execution_count": 114,
   "metadata": {},
   "outputs": [
    {
     "name": "stdout",
     "output_type": "stream",
     "text": [
      "40.0\n",
      "zy2Iymim8g\n",
      "gioele\n"
     ]
    }
   ],
   "source": [
    "min_score = sum_ans.min()\n",
    "print(min_score)\n",
    "for i in range(len(sum_ans)):\n",
    "    if (sum_ans[i]==min_score):\n",
    "        print(sum_ans.index[i])\n",
    "        for j in range(len(final_df_examtable)):\n",
    "            if (sum_ans.index[i]==final_df_examtable[\"userId\"][j]):\n",
    "                print(final_df_examtable[\"username\"][j])"
   ]
  },
  {
   "cell_type": "markdown",
   "metadata": {},
   "source": [
    "# Sentiment Analysis on Feedback Text and Wordcloud"
   ]
  },
  {
   "cell_type": "code",
   "execution_count": 115,
   "metadata": {},
   "outputs": [],
   "source": [
    "import spacy"
   ]
  },
  {
   "cell_type": "code",
   "execution_count": 116,
   "metadata": {
    "scrolled": true
   },
   "outputs": [],
   "source": [
    "#pip install spacytextblob"
   ]
  },
  {
   "cell_type": "code",
   "execution_count": 117,
   "metadata": {},
   "outputs": [],
   "source": [
    "from spacytextblob.spacytextblob import SpacyTextBlob"
   ]
  },
  {
   "cell_type": "code",
   "execution_count": 118,
   "metadata": {},
   "outputs": [],
   "source": [
    "nlp = spacy.load(\"en_core_web_sm\")"
   ]
  },
  {
   "cell_type": "code",
   "execution_count": 119,
   "metadata": {},
   "outputs": [
    {
     "data": {
      "text/html": [
       "<div>\n",
       "<style scoped>\n",
       "    .dataframe tbody tr th:only-of-type {\n",
       "        vertical-align: middle;\n",
       "    }\n",
       "\n",
       "    .dataframe tbody tr th {\n",
       "        vertical-align: top;\n",
       "    }\n",
       "\n",
       "    .dataframe thead th {\n",
       "        text-align: right;\n",
       "    }\n",
       "</style>\n",
       "<table border=\"1\" class=\"dataframe\">\n",
       "  <thead>\n",
       "    <tr style=\"text-align: right;\">\n",
       "      <th></th>\n",
       "      <th>objectId</th>\n",
       "      <th>thirdSection</th>\n",
       "      <th>userId</th>\n",
       "      <th>examId</th>\n",
       "      <th>createdAt</th>\n",
       "      <th>updatedAt</th>\n",
       "      <th>optionalFeedback</th>\n",
       "      <th>capstoneProjectTextFeedback</th>\n",
       "      <th>firstSection</th>\n",
       "      <th>secondSection</th>\n",
       "      <th>totalTimeToFinishSecondSection</th>\n",
       "      <th>overall_score</th>\n",
       "      <th>overall_score_percentage</th>\n",
       "      <th>gender</th>\n",
       "      <th>age</th>\n",
       "      <th>username</th>\n",
       "    </tr>\n",
       "  </thead>\n",
       "  <tbody>\n",
       "    <tr>\n",
       "      <th>0</th>\n",
       "      <td>MZiDmknBr3</td>\n",
       "      <td>100</td>\n",
       "      <td>vcM0w26xi6</td>\n",
       "      <td>1EKKLfkBDR</td>\n",
       "      <td>2021-11-11T08:18:24.227Z</td>\n",
       "      <td>2021-11-19T07:53:48.290Z</td>\n",
       "      <td>MCQ section was very hard! The live question s...</td>\n",
       "      <td>I am very very happy to finish this course.</td>\n",
       "      <td>60</td>\n",
       "      <td>80</td>\n",
       "      <td>8</td>\n",
       "      <td>240</td>\n",
       "      <td>80.000000</td>\n",
       "      <td>Female</td>\n",
       "      <td>20</td>\n",
       "      <td>zakia</td>\n",
       "    </tr>\n",
       "    <tr>\n",
       "      <th>1</th>\n",
       "      <td>CH0hVcqi5S</td>\n",
       "      <td>70</td>\n",
       "      <td>e1lEFJC3hK</td>\n",
       "      <td>1EKKLfkBDR</td>\n",
       "      <td>2021-11-19T07:31:58.321Z</td>\n",
       "      <td>2021-11-19T20:00:20.882Z</td>\n",
       "      <td>I have to work hard on those questions.</td>\n",
       "      <td>The course was awesome.</td>\n",
       "      <td>45</td>\n",
       "      <td>80</td>\n",
       "      <td>8</td>\n",
       "      <td>195</td>\n",
       "      <td>65.000000</td>\n",
       "      <td>Female</td>\n",
       "      <td>19</td>\n",
       "      <td>giada</td>\n",
       "    </tr>\n",
       "    <tr>\n",
       "      <th>2</th>\n",
       "      <td>tNSNzAvzZi</td>\n",
       "      <td>65</td>\n",
       "      <td>khUX3max7b</td>\n",
       "      <td>1EKKLfkBDR</td>\n",
       "      <td>2021-11-19T19:55:37.807Z</td>\n",
       "      <td>2021-11-26T05:53:24.634Z</td>\n",
       "      <td>Neither good nor bad. It was a normal exam.</td>\n",
       "      <td>I am very happy to finish this course.</td>\n",
       "      <td>50</td>\n",
       "      <td>80</td>\n",
       "      <td>13</td>\n",
       "      <td>195</td>\n",
       "      <td>65.000000</td>\n",
       "      <td>Female</td>\n",
       "      <td>15</td>\n",
       "      <td>juliet</td>\n",
       "    </tr>\n",
       "    <tr>\n",
       "      <th>3</th>\n",
       "      <td>NOzD7Smsqe</td>\n",
       "      <td>55</td>\n",
       "      <td>zy2Iymim8g</td>\n",
       "      <td>1EKKLfkBDR</td>\n",
       "      <td>2021-11-19T20:03:28.131Z</td>\n",
       "      <td>2021-11-19T20:05:05.991Z</td>\n",
       "      <td>I had a hard time. Why did you ask so hard?</td>\n",
       "      <td>Although the course was good, unfortunately I ...</td>\n",
       "      <td>35</td>\n",
       "      <td>40</td>\n",
       "      <td>17</td>\n",
       "      <td>130</td>\n",
       "      <td>43.333333</td>\n",
       "      <td>Male</td>\n",
       "      <td>16</td>\n",
       "      <td>gioele</td>\n",
       "    </tr>\n",
       "    <tr>\n",
       "      <th>4</th>\n",
       "      <td>ozC9SB1b0f</td>\n",
       "      <td>100</td>\n",
       "      <td>Zs9uCTRg59</td>\n",
       "      <td>1EKKLfkBDR</td>\n",
       "      <td>2021-11-19T20:06:44.311Z</td>\n",
       "      <td>2021-11-19T20:07:52.891Z</td>\n",
       "      <td>Some questions were easy, some were hard. I di...</td>\n",
       "      <td>I am very happy to have finished this course. ...</td>\n",
       "      <td>75</td>\n",
       "      <td>80</td>\n",
       "      <td>15</td>\n",
       "      <td>255</td>\n",
       "      <td>85.000000</td>\n",
       "      <td>Female</td>\n",
       "      <td>17</td>\n",
       "      <td>marta</td>\n",
       "    </tr>\n",
       "    <tr>\n",
       "      <th>5</th>\n",
       "      <td>1Bgpkc7lXt</td>\n",
       "      <td>40</td>\n",
       "      <td>aZ0gXwjlNK</td>\n",
       "      <td>1EKKLfkBDR</td>\n",
       "      <td>2021-11-19T20:09:45.272Z</td>\n",
       "      <td>2021-11-19T20:11:14.832Z</td>\n",
       "      <td>I'm not sure about some questions but I think ...</td>\n",
       "      <td>It was a better course than I thought. If I ha...</td>\n",
       "      <td>80</td>\n",
       "      <td>60</td>\n",
       "      <td>16</td>\n",
       "      <td>180</td>\n",
       "      <td>60.000000</td>\n",
       "      <td>Female</td>\n",
       "      <td>18</td>\n",
       "      <td>namrata</td>\n",
       "    </tr>\n",
       "  </tbody>\n",
       "</table>\n",
       "</div>"
      ],
      "text/plain": [
       "     objectId  thirdSection      userId      examId                 createdAt  \\\n",
       "0  MZiDmknBr3           100  vcM0w26xi6  1EKKLfkBDR  2021-11-11T08:18:24.227Z   \n",
       "1  CH0hVcqi5S            70  e1lEFJC3hK  1EKKLfkBDR  2021-11-19T07:31:58.321Z   \n",
       "2  tNSNzAvzZi            65  khUX3max7b  1EKKLfkBDR  2021-11-19T19:55:37.807Z   \n",
       "3  NOzD7Smsqe            55  zy2Iymim8g  1EKKLfkBDR  2021-11-19T20:03:28.131Z   \n",
       "4  ozC9SB1b0f           100  Zs9uCTRg59  1EKKLfkBDR  2021-11-19T20:06:44.311Z   \n",
       "5  1Bgpkc7lXt            40  aZ0gXwjlNK  1EKKLfkBDR  2021-11-19T20:09:45.272Z   \n",
       "\n",
       "                  updatedAt  \\\n",
       "0  2021-11-19T07:53:48.290Z   \n",
       "1  2021-11-19T20:00:20.882Z   \n",
       "2  2021-11-26T05:53:24.634Z   \n",
       "3  2021-11-19T20:05:05.991Z   \n",
       "4  2021-11-19T20:07:52.891Z   \n",
       "5  2021-11-19T20:11:14.832Z   \n",
       "\n",
       "                                    optionalFeedback  \\\n",
       "0  MCQ section was very hard! The live question s...   \n",
       "1            I have to work hard on those questions.   \n",
       "2        Neither good nor bad. It was a normal exam.   \n",
       "3        I had a hard time. Why did you ask so hard?   \n",
       "4  Some questions were easy, some were hard. I di...   \n",
       "5  I'm not sure about some questions but I think ...   \n",
       "\n",
       "                         capstoneProjectTextFeedback  firstSection  \\\n",
       "0        I am very very happy to finish this course.            60   \n",
       "1                            The course was awesome.            45   \n",
       "2             I am very happy to finish this course.            50   \n",
       "3  Although the course was good, unfortunately I ...            35   \n",
       "4  I am very happy to have finished this course. ...            75   \n",
       "5  It was a better course than I thought. If I ha...            80   \n",
       "\n",
       "   secondSection  totalTimeToFinishSecondSection  overall_score  \\\n",
       "0             80                               8            240   \n",
       "1             80                               8            195   \n",
       "2             80                              13            195   \n",
       "3             40                              17            130   \n",
       "4             80                              15            255   \n",
       "5             60                              16            180   \n",
       "\n",
       "   overall_score_percentage  gender  age username  \n",
       "0                 80.000000  Female   20    zakia  \n",
       "1                 65.000000  Female   19    giada  \n",
       "2                 65.000000  Female   15   juliet  \n",
       "3                 43.333333    Male   16   gioele  \n",
       "4                 85.000000  Female   17    marta  \n",
       "5                 60.000000  Female   18  namrata  "
      ]
     },
     "execution_count": 119,
     "metadata": {},
     "output_type": "execute_result"
    }
   ],
   "source": [
    "final_df_examtable"
   ]
  },
  {
   "cell_type": "code",
   "execution_count": 148,
   "metadata": {},
   "outputs": [],
   "source": [
    "text_overall = \"\"\n",
    "text_overall_capstoneproject = \"\""
   ]
  },
  {
   "cell_type": "code",
   "execution_count": 150,
   "metadata": {},
   "outputs": [],
   "source": [
    "for i in range(len(final_df_examtable)):\n",
    "    text_overall+= final_df_examtable['optionalFeedback'][i]\n",
    "    text_overall_capstoneproject+= final_df_examtable['capstoneProjectTextFeedback'][i]"
   ]
  },
  {
   "cell_type": "code",
   "execution_count": 151,
   "metadata": {
    "scrolled": true
   },
   "outputs": [
    {
     "data": {
      "text/plain": [
       "\"MCQ section was very hard! The live question section was very funny.I have to work hard on those questions.Neither good nor bad. It was a normal exam.I had a hard time. Why did you ask so hard?Some questions were easy, some were hard. I did my best.I'm not sure about some questions but I think I can do better.\""
      ]
     },
     "execution_count": 151,
     "metadata": {},
     "output_type": "execute_result"
    }
   ],
   "source": [
    "text_overall"
   ]
  },
  {
   "cell_type": "code",
   "execution_count": 152,
   "metadata": {},
   "outputs": [
    {
     "data": {
      "text/plain": [
       "'I am very very happy to finish this course.The course was awesome.I am very happy to finish this course.Although the course was good, unfortunately I was not very good. I need to work a little more.I am very happy to have finished this course. I did my best.It was a better course than I thought. If I had a chance I would go again.'"
      ]
     },
     "execution_count": 152,
     "metadata": {},
     "output_type": "execute_result"
    }
   ],
   "source": [
    "text_overall_capstoneproject"
   ]
  },
  {
   "cell_type": "code",
   "execution_count": 154,
   "metadata": {},
   "outputs": [
    {
     "name": "stdout",
     "output_type": "stream",
     "text": [
      "Polarity: -0.014938446969696964\n",
      "Sujectivity: 0.6056712962962963\n",
      "Assessments: [(['very', 'hard', '!'], -0.47395833333333337, 0.7041666666666666, None), (['live'], 0.13636363636363635, 0.5, None), (['very'], 0.2, 0.3, None), (['hard'], -0.2916666666666667, 0.5416666666666666, None), (['good'], 0.7, 0.6000000000000001, None), (['bad'], -0.6999999999999998, 0.6666666666666666, None), (['normal'], 0.15, 0.6499999999999999, None), (['hard'], -0.2916666666666667, 0.5416666666666666, None), (['easy'], 0.43333333333333335, 0.8333333333333334, None), (['hard'], -0.2916666666666667, 0.5416666666666666, None), (['not', 'sure'], -0.25, 0.8888888888888888, None), (['better'], 0.5, 0.5, None)]\n"
     ]
    }
   ],
   "source": [
    "#nlp.add_pipe(\"spacytextblob\")\n",
    "doc = nlp(text_overall)\n",
    "print('Polarity:', doc._.polarity)\n",
    "print('Sujectivity:', doc._.subjectivity)\n",
    "print('Assessments:', doc._.assessments)"
   ]
  },
  {
   "cell_type": "code",
   "execution_count": 155,
   "metadata": {},
   "outputs": [
    {
     "name": "stdout",
     "output_type": "stream",
     "text": [
      "Polarity: 0.4054086538461539\n",
      "Sujectivity: 0.7576923076923077\n",
      "Assessments: [(['very', 'very', 'happy'], 1.0, 1.0, None), (['very', 'happy'], 1.0, 1.0, None), (['good'], 0.7, 0.6000000000000001, None), (['unfortunately'], -0.5, 1.0, None), (['not', 'very', 'good'], -0.26923076923076916, 0.46153846153846156, None), (['little'], -0.1875, 0.5, None), (['very', 'happy'], 1.0, 1.0, None), (['better'], 0.5, 0.5, None)]\n"
     ]
    }
   ],
   "source": [
    "#nlp.add_pipe(\"spacytextblob\")\n",
    "doc = nlp(text_overall_capstoneproject)\n",
    "print('Polarity:', doc._.polarity)\n",
    "print('Sujectivity:', doc._.subjectivity)\n",
    "print('Assessments:', doc._.assessments)"
   ]
  },
  {
   "cell_type": "code",
   "execution_count": 141,
   "metadata": {},
   "outputs": [
    {
     "name": "stdout",
     "output_type": "stream",
     "text": [
      "-0.014938446969696964\n",
      "0.6056712962962963\n",
      "[(['very', 'hard', '!'], -0.47395833333333337, 0.7041666666666666, None), (['live'], 0.13636363636363635, 0.5, None), (['very'], 0.2, 0.3, None), (['hard'], -0.2916666666666667, 0.5416666666666666, None), (['good'], 0.7, 0.6000000000000001, None), (['bad'], -0.6999999999999998, 0.6666666666666666, None), (['normal'], 0.15, 0.6499999999999999, None), (['hard'], -0.2916666666666667, 0.5416666666666666, None), (['easy'], 0.43333333333333335, 0.8333333333333334, None), (['hard'], -0.2916666666666667, 0.5416666666666666, None), (['not', 'sure'], -0.25, 0.8888888888888888, None), (['better'], 0.5, 0.5, None)]\n"
     ]
    }
   ],
   "source": [
    "from textblob import TextBlob\n",
    "blob = TextBlob(text_overall)\n",
    "print(blob.sentiment_assessments.polarity)\n",
    "print(blob.sentiment_assessments.subjectivity)\n",
    "print(blob.sentiment_assessments.assessments)"
   ]
  },
  {
   "cell_type": "code",
   "execution_count": 156,
   "metadata": {},
   "outputs": [
    {
     "name": "stdout",
     "output_type": "stream",
     "text": [
      "0.4054086538461539\n",
      "0.7576923076923077\n",
      "[(['very', 'very', 'happy'], 1.0, 1.0, None), (['very', 'happy'], 1.0, 1.0, None), (['good'], 0.7, 0.6000000000000001, None), (['unfortunately'], -0.5, 1.0, None), (['not', 'very', 'good'], -0.26923076923076916, 0.46153846153846156, None), (['little'], -0.1875, 0.5, None), (['very', 'happy'], 1.0, 1.0, None), (['better'], 0.5, 0.5, None)]\n"
     ]
    }
   ],
   "source": [
    "blob = TextBlob(text_overall_capstoneproject)\n",
    "print(blob.sentiment_assessments.polarity)\n",
    "print(blob.sentiment_assessments.subjectivity)\n",
    "print(blob.sentiment_assessments.assessments)"
   ]
  },
  {
   "cell_type": "code",
   "execution_count": 132,
   "metadata": {
    "scrolled": false
   },
   "outputs": [],
   "source": [
    "#pip install wordcloud"
   ]
  },
  {
   "cell_type": "code",
   "execution_count": 133,
   "metadata": {},
   "outputs": [],
   "source": [
    "from wordcloud import WordCloud, STOPWORDS"
   ]
  },
  {
   "cell_type": "code",
   "execution_count": 144,
   "metadata": {
    "scrolled": true
   },
   "outputs": [
    {
     "data": {
      "text/plain": [
       "(-0.5, 1919.5, 1079.5, -0.5)"
      ]
     },
     "execution_count": 144,
     "metadata": {},
     "output_type": "execute_result"
    },
    {
     "data": {
      "image/png": "[encoded data removed]",
      "text/plain": [
       "<Figure size 432x288 with 1 Axes>"
      ]
     },
     "metadata": {
      "needs_background": "light"
     },
     "output_type": "display_data"
    }
   ],
   "source": [
    "wc = WordCloud(background_color = 'white', width = 1920, height = 1080)\n",
    "wc.generate_from_text(text_overall)\n",
    "plt.imshow(wc)\n",
    "plt.axis(\"off\")"
   ]
  },
  {
   "cell_type": "code",
   "execution_count": 157,
   "metadata": {},
   "outputs": [
    {
     "data": {
      "text/plain": [
       "(-0.5, 1919.5, 1079.5, -0.5)"
      ]
     },
     "execution_count": 157,
     "metadata": {},
     "output_type": "execute_result"
    },
    {
     "data": {
      "image/png": "[encoded data removed]",
      "text/plain": [
       "<Figure size 432x288 with 1 Axes>"
      ]
     },
     "metadata": {
      "needs_background": "light"
     },
     "output_type": "display_data"
    }
   ],
   "source": [
    "wc = WordCloud(background_color = 'white', width = 1920, height = 1080)\n",
    "wc.generate_from_text(text_overall_capstoneproject)\n",
    "plt.imshow(wc)\n",
    "plt.axis(\"off\")"
   ]
  },
  {
   "cell_type": "markdown",
   "metadata": {},
   "source": [
    "# Visualize Attendance  "
   ]
  },
  {
   "cell_type": "code",
   "execution_count": 146,
   "metadata": {},
   "outputs": [
    {
     "name": "stdout",
     "output_type": "stream",
     "text": [
      "Enter attendance percentage:70\n"
     ]
    }
   ],
   "source": [
    "attendance = int(input(\"Enter attendance percentage:\"))"
   ]
  },
  {
   "cell_type": "code",
   "execution_count": 147,
   "metadata": {},
   "outputs": [
    {
     "data": {
      "image/png": "[encoded data removed]",
      "text/plain": [
       "<Figure size 432x288 with 1 Axes>"
      ]
     },
     "metadata": {},
     "output_type": "display_data"
    }
   ],
   "source": [
    "# Pie chart\n",
    "sizes = [attendance,100-attendance]\n",
    "#colors\n",
    "colors = [\"#F8BE48\",'#c4c4c4']\n",
    "#explsion\n",
    "#explode = (0.05,0.05,0.05,0.05)\n",
    " \n",
    "plt.pie(sizes, colors = colors, startangle=90, pctdistance=0.85) #autopct='%1.1f%%'\n",
    "#draw circle\n",
    "centre_circle = plt.Circle((0,0),0.70,fc='white')\n",
    "fig = plt.gcf()\n",
    "fig.gca().add_artist(centre_circle)\n",
    "fig.gca().add_artist(centre_circle)\n",
    "plt.text(0.28, 0.45, str(attendance)+'%', fontsize=50, horizontalalignment='center',\n",
    "         verticalalignment='center', transform=ax.transAxes)\n",
    "\n",
    "# Equal aspect ratio ensures that pie is drawn as a circle\n",
    "#ax1.axis('equal')  \n",
    "plt.tight_layout()\n",
    "plt.show()\n"
   ]
  },
  {
   "cell_type": "code",
   "execution_count": null,
   "metadata": {},
   "outputs": [],
   "source": []
  }
 ],
 "metadata": {
  "kernelspec": {
   "display_name": "Python 3",
   "language": "python",
   "name": "python3"
  },
  "language_info": {
   "codemirror_mode": {
    "name": "ipython",
    "version": 3
   },
   "file_extension": ".py",
   "mimetype": "text/x-python",
   "name": "python",
   "nbconvert_exporter": "python",
   "pygments_lexer": "ipython3",
   "version": "3.8.3"
  }
 },
 "nbformat": 4,
 "nbformat_minor": 4
}
