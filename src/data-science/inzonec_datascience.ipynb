{
 "cells": [
  {
   "cell_type": "markdown",
   "metadata": {},
   "source": [
    "# Data Analytics Dashboard for Coordinators\n",
    "\n",
    "## The Coordinator can perform the following actions:\n",
    "\n",
    "### (I) Look at the following tables:\n",
    "- User Table which contains information about students, coordinators, their age, gender and the refugee camps they are based.\n",
    "- Exam Table which contains information about the students' exam scores and their feedback\n",
    "- Multiple Choice Questions (MCQ) Table which contains all the questions from second section, the true answers of the questions\n",
    "- Answers of every student corresponding to every question from the MCQ section\n",
    "- Truth Table containing answers of every student whether they were correct or not\n",
    "\n",
    "### (II) Analysis of Exam Scores:\n",
    "- Histogram plots for first, second, third section for the whole group \n",
    "- Identify which questions were the hardest \n",
    "- Average time taken to finish the exam\n",
    "- Can indentify which students scored the highest and which students scored the least\n",
    "\n",
    "### (III) Cheating Notification:\n",
    "- A table is displayed if two students have exactly the same answers with exactly the same time taken to finish the exam\n",
    "\n",
    "### (IV) Sentiment Analysis on Feedback provided by students:\n",
    "- Sentiment Analysis is performed on the feedback text data provided by the students: Polarity for the text varies between -1 and +1 where +1 implies extremly positive and -1 implies extremly negative\n",
    "- WordCloud corresponding to the most frequest used words in the feedback is shown\n",
    "\n",
    "### (V) Enter and visualize Attendance:\n",
    "- Coordinator can input the attendance percentage of a student and view a pie chart accordingly\n"
   ]
  },
  {
   "cell_type": "markdown",
   "metadata": {},
   "source": [
    "# The code begins here:"
   ]
  },
  {
   "cell_type": "code",
   "execution_count": 1,
   "metadata": {},
   "outputs": [],
   "source": [
    "#import required libraries\n",
    "\n",
    "import pandas as pd\n",
    "import numpy as np\n",
    "import seaborn as sns\n",
    "import matplotlib.pyplot as plt\n",
    "import json\n",
    "import requests"
   ]
  },
  {
   "cell_type": "markdown",
   "metadata": {},
   "source": [
    "## User Table"
   ]
  },
  {
   "cell_type": "code",
   "execution_count": 2,
   "metadata": {},
   "outputs": [],
   "source": [
    "url = \"https://inzone-c-parse.tools.deployimpact.ch/parse/users\"\n",
    "querystring = {\"include\":\"refugeeCampId\"}\n",
    "payload = \"\"\n",
    "headers = {\n",
    "    'X-Parse-Application-Id': \"inzonec\"\n",
    "    }\n",
    "response = requests.request(\"GET\", url, data=payload, headers=headers, params=querystring)\n",
    "#print(response.text)"
   ]
  },
  {
   "cell_type": "code",
   "execution_count": 3,
   "metadata": {},
   "outputs": [],
   "source": [
    "output = response.text"
   ]
  },
  {
   "cell_type": "code",
   "execution_count": 4,
   "metadata": {},
   "outputs": [],
   "source": [
    "response_dict = json.loads(output)"
   ]
  },
  {
   "cell_type": "code",
   "execution_count": 5,
   "metadata": {},
   "outputs": [],
   "source": [
    "df_response = pd.DataFrame(response_dict)"
   ]
  },
  {
   "cell_type": "code",
   "execution_count": 6,
   "metadata": {},
   "outputs": [],
   "source": [
    "trial = []"
   ]
  },
  {
   "cell_type": "code",
   "execution_count": 7,
   "metadata": {},
   "outputs": [],
   "source": [
    "for i in range(len(df_response)):\n",
    "    ck = pd.DataFrame(df_response.results[i])\n",
    "    trial.append(ck[ck.index == 'objectId'])\n",
    "    \n",
    "final_df_usertable = pd.concat(trial, ignore_index=True)\n"
   ]
  },
  {
   "cell_type": "code",
   "execution_count": 9,
   "metadata": {},
   "outputs": [
    {
     "data": {
      "text/html": [
       "<div>\n",
       "<style scoped>\n",
       "    .dataframe tbody tr th:only-of-type {\n",
       "        vertical-align: middle;\n",
       "    }\n",
       "\n",
       "    .dataframe tbody tr th {\n",
       "        vertical-align: top;\n",
       "    }\n",
       "\n",
       "    .dataframe thead th {\n",
       "        text-align: right;\n",
       "    }\n",
       "</style>\n",
       "<table border=\"1\" class=\"dataframe\">\n",
       "  <thead>\n",
       "    <tr style=\"text-align: right;\">\n",
       "      <th></th>\n",
       "      <th>objectId</th>\n",
       "      <th>username</th>\n",
       "      <th>phone</th>\n",
       "      <th>role</th>\n",
       "      <th>name</th>\n",
       "      <th>surName</th>\n",
       "      <th>createdAt</th>\n",
       "      <th>updatedAt</th>\n",
       "      <th>address</th>\n",
       "      <th>age</th>\n",
       "      <th>refugeeCampId</th>\n",
       "      <th>description</th>\n",
       "      <th>gender</th>\n",
       "      <th>ACL</th>\n",
       "      <th>emailVerified</th>\n",
       "    </tr>\n",
       "  </thead>\n",
       "  <tbody>\n",
       "    <tr>\n",
       "      <th>0</th>\n",
       "      <td>e1lEFJC3hK</td>\n",
       "      <td>giada</td>\n",
       "      <td>415-392-0202</td>\n",
       "      <td>student</td>\n",
       "      <td>Giada</td>\n",
       "      <td>Fallo</td>\n",
       "      <td>2021-10-27T11:01:56.071Z</td>\n",
       "      <td>2021-11-19T20:08:08.991Z</td>\n",
       "      <td>4626 Elk Street Anaheim California 92805</td>\n",
       "      <td>19</td>\n",
       "      <td>RGDifmMQAi</td>\n",
       "      <td>highschool student</td>\n",
       "      <td>Female</td>\n",
       "      <td>NaN</td>\n",
       "      <td>NaN</td>\n",
       "    </tr>\n",
       "    <tr>\n",
       "      <th>1</th>\n",
       "      <td>aZ0gXwjlNK</td>\n",
       "      <td>namrata</td>\n",
       "      <td>415-392-0203</td>\n",
       "      <td>student</td>\n",
       "      <td>Namrata</td>\n",
       "      <td>Gurung</td>\n",
       "      <td>2021-10-27T11:04:59.861Z</td>\n",
       "      <td>2021-11-19T20:08:11.562Z</td>\n",
       "      <td>3166 Pine Street Sheakleyville Pennsylvania 16151</td>\n",
       "      <td>18</td>\n",
       "      <td>RGDifmMQAi</td>\n",
       "      <td>want to improve herself more in education</td>\n",
       "      <td>Female</td>\n",
       "      <td>NaN</td>\n",
       "      <td>NaN</td>\n",
       "    </tr>\n",
       "    <tr>\n",
       "      <th>2</th>\n",
       "      <td>Zs9uCTRg59</td>\n",
       "      <td>marta</td>\n",
       "      <td>415-392-0204</td>\n",
       "      <td>student</td>\n",
       "      <td>Marta</td>\n",
       "      <td>Bonilla</td>\n",
       "      <td>2021-10-27T11:05:42.396Z</td>\n",
       "      <td>2021-11-19T20:02:11.651Z</td>\n",
       "      <td>2419 Chipmunk Lane Portland Maine 04101</td>\n",
       "      <td>17</td>\n",
       "      <td>RGDifmMQAi</td>\n",
       "      <td>university student.</td>\n",
       "      <td>Female</td>\n",
       "      <td>NaN</td>\n",
       "      <td>NaN</td>\n",
       "    </tr>\n",
       "    <tr>\n",
       "      <th>3</th>\n",
       "      <td>zy2Iymim8g</td>\n",
       "      <td>gioele</td>\n",
       "      <td>415-392-0205</td>\n",
       "      <td>student</td>\n",
       "      <td>Gioele</td>\n",
       "      <td>Monopoli</td>\n",
       "      <td>2021-10-27T11:06:24.032Z</td>\n",
       "      <td>2021-11-19T20:02:13.932Z</td>\n",
       "      <td>4013 Augusta Park Mullens West Virginia 25882</td>\n",
       "      <td>16</td>\n",
       "      <td>RGDifmMQAi</td>\n",
       "      <td>no background on education.</td>\n",
       "      <td>Male</td>\n",
       "      <td>NaN</td>\n",
       "      <td>NaN</td>\n",
       "    </tr>\n",
       "    <tr>\n",
       "      <th>4</th>\n",
       "      <td>khUX3max7b</td>\n",
       "      <td>juliet</td>\n",
       "      <td>415-392-0206</td>\n",
       "      <td>student</td>\n",
       "      <td>Juliet</td>\n",
       "      <td>Gisemba</td>\n",
       "      <td>2021-10-27T11:07:53.454Z</td>\n",
       "      <td>2021-11-03T19:55:33.998Z</td>\n",
       "      <td>653 Arlington Avenue Little Rock AR Arkansas 7...</td>\n",
       "      <td>15</td>\n",
       "      <td>RGDifmMQAi</td>\n",
       "      <td>Highschool student with strong passion</td>\n",
       "      <td>Female</td>\n",
       "      <td>NaN</td>\n",
       "      <td>True</td>\n",
       "    </tr>\n",
       "    <tr>\n",
       "      <th>5</th>\n",
       "      <td>xo7xcIt3Yq</td>\n",
       "      <td>emrecan</td>\n",
       "      <td>415-392-0207</td>\n",
       "      <td>coordinator</td>\n",
       "      <td>Emrecan</td>\n",
       "      <td>Ozkan</td>\n",
       "      <td>2021-10-27T11:08:22.792Z</td>\n",
       "      <td>2021-11-11T08:17:06.241Z</td>\n",
       "      <td>3079 Flint Street</td>\n",
       "      <td>22</td>\n",
       "      <td>RGDifmMQAi</td>\n",
       "      <td>Highschool student with strong passion</td>\n",
       "      <td>Male</td>\n",
       "      <td>NaN</td>\n",
       "      <td>NaN</td>\n",
       "    </tr>\n",
       "    <tr>\n",
       "      <th>6</th>\n",
       "      <td>YJxMmeKFYG</td>\n",
       "      <td>karim</td>\n",
       "      <td>415-392-0207</td>\n",
       "      <td>coordinator</td>\n",
       "      <td>Karim</td>\n",
       "      <td>Tutor</td>\n",
       "      <td>2021-11-10T11:08:36.131Z</td>\n",
       "      <td>2021-11-11T08:17:19.394Z</td>\n",
       "      <td>359 Essex Court</td>\n",
       "      <td>21</td>\n",
       "      <td>RGDifmMQAi</td>\n",
       "      <td>Highschool student with strong passion</td>\n",
       "      <td>Male</td>\n",
       "      <td>NaN</td>\n",
       "      <td>NaN</td>\n",
       "    </tr>\n",
       "    <tr>\n",
       "      <th>7</th>\n",
       "      <td>vcM0w26xi6</td>\n",
       "      <td>zakia</td>\n",
       "      <td>415-392-0207</td>\n",
       "      <td>student</td>\n",
       "      <td>Zakia</td>\n",
       "      <td>Student</td>\n",
       "      <td>2021-11-10T11:08:53.952Z</td>\n",
       "      <td>2021-11-11T08:17:22.978Z</td>\n",
       "      <td>349 Rhapsody Street</td>\n",
       "      <td>20</td>\n",
       "      <td>RGDifmMQAi</td>\n",
       "      <td>Highschool student with strong passion</td>\n",
       "      <td>Female</td>\n",
       "      <td>NaN</td>\n",
       "      <td>NaN</td>\n",
       "    </tr>\n",
       "  </tbody>\n",
       "</table>\n",
       "</div>"
      ],
      "text/plain": [
       "     objectId username         phone         role     name   surName  \\\n",
       "0  e1lEFJC3hK    giada  415-392-0202      student    Giada     Fallo   \n",
       "1  aZ0gXwjlNK  namrata  415-392-0203      student  Namrata    Gurung   \n",
       "2  Zs9uCTRg59    marta  415-392-0204      student    Marta   Bonilla   \n",
       "3  zy2Iymim8g   gioele  415-392-0205      student   Gioele  Monopoli   \n",
       "4  khUX3max7b   juliet  415-392-0206      student   Juliet   Gisemba   \n",
       "5  xo7xcIt3Yq  emrecan  415-392-0207  coordinator  Emrecan     Ozkan   \n",
       "6  YJxMmeKFYG    karim  415-392-0207  coordinator    Karim     Tutor   \n",
       "7  vcM0w26xi6    zakia  415-392-0207      student    Zakia   Student   \n",
       "\n",
       "                  createdAt                 updatedAt  \\\n",
       "0  2021-10-27T11:01:56.071Z  2021-11-19T20:08:08.991Z   \n",
       "1  2021-10-27T11:04:59.861Z  2021-11-19T20:08:11.562Z   \n",
       "2  2021-10-27T11:05:42.396Z  2021-11-19T20:02:11.651Z   \n",
       "3  2021-10-27T11:06:24.032Z  2021-11-19T20:02:13.932Z   \n",
       "4  2021-10-27T11:07:53.454Z  2021-11-03T19:55:33.998Z   \n",
       "5  2021-10-27T11:08:22.792Z  2021-11-11T08:17:06.241Z   \n",
       "6  2021-11-10T11:08:36.131Z  2021-11-11T08:17:19.394Z   \n",
       "7  2021-11-10T11:08:53.952Z  2021-11-11T08:17:22.978Z   \n",
       "\n",
       "                                             address  age refugeeCampId  \\\n",
       "0           4626 Elk Street Anaheim California 92805   19    RGDifmMQAi   \n",
       "1  3166 Pine Street Sheakleyville Pennsylvania 16151   18    RGDifmMQAi   \n",
       "2            2419 Chipmunk Lane Portland Maine 04101   17    RGDifmMQAi   \n",
       "3      4013 Augusta Park Mullens West Virginia 25882   16    RGDifmMQAi   \n",
       "4  653 Arlington Avenue Little Rock AR Arkansas 7...   15    RGDifmMQAi   \n",
       "5                                  3079 Flint Street   22    RGDifmMQAi   \n",
       "6                                    359 Essex Court   21    RGDifmMQAi   \n",
       "7                                349 Rhapsody Street   20    RGDifmMQAi   \n",
       "\n",
       "                                 description  gender  ACL emailVerified  \n",
       "0                         highschool student  Female  NaN           NaN  \n",
       "1  want to improve herself more in education  Female  NaN           NaN  \n",
       "2                        university student.  Female  NaN           NaN  \n",
       "3                no background on education.    Male  NaN           NaN  \n",
       "4     Highschool student with strong passion  Female  NaN          True  \n",
       "5     Highschool student with strong passion    Male  NaN           NaN  \n",
       "6     Highschool student with strong passion    Male  NaN           NaN  \n",
       "7     Highschool student with strong passion  Female  NaN           NaN  "
      ]
     },
     "execution_count": 9,
     "metadata": {},
     "output_type": "execute_result"
    }
   ],
   "source": [
    "final_df_usertable"
   ]
  },
  {
   "cell_type": "markdown",
   "metadata": {},
   "source": [
    "## Exam Table"
   ]
  },
  {
   "cell_type": "code",
   "execution_count": 10,
   "metadata": {
    "scrolled": true
   },
   "outputs": [],
   "source": [
    "url = \"https://inzone-c-parse.tools.deployimpact.ch/parse/classes/UserExam\"\n",
    "querystring = {\"include\":\"userId\", \"include\":\"examId\"}\n",
    "payload = \"\"\n",
    "headers = {\n",
    "    'X-Parse-Application-Id': \"inzonec\"\n",
    "    }\n",
    "response = requests.request(\"GET\", url, data=payload, headers=headers, params=querystring)\n",
    "#print(response.text)"
   ]
  },
  {
   "cell_type": "code",
   "execution_count": 11,
   "metadata": {},
   "outputs": [],
   "source": [
    "output = response.text"
   ]
  },
  {
   "cell_type": "code",
   "execution_count": 12,
   "metadata": {},
   "outputs": [],
   "source": [
    "response_dict = json.loads(output)"
   ]
  },
  {
   "cell_type": "code",
   "execution_count": 13,
   "metadata": {},
   "outputs": [],
   "source": [
    "df_response = pd.DataFrame(response_dict)"
   ]
  },
  {
   "cell_type": "code",
   "execution_count": 14,
   "metadata": {},
   "outputs": [],
   "source": [
    "trial = []"
   ]
  },
  {
   "cell_type": "code",
   "execution_count": 15,
   "metadata": {},
   "outputs": [],
   "source": [
    "for i in range(len(df_response)):\n",
    "    ck = pd.DataFrame(df_response.results[i])\n",
    "    trial.append(ck[ck.index == 'objectId'])\n",
    "    \n",
    "final_df_examtable = pd.concat(trial, ignore_index=True)\n"
   ]
  },
  {
   "cell_type": "code",
   "execution_count": 16,
   "metadata": {
    "scrolled": true
   },
   "outputs": [
    {
     "data": {
      "text/html": [
       "<div>\n",
       "<style scoped>\n",
       "    .dataframe tbody tr th:only-of-type {\n",
       "        vertical-align: middle;\n",
       "    }\n",
       "\n",
       "    .dataframe tbody tr th {\n",
       "        vertical-align: top;\n",
       "    }\n",
       "\n",
       "    .dataframe thead th {\n",
       "        text-align: right;\n",
       "    }\n",
       "</style>\n",
       "<table border=\"1\" class=\"dataframe\">\n",
       "  <thead>\n",
       "    <tr style=\"text-align: right;\">\n",
       "      <th></th>\n",
       "      <th>objectId</th>\n",
       "      <th>thirdSection</th>\n",
       "      <th>userId</th>\n",
       "      <th>examId</th>\n",
       "      <th>createdAt</th>\n",
       "      <th>updatedAt</th>\n",
       "      <th>optionalFeedback</th>\n",
       "      <th>capstoneProjectTextFeedback</th>\n",
       "      <th>firstSection</th>\n",
       "      <th>secondSection</th>\n",
       "      <th>totalTimeToFinishSecondSection</th>\n",
       "    </tr>\n",
       "  </thead>\n",
       "  <tbody>\n",
       "    <tr>\n",
       "      <th>0</th>\n",
       "      <td>MZiDmknBr3</td>\n",
       "      <td>100.0</td>\n",
       "      <td>vcM0w26xi6</td>\n",
       "      <td>1EKKLfkBDR</td>\n",
       "      <td>2021-11-11T08:18:24.227Z</td>\n",
       "      <td>2021-11-19T07:53:48.290Z</td>\n",
       "      <td>MCQ section was very hard! The live question s...</td>\n",
       "      <td>I am very very happy to finish this course.</td>\n",
       "      <td>60.0</td>\n",
       "      <td>80.0</td>\n",
       "      <td>8.0</td>\n",
       "    </tr>\n",
       "    <tr>\n",
       "      <th>1</th>\n",
       "      <td>CH0hVcqi5S</td>\n",
       "      <td>70.0</td>\n",
       "      <td>e1lEFJC3hK</td>\n",
       "      <td>1EKKLfkBDR</td>\n",
       "      <td>2021-11-19T07:31:58.321Z</td>\n",
       "      <td>2021-11-19T20:00:20.882Z</td>\n",
       "      <td>I have to work hard on those questions.</td>\n",
       "      <td>The course was awesome.</td>\n",
       "      <td>45.0</td>\n",
       "      <td>80.0</td>\n",
       "      <td>8.0</td>\n",
       "    </tr>\n",
       "    <tr>\n",
       "      <th>2</th>\n",
       "      <td>tNSNzAvzZi</td>\n",
       "      <td>65.0</td>\n",
       "      <td>khUX3max7b</td>\n",
       "      <td>1EKKLfkBDR</td>\n",
       "      <td>2021-11-19T19:55:37.807Z</td>\n",
       "      <td>2021-11-25T11:52:12.434Z</td>\n",
       "      <td>Neither good nor bad. It was a normal exam.</td>\n",
       "      <td>I am very happy to finish this course.</td>\n",
       "      <td>50.0</td>\n",
       "      <td>NaN</td>\n",
       "      <td>16.0</td>\n",
       "    </tr>\n",
       "    <tr>\n",
       "      <th>3</th>\n",
       "      <td>NOzD7Smsqe</td>\n",
       "      <td>55.0</td>\n",
       "      <td>zy2Iymim8g</td>\n",
       "      <td>1EKKLfkBDR</td>\n",
       "      <td>2021-11-19T20:03:28.131Z</td>\n",
       "      <td>2021-11-19T20:05:05.991Z</td>\n",
       "      <td>I had a hard time. Why did you ask so hard?</td>\n",
       "      <td>Although the course was good, unfortunately I ...</td>\n",
       "      <td>35.0</td>\n",
       "      <td>40.0</td>\n",
       "      <td>17.0</td>\n",
       "    </tr>\n",
       "    <tr>\n",
       "      <th>4</th>\n",
       "      <td>ozC9SB1b0f</td>\n",
       "      <td>100.0</td>\n",
       "      <td>Zs9uCTRg59</td>\n",
       "      <td>1EKKLfkBDR</td>\n",
       "      <td>2021-11-19T20:06:44.311Z</td>\n",
       "      <td>2021-11-19T20:07:52.891Z</td>\n",
       "      <td>Some questions were easy, some were hard. I di...</td>\n",
       "      <td>I am very happy to have finished this course. ...</td>\n",
       "      <td>75.0</td>\n",
       "      <td>80.0</td>\n",
       "      <td>15.0</td>\n",
       "    </tr>\n",
       "    <tr>\n",
       "      <th>5</th>\n",
       "      <td>1Bgpkc7lXt</td>\n",
       "      <td>40.0</td>\n",
       "      <td>aZ0gXwjlNK</td>\n",
       "      <td>1EKKLfkBDR</td>\n",
       "      <td>2021-11-19T20:09:45.272Z</td>\n",
       "      <td>2021-11-19T20:11:14.832Z</td>\n",
       "      <td>I'm not sure about some questions but I think ...</td>\n",
       "      <td>It was a better course than I thought. If I ha...</td>\n",
       "      <td>80.0</td>\n",
       "      <td>60.0</td>\n",
       "      <td>16.0</td>\n",
       "    </tr>\n",
       "    <tr>\n",
       "      <th>6</th>\n",
       "      <td>JTKBqDcMHA</td>\n",
       "      <td>NaN</td>\n",
       "      <td>vcM0w26xi6</td>\n",
       "      <td>HahVtDxtil</td>\n",
       "      <td>2021-11-25T10:45:56.701Z</td>\n",
       "      <td>2021-11-25T10:45:56.701Z</td>\n",
       "      <td>NaN</td>\n",
       "      <td>NaN</td>\n",
       "      <td>NaN</td>\n",
       "      <td>NaN</td>\n",
       "      <td>NaN</td>\n",
       "    </tr>\n",
       "  </tbody>\n",
       "</table>\n",
       "</div>"
      ],
      "text/plain": [
       "     objectId  thirdSection      userId      examId                 createdAt  \\\n",
       "0  MZiDmknBr3         100.0  vcM0w26xi6  1EKKLfkBDR  2021-11-11T08:18:24.227Z   \n",
       "1  CH0hVcqi5S          70.0  e1lEFJC3hK  1EKKLfkBDR  2021-11-19T07:31:58.321Z   \n",
       "2  tNSNzAvzZi          65.0  khUX3max7b  1EKKLfkBDR  2021-11-19T19:55:37.807Z   \n",
       "3  NOzD7Smsqe          55.0  zy2Iymim8g  1EKKLfkBDR  2021-11-19T20:03:28.131Z   \n",
       "4  ozC9SB1b0f         100.0  Zs9uCTRg59  1EKKLfkBDR  2021-11-19T20:06:44.311Z   \n",
       "5  1Bgpkc7lXt          40.0  aZ0gXwjlNK  1EKKLfkBDR  2021-11-19T20:09:45.272Z   \n",
       "6  JTKBqDcMHA           NaN  vcM0w26xi6  HahVtDxtil  2021-11-25T10:45:56.701Z   \n",
       "\n",
       "                  updatedAt  \\\n",
       "0  2021-11-19T07:53:48.290Z   \n",
       "1  2021-11-19T20:00:20.882Z   \n",
       "2  2021-11-25T11:52:12.434Z   \n",
       "3  2021-11-19T20:05:05.991Z   \n",
       "4  2021-11-19T20:07:52.891Z   \n",
       "5  2021-11-19T20:11:14.832Z   \n",
       "6  2021-11-25T10:45:56.701Z   \n",
       "\n",
       "                                    optionalFeedback  \\\n",
       "0  MCQ section was very hard! The live question s...   \n",
       "1            I have to work hard on those questions.   \n",
       "2        Neither good nor bad. It was a normal exam.   \n",
       "3        I had a hard time. Why did you ask so hard?   \n",
       "4  Some questions were easy, some were hard. I di...   \n",
       "5  I'm not sure about some questions but I think ...   \n",
       "6                                                NaN   \n",
       "\n",
       "                         capstoneProjectTextFeedback  firstSection  \\\n",
       "0        I am very very happy to finish this course.          60.0   \n",
       "1                            The course was awesome.          45.0   \n",
       "2             I am very happy to finish this course.          50.0   \n",
       "3  Although the course was good, unfortunately I ...          35.0   \n",
       "4  I am very happy to have finished this course. ...          75.0   \n",
       "5  It was a better course than I thought. If I ha...          80.0   \n",
       "6                                                NaN           NaN   \n",
       "\n",
       "   secondSection  totalTimeToFinishSecondSection  \n",
       "0           80.0                             8.0  \n",
       "1           80.0                             8.0  \n",
       "2            NaN                            16.0  \n",
       "3           40.0                            17.0  \n",
       "4           80.0                            15.0  \n",
       "5           60.0                            16.0  \n",
       "6            NaN                             NaN  "
      ]
     },
     "execution_count": 16,
     "metadata": {},
     "output_type": "execute_result"
    }
   ],
   "source": [
    "final_df_examtable"
   ]
  },
  {
   "cell_type": "code",
   "execution_count": 17,
   "metadata": {},
   "outputs": [],
   "source": [
    "final_df_examtable[\"overall_score\"] = final_df_examtable[\"firstSection\"] + final_df_examtable[\"secondSection\"] + final_df_examtable[\"thirdSection\"]"
   ]
  },
  {
   "cell_type": "code",
   "execution_count": 18,
   "metadata": {},
   "outputs": [],
   "source": [
    "final_df_examtable[\"overall_score_percentage\"] = (final_df_examtable[\"overall_score\"]/300) * 100"
   ]
  },
  {
   "cell_type": "code",
   "execution_count": 20,
   "metadata": {
    "scrolled": true
   },
   "outputs": [
    {
     "data": {
      "text/html": [
       "<div>\n",
       "<style scoped>\n",
       "    .dataframe tbody tr th:only-of-type {\n",
       "        vertical-align: middle;\n",
       "    }\n",
       "\n",
       "    .dataframe tbody tr th {\n",
       "        vertical-align: top;\n",
       "    }\n",
       "\n",
       "    .dataframe thead th {\n",
       "        text-align: right;\n",
       "    }\n",
       "</style>\n",
       "<table border=\"1\" class=\"dataframe\">\n",
       "  <thead>\n",
       "    <tr style=\"text-align: right;\">\n",
       "      <th></th>\n",
       "      <th>objectId</th>\n",
       "      <th>thirdSection</th>\n",
       "      <th>userId</th>\n",
       "      <th>examId</th>\n",
       "      <th>createdAt</th>\n",
       "      <th>updatedAt</th>\n",
       "      <th>optionalFeedback</th>\n",
       "      <th>capstoneProjectTextFeedback</th>\n",
       "      <th>firstSection</th>\n",
       "      <th>secondSection</th>\n",
       "      <th>totalTimeToFinishSecondSection</th>\n",
       "      <th>overall_score</th>\n",
       "      <th>overall_score_percentage</th>\n",
       "    </tr>\n",
       "  </thead>\n",
       "  <tbody>\n",
       "    <tr>\n",
       "      <th>0</th>\n",
       "      <td>MZiDmknBr3</td>\n",
       "      <td>100.0</td>\n",
       "      <td>vcM0w26xi6</td>\n",
       "      <td>1EKKLfkBDR</td>\n",
       "      <td>2021-11-11T08:18:24.227Z</td>\n",
       "      <td>2021-11-19T07:53:48.290Z</td>\n",
       "      <td>MCQ section was very hard! The live question s...</td>\n",
       "      <td>I am very very happy to finish this course.</td>\n",
       "      <td>60.0</td>\n",
       "      <td>80.0</td>\n",
       "      <td>8.0</td>\n",
       "      <td>240.0</td>\n",
       "      <td>80.000000</td>\n",
       "    </tr>\n",
       "    <tr>\n",
       "      <th>1</th>\n",
       "      <td>CH0hVcqi5S</td>\n",
       "      <td>70.0</td>\n",
       "      <td>e1lEFJC3hK</td>\n",
       "      <td>1EKKLfkBDR</td>\n",
       "      <td>2021-11-19T07:31:58.321Z</td>\n",
       "      <td>2021-11-19T20:00:20.882Z</td>\n",
       "      <td>I have to work hard on those questions.</td>\n",
       "      <td>The course was awesome.</td>\n",
       "      <td>45.0</td>\n",
       "      <td>80.0</td>\n",
       "      <td>8.0</td>\n",
       "      <td>195.0</td>\n",
       "      <td>65.000000</td>\n",
       "    </tr>\n",
       "    <tr>\n",
       "      <th>2</th>\n",
       "      <td>tNSNzAvzZi</td>\n",
       "      <td>65.0</td>\n",
       "      <td>khUX3max7b</td>\n",
       "      <td>1EKKLfkBDR</td>\n",
       "      <td>2021-11-19T19:55:37.807Z</td>\n",
       "      <td>2021-11-25T11:52:12.434Z</td>\n",
       "      <td>Neither good nor bad. It was a normal exam.</td>\n",
       "      <td>I am very happy to finish this course.</td>\n",
       "      <td>50.0</td>\n",
       "      <td>NaN</td>\n",
       "      <td>16.0</td>\n",
       "      <td>NaN</td>\n",
       "      <td>NaN</td>\n",
       "    </tr>\n",
       "    <tr>\n",
       "      <th>3</th>\n",
       "      <td>NOzD7Smsqe</td>\n",
       "      <td>55.0</td>\n",
       "      <td>zy2Iymim8g</td>\n",
       "      <td>1EKKLfkBDR</td>\n",
       "      <td>2021-11-19T20:03:28.131Z</td>\n",
       "      <td>2021-11-19T20:05:05.991Z</td>\n",
       "      <td>I had a hard time. Why did you ask so hard?</td>\n",
       "      <td>Although the course was good, unfortunately I ...</td>\n",
       "      <td>35.0</td>\n",
       "      <td>40.0</td>\n",
       "      <td>17.0</td>\n",
       "      <td>130.0</td>\n",
       "      <td>43.333333</td>\n",
       "    </tr>\n",
       "    <tr>\n",
       "      <th>4</th>\n",
       "      <td>ozC9SB1b0f</td>\n",
       "      <td>100.0</td>\n",
       "      <td>Zs9uCTRg59</td>\n",
       "      <td>1EKKLfkBDR</td>\n",
       "      <td>2021-11-19T20:06:44.311Z</td>\n",
       "      <td>2021-11-19T20:07:52.891Z</td>\n",
       "      <td>Some questions were easy, some were hard. I di...</td>\n",
       "      <td>I am very happy to have finished this course. ...</td>\n",
       "      <td>75.0</td>\n",
       "      <td>80.0</td>\n",
       "      <td>15.0</td>\n",
       "      <td>255.0</td>\n",
       "      <td>85.000000</td>\n",
       "    </tr>\n",
       "    <tr>\n",
       "      <th>5</th>\n",
       "      <td>1Bgpkc7lXt</td>\n",
       "      <td>40.0</td>\n",
       "      <td>aZ0gXwjlNK</td>\n",
       "      <td>1EKKLfkBDR</td>\n",
       "      <td>2021-11-19T20:09:45.272Z</td>\n",
       "      <td>2021-11-19T20:11:14.832Z</td>\n",
       "      <td>I'm not sure about some questions but I think ...</td>\n",
       "      <td>It was a better course than I thought. If I ha...</td>\n",
       "      <td>80.0</td>\n",
       "      <td>60.0</td>\n",
       "      <td>16.0</td>\n",
       "      <td>180.0</td>\n",
       "      <td>60.000000</td>\n",
       "    </tr>\n",
       "    <tr>\n",
       "      <th>6</th>\n",
       "      <td>JTKBqDcMHA</td>\n",
       "      <td>NaN</td>\n",
       "      <td>vcM0w26xi6</td>\n",
       "      <td>HahVtDxtil</td>\n",
       "      <td>2021-11-25T10:45:56.701Z</td>\n",
       "      <td>2021-11-25T10:45:56.701Z</td>\n",
       "      <td>NaN</td>\n",
       "      <td>NaN</td>\n",
       "      <td>NaN</td>\n",
       "      <td>NaN</td>\n",
       "      <td>NaN</td>\n",
       "      <td>NaN</td>\n",
       "      <td>NaN</td>\n",
       "    </tr>\n",
       "  </tbody>\n",
       "</table>\n",
       "</div>"
      ],
      "text/plain": [
       "     objectId  thirdSection      userId      examId                 createdAt  \\\n",
       "0  MZiDmknBr3         100.0  vcM0w26xi6  1EKKLfkBDR  2021-11-11T08:18:24.227Z   \n",
       "1  CH0hVcqi5S          70.0  e1lEFJC3hK  1EKKLfkBDR  2021-11-19T07:31:58.321Z   \n",
       "2  tNSNzAvzZi          65.0  khUX3max7b  1EKKLfkBDR  2021-11-19T19:55:37.807Z   \n",
       "3  NOzD7Smsqe          55.0  zy2Iymim8g  1EKKLfkBDR  2021-11-19T20:03:28.131Z   \n",
       "4  ozC9SB1b0f         100.0  Zs9uCTRg59  1EKKLfkBDR  2021-11-19T20:06:44.311Z   \n",
       "5  1Bgpkc7lXt          40.0  aZ0gXwjlNK  1EKKLfkBDR  2021-11-19T20:09:45.272Z   \n",
       "6  JTKBqDcMHA           NaN  vcM0w26xi6  HahVtDxtil  2021-11-25T10:45:56.701Z   \n",
       "\n",
       "                  updatedAt  \\\n",
       "0  2021-11-19T07:53:48.290Z   \n",
       "1  2021-11-19T20:00:20.882Z   \n",
       "2  2021-11-25T11:52:12.434Z   \n",
       "3  2021-11-19T20:05:05.991Z   \n",
       "4  2021-11-19T20:07:52.891Z   \n",
       "5  2021-11-19T20:11:14.832Z   \n",
       "6  2021-11-25T10:45:56.701Z   \n",
       "\n",
       "                                    optionalFeedback  \\\n",
       "0  MCQ section was very hard! The live question s...   \n",
       "1            I have to work hard on those questions.   \n",
       "2        Neither good nor bad. It was a normal exam.   \n",
       "3        I had a hard time. Why did you ask so hard?   \n",
       "4  Some questions were easy, some were hard. I di...   \n",
       "5  I'm not sure about some questions but I think ...   \n",
       "6                                                NaN   \n",
       "\n",
       "                         capstoneProjectTextFeedback  firstSection  \\\n",
       "0        I am very very happy to finish this course.          60.0   \n",
       "1                            The course was awesome.          45.0   \n",
       "2             I am very happy to finish this course.          50.0   \n",
       "3  Although the course was good, unfortunately I ...          35.0   \n",
       "4  I am very happy to have finished this course. ...          75.0   \n",
       "5  It was a better course than I thought. If I ha...          80.0   \n",
       "6                                                NaN           NaN   \n",
       "\n",
       "   secondSection  totalTimeToFinishSecondSection  overall_score  \\\n",
       "0           80.0                             8.0          240.0   \n",
       "1           80.0                             8.0          195.0   \n",
       "2            NaN                            16.0            NaN   \n",
       "3           40.0                            17.0          130.0   \n",
       "4           80.0                            15.0          255.0   \n",
       "5           60.0                            16.0          180.0   \n",
       "6            NaN                             NaN            NaN   \n",
       "\n",
       "   overall_score_percentage  \n",
       "0                 80.000000  \n",
       "1                 65.000000  \n",
       "2                       NaN  \n",
       "3                 43.333333  \n",
       "4                 85.000000  \n",
       "5                 60.000000  \n",
       "6                       NaN  "
      ]
     },
     "execution_count": 20,
     "metadata": {},
     "output_type": "execute_result"
    }
   ],
   "source": [
    "final_df_examtable"
   ]
  },
  {
   "cell_type": "markdown",
   "metadata": {},
   "source": [
    "## Average time taken to finish the exam"
   ]
  },
  {
   "cell_type": "code",
   "execution_count": 21,
   "metadata": {},
   "outputs": [
    {
     "data": {
      "text/plain": [
       "13.333333333333334"
      ]
     },
     "execution_count": 21,
     "metadata": {},
     "output_type": "execute_result"
    }
   ],
   "source": [
    "final_df_examtable[\"totalTimeToFinishSecondSection\"].mean()"
   ]
  },
  {
   "cell_type": "code",
   "execution_count": 22,
   "metadata": {},
   "outputs": [
    {
     "data": {
      "text/plain": [
       "7"
      ]
     },
     "execution_count": 22,
     "metadata": {},
     "output_type": "execute_result"
    }
   ],
   "source": [
    "len(final_df_examtable)"
   ]
  },
  {
   "cell_type": "code",
   "execution_count": 23,
   "metadata": {},
   "outputs": [],
   "source": [
    "final_df_examtable[\"gender\"] = 0\n",
    "final_df_examtable[\"age\"] = 0\n",
    "final_df_examtable[\"username\"] = 0"
   ]
  },
  {
   "cell_type": "code",
   "execution_count": 24,
   "metadata": {},
   "outputs": [
    {
     "name": "stderr",
     "output_type": "stream",
     "text": [
      "<ipython-input-24-56e3877e36bd>:4: SettingWithCopyWarning: \n",
      "A value is trying to be set on a copy of a slice from a DataFrame\n",
      "\n",
      "See the caveats in the documentation: https://pandas.pydata.org/pandas-docs/stable/user_guide/indexing.html#returning-a-view-versus-a-copy\n",
      "  final_df_examtable[\"gender\"][i] = final_df_usertable[\"gender\"][j]\n",
      "C:\\Users\\namra\\anaconda3\\lib\\site-packages\\pandas\\core\\indexing.py:671: SettingWithCopyWarning: \n",
      "A value is trying to be set on a copy of a slice from a DataFrame\n",
      "\n",
      "See the caveats in the documentation: https://pandas.pydata.org/pandas-docs/stable/user_guide/indexing.html#returning-a-view-versus-a-copy\n",
      "  self._setitem_with_indexer(indexer, value)\n",
      "<ipython-input-24-56e3877e36bd>:5: SettingWithCopyWarning: \n",
      "A value is trying to be set on a copy of a slice from a DataFrame\n",
      "\n",
      "See the caveats in the documentation: https://pandas.pydata.org/pandas-docs/stable/user_guide/indexing.html#returning-a-view-versus-a-copy\n",
      "  final_df_examtable[\"age\"][i] = final_df_usertable[\"age\"][j]\n",
      "<ipython-input-24-56e3877e36bd>:6: SettingWithCopyWarning: \n",
      "A value is trying to be set on a copy of a slice from a DataFrame\n",
      "\n",
      "See the caveats in the documentation: https://pandas.pydata.org/pandas-docs/stable/user_guide/indexing.html#returning-a-view-versus-a-copy\n",
      "  final_df_examtable[\"username\"][i] = final_df_usertable[\"username\"][j]\n"
     ]
    }
   ],
   "source": [
    "for i in range(len(final_df_examtable)):\n",
    "    for j in range(len(final_df_usertable)):\n",
    "        if (final_df_examtable['userId'][i]==final_df_usertable[\"objectId\"][j]):\n",
    "            final_df_examtable[\"gender\"][i] = final_df_usertable[\"gender\"][j]\n",
    "            final_df_examtable[\"age\"][i] = final_df_usertable[\"age\"][j]\n",
    "            final_df_examtable[\"username\"][i] = final_df_usertable[\"username\"][j]"
   ]
  },
  {
   "cell_type": "code",
   "execution_count": 25,
   "metadata": {},
   "outputs": [
    {
     "data": {
      "text/html": [
       "<div>\n",
       "<style scoped>\n",
       "    .dataframe tbody tr th:only-of-type {\n",
       "        vertical-align: middle;\n",
       "    }\n",
       "\n",
       "    .dataframe tbody tr th {\n",
       "        vertical-align: top;\n",
       "    }\n",
       "\n",
       "    .dataframe thead th {\n",
       "        text-align: right;\n",
       "    }\n",
       "</style>\n",
       "<table border=\"1\" class=\"dataframe\">\n",
       "  <thead>\n",
       "    <tr style=\"text-align: right;\">\n",
       "      <th></th>\n",
       "      <th>objectId</th>\n",
       "      <th>thirdSection</th>\n",
       "      <th>userId</th>\n",
       "      <th>examId</th>\n",
       "      <th>createdAt</th>\n",
       "      <th>updatedAt</th>\n",
       "      <th>optionalFeedback</th>\n",
       "      <th>capstoneProjectTextFeedback</th>\n",
       "      <th>firstSection</th>\n",
       "      <th>secondSection</th>\n",
       "      <th>totalTimeToFinishSecondSection</th>\n",
       "      <th>overall_score</th>\n",
       "      <th>overall_score_percentage</th>\n",
       "      <th>gender</th>\n",
       "      <th>age</th>\n",
       "      <th>username</th>\n",
       "    </tr>\n",
       "  </thead>\n",
       "  <tbody>\n",
       "    <tr>\n",
       "      <th>0</th>\n",
       "      <td>MZiDmknBr3</td>\n",
       "      <td>100.0</td>\n",
       "      <td>vcM0w26xi6</td>\n",
       "      <td>1EKKLfkBDR</td>\n",
       "      <td>2021-11-11T08:18:24.227Z</td>\n",
       "      <td>2021-11-19T07:53:48.290Z</td>\n",
       "      <td>MCQ section was very hard! The live question s...</td>\n",
       "      <td>I am very very happy to finish this course.</td>\n",
       "      <td>60.0</td>\n",
       "      <td>80.0</td>\n",
       "      <td>8.0</td>\n",
       "      <td>240.0</td>\n",
       "      <td>80.000000</td>\n",
       "      <td>Female</td>\n",
       "      <td>20</td>\n",
       "      <td>zakia</td>\n",
       "    </tr>\n",
       "    <tr>\n",
       "      <th>1</th>\n",
       "      <td>CH0hVcqi5S</td>\n",
       "      <td>70.0</td>\n",
       "      <td>e1lEFJC3hK</td>\n",
       "      <td>1EKKLfkBDR</td>\n",
       "      <td>2021-11-19T07:31:58.321Z</td>\n",
       "      <td>2021-11-19T20:00:20.882Z</td>\n",
       "      <td>I have to work hard on those questions.</td>\n",
       "      <td>The course was awesome.</td>\n",
       "      <td>45.0</td>\n",
       "      <td>80.0</td>\n",
       "      <td>8.0</td>\n",
       "      <td>195.0</td>\n",
       "      <td>65.000000</td>\n",
       "      <td>Female</td>\n",
       "      <td>19</td>\n",
       "      <td>giada</td>\n",
       "    </tr>\n",
       "    <tr>\n",
       "      <th>2</th>\n",
       "      <td>tNSNzAvzZi</td>\n",
       "      <td>65.0</td>\n",
       "      <td>khUX3max7b</td>\n",
       "      <td>1EKKLfkBDR</td>\n",
       "      <td>2021-11-19T19:55:37.807Z</td>\n",
       "      <td>2021-11-25T11:52:12.434Z</td>\n",
       "      <td>Neither good nor bad. It was a normal exam.</td>\n",
       "      <td>I am very happy to finish this course.</td>\n",
       "      <td>50.0</td>\n",
       "      <td>NaN</td>\n",
       "      <td>16.0</td>\n",
       "      <td>NaN</td>\n",
       "      <td>NaN</td>\n",
       "      <td>Female</td>\n",
       "      <td>15</td>\n",
       "      <td>juliet</td>\n",
       "    </tr>\n",
       "    <tr>\n",
       "      <th>3</th>\n",
       "      <td>NOzD7Smsqe</td>\n",
       "      <td>55.0</td>\n",
       "      <td>zy2Iymim8g</td>\n",
       "      <td>1EKKLfkBDR</td>\n",
       "      <td>2021-11-19T20:03:28.131Z</td>\n",
       "      <td>2021-11-19T20:05:05.991Z</td>\n",
       "      <td>I had a hard time. Why did you ask so hard?</td>\n",
       "      <td>Although the course was good, unfortunately I ...</td>\n",
       "      <td>35.0</td>\n",
       "      <td>40.0</td>\n",
       "      <td>17.0</td>\n",
       "      <td>130.0</td>\n",
       "      <td>43.333333</td>\n",
       "      <td>Male</td>\n",
       "      <td>16</td>\n",
       "      <td>gioele</td>\n",
       "    </tr>\n",
       "    <tr>\n",
       "      <th>4</th>\n",
       "      <td>ozC9SB1b0f</td>\n",
       "      <td>100.0</td>\n",
       "      <td>Zs9uCTRg59</td>\n",
       "      <td>1EKKLfkBDR</td>\n",
       "      <td>2021-11-19T20:06:44.311Z</td>\n",
       "      <td>2021-11-19T20:07:52.891Z</td>\n",
       "      <td>Some questions were easy, some were hard. I di...</td>\n",
       "      <td>I am very happy to have finished this course. ...</td>\n",
       "      <td>75.0</td>\n",
       "      <td>80.0</td>\n",
       "      <td>15.0</td>\n",
       "      <td>255.0</td>\n",
       "      <td>85.000000</td>\n",
       "      <td>Female</td>\n",
       "      <td>17</td>\n",
       "      <td>marta</td>\n",
       "    </tr>\n",
       "    <tr>\n",
       "      <th>5</th>\n",
       "      <td>1Bgpkc7lXt</td>\n",
       "      <td>40.0</td>\n",
       "      <td>aZ0gXwjlNK</td>\n",
       "      <td>1EKKLfkBDR</td>\n",
       "      <td>2021-11-19T20:09:45.272Z</td>\n",
       "      <td>2021-11-19T20:11:14.832Z</td>\n",
       "      <td>I'm not sure about some questions but I think ...</td>\n",
       "      <td>It was a better course than I thought. If I ha...</td>\n",
       "      <td>80.0</td>\n",
       "      <td>60.0</td>\n",
       "      <td>16.0</td>\n",
       "      <td>180.0</td>\n",
       "      <td>60.000000</td>\n",
       "      <td>Female</td>\n",
       "      <td>18</td>\n",
       "      <td>namrata</td>\n",
       "    </tr>\n",
       "    <tr>\n",
       "      <th>6</th>\n",
       "      <td>JTKBqDcMHA</td>\n",
       "      <td>NaN</td>\n",
       "      <td>vcM0w26xi6</td>\n",
       "      <td>HahVtDxtil</td>\n",
       "      <td>2021-11-25T10:45:56.701Z</td>\n",
       "      <td>2021-11-25T10:45:56.701Z</td>\n",
       "      <td>NaN</td>\n",
       "      <td>NaN</td>\n",
       "      <td>NaN</td>\n",
       "      <td>NaN</td>\n",
       "      <td>NaN</td>\n",
       "      <td>NaN</td>\n",
       "      <td>NaN</td>\n",
       "      <td>Female</td>\n",
       "      <td>20</td>\n",
       "      <td>zakia</td>\n",
       "    </tr>\n",
       "  </tbody>\n",
       "</table>\n",
       "</div>"
      ],
      "text/plain": [
       "     objectId  thirdSection      userId      examId                 createdAt  \\\n",
       "0  MZiDmknBr3         100.0  vcM0w26xi6  1EKKLfkBDR  2021-11-11T08:18:24.227Z   \n",
       "1  CH0hVcqi5S          70.0  e1lEFJC3hK  1EKKLfkBDR  2021-11-19T07:31:58.321Z   \n",
       "2  tNSNzAvzZi          65.0  khUX3max7b  1EKKLfkBDR  2021-11-19T19:55:37.807Z   \n",
       "3  NOzD7Smsqe          55.0  zy2Iymim8g  1EKKLfkBDR  2021-11-19T20:03:28.131Z   \n",
       "4  ozC9SB1b0f         100.0  Zs9uCTRg59  1EKKLfkBDR  2021-11-19T20:06:44.311Z   \n",
       "5  1Bgpkc7lXt          40.0  aZ0gXwjlNK  1EKKLfkBDR  2021-11-19T20:09:45.272Z   \n",
       "6  JTKBqDcMHA           NaN  vcM0w26xi6  HahVtDxtil  2021-11-25T10:45:56.701Z   \n",
       "\n",
       "                  updatedAt  \\\n",
       "0  2021-11-19T07:53:48.290Z   \n",
       "1  2021-11-19T20:00:20.882Z   \n",
       "2  2021-11-25T11:52:12.434Z   \n",
       "3  2021-11-19T20:05:05.991Z   \n",
       "4  2021-11-19T20:07:52.891Z   \n",
       "5  2021-11-19T20:11:14.832Z   \n",
       "6  2021-11-25T10:45:56.701Z   \n",
       "\n",
       "                                    optionalFeedback  \\\n",
       "0  MCQ section was very hard! The live question s...   \n",
       "1            I have to work hard on those questions.   \n",
       "2        Neither good nor bad. It was a normal exam.   \n",
       "3        I had a hard time. Why did you ask so hard?   \n",
       "4  Some questions were easy, some were hard. I di...   \n",
       "5  I'm not sure about some questions but I think ...   \n",
       "6                                                NaN   \n",
       "\n",
       "                         capstoneProjectTextFeedback  firstSection  \\\n",
       "0        I am very very happy to finish this course.          60.0   \n",
       "1                            The course was awesome.          45.0   \n",
       "2             I am very happy to finish this course.          50.0   \n",
       "3  Although the course was good, unfortunately I ...          35.0   \n",
       "4  I am very happy to have finished this course. ...          75.0   \n",
       "5  It was a better course than I thought. If I ha...          80.0   \n",
       "6                                                NaN           NaN   \n",
       "\n",
       "   secondSection  totalTimeToFinishSecondSection  overall_score  \\\n",
       "0           80.0                             8.0          240.0   \n",
       "1           80.0                             8.0          195.0   \n",
       "2            NaN                            16.0            NaN   \n",
       "3           40.0                            17.0          130.0   \n",
       "4           80.0                            15.0          255.0   \n",
       "5           60.0                            16.0          180.0   \n",
       "6            NaN                             NaN            NaN   \n",
       "\n",
       "   overall_score_percentage  gender  age username  \n",
       "0                 80.000000  Female   20    zakia  \n",
       "1                 65.000000  Female   19    giada  \n",
       "2                       NaN  Female   15   juliet  \n",
       "3                 43.333333    Male   16   gioele  \n",
       "4                 85.000000  Female   17    marta  \n",
       "5                 60.000000  Female   18  namrata  \n",
       "6                       NaN  Female   20    zakia  "
      ]
     },
     "execution_count": 25,
     "metadata": {},
     "output_type": "execute_result"
    }
   ],
   "source": [
    "final_df_examtable"
   ]
  },
  {
   "cell_type": "markdown",
   "metadata": {},
   "source": [
    "# Analysis of the Exam Scores"
   ]
  },
  {
   "cell_type": "code",
   "execution_count": 34,
   "metadata": {},
   "outputs": [
    {
     "data": {
      "image/png": "[encoded data removed]",
      "text/plain": [
       "<Figure size 432x288 with 1 Axes>"
      ]
     },
     "metadata": {
      "needs_background": "light"
     },
     "output_type": "display_data"
    }
   ],
   "source": [
    "fig, ax = plt.subplots()\n",
    "sns.histplot(data=final_df_examtable, x=\"overall_score_percentage\", color=\"#F8BE48\", binwidth=10, ax = ax)\n",
    "ax.set_xlim(0,100)\n",
    "plt.show()\n",
    "#fig.savefig(\"overallscorepercentage.png\")"
   ]
  },
  {
   "cell_type": "code",
   "execution_count": 27,
   "metadata": {},
   "outputs": [
    {
     "data": {
      "image/png": "[encoded data removed]",
      "text/plain": [
       "<Figure size 432x288 with 1 Axes>"
      ]
     },
     "metadata": {
      "needs_background": "light"
     },
     "output_type": "display_data"
    }
   ],
   "source": [
    "fig, ax = plt.subplots()\n",
    "sns.histplot(data=final_df_examtable, x=\"firstSection\", color=\"#F8BE48\", binwidth=10)\n",
    "ax.set_xlim(0,100)\n",
    "plt.show()"
   ]
  },
  {
   "cell_type": "code",
   "execution_count": 28,
   "metadata": {},
   "outputs": [
    {
     "data": {
      "image/png": "[encoded data removed]",
      "text/plain": [
       "<Figure size 432x288 with 1 Axes>"
      ]
     },
     "metadata": {
      "needs_background": "light"
     },
     "output_type": "display_data"
    }
   ],
   "source": [
    "fig, ax = plt.subplots()\n",
    "sns.histplot(data=final_df_examtable, x=\"secondSection\", color=\"#F8BE48\", binwidth = 10)\n",
    "ax.set_xlim(0,100)\n",
    "plt.show()"
   ]
  },
  {
   "cell_type": "code",
   "execution_count": 35,
   "metadata": {},
   "outputs": [
    {
     "data": {
      "image/png": "[encoded data removed]",
      "text/plain": [
       "<Figure size 432x288 with 1 Axes>"
      ]
     },
     "metadata": {
      "needs_background": "light"
     },
     "output_type": "display_data"
    }
   ],
   "source": [
    "fig, ax = plt.subplots()\n",
    "sns.histplot(data=final_df_examtable, x=\"thirdSection\", color=\"#F8BE48\", binwidth = 10)\n",
    "ax.set_xlim(0,100)\n",
    "plt.show()"
   ]
  },
  {
   "cell_type": "code",
   "execution_count": 36,
   "metadata": {},
   "outputs": [
    {
     "data": {
      "image/png": "[encoded data removed]",
      "text/plain": [
       "<Figure size 432x288 with 1 Axes>"
      ]
     },
     "metadata": {
      "needs_background": "light"
     },
     "output_type": "display_data"
    }
   ],
   "source": [
    "fig, ax = plt.subplots()\n",
    "sns.scatterplot(data=final_df_examtable, x=\"username\", y=\"overall_score_percentage\", hue=\"gender\", s = 70)\n",
    "ax.set_ylim(0,100)\n",
    "plt.show()\n",
    "#fig.savefig(\"gender_marks.png\")"
   ]
  },
  {
   "cell_type": "code",
   "execution_count": 37,
   "metadata": {},
   "outputs": [
    {
     "data": {
      "image/png": "[encoded data removed]",
      "text/plain": [
       "<Figure size 432x288 with 1 Axes>"
      ]
     },
     "metadata": {
      "needs_background": "light"
     },
     "output_type": "display_data"
    }
   ],
   "source": [
    "fig, ax = plt.subplots()\n",
    "sns.scatterplot(data=final_df_examtable, x=\"username\", y=\"overall_score_percentage\", hue=\"age\", s = 70, palette = \"rocket\")\n",
    "ax.set_ylim(0,100)\n",
    "plt.show()\n",
    "fig.savefig(\"age_marks.png\")"
   ]
  },
  {
   "cell_type": "markdown",
   "metadata": {},
   "source": [
    "# Multiple Choice Questions Table"
   ]
  },
  {
   "cell_type": "code",
   "execution_count": 38,
   "metadata": {
    "scrolled": true
   },
   "outputs": [],
   "source": [
    "url = \"https://inzone-c-parse.tools.deployimpact.ch/parse/classes/MultipleChoiceQuestion\"\n",
    "querystring = {}\n",
    "payload = \"\"\n",
    "headers = {\n",
    "    'X-Parse-Application-Id': \"inzonec\"\n",
    "    }\n",
    "response = requests.request(\"GET\", url, data=payload, headers=headers, params=querystring)\n",
    "#print(response.text)"
   ]
  },
  {
   "cell_type": "code",
   "execution_count": 39,
   "metadata": {},
   "outputs": [],
   "source": [
    "output = response.text"
   ]
  },
  {
   "cell_type": "code",
   "execution_count": 40,
   "metadata": {},
   "outputs": [],
   "source": [
    "response_dict = json.loads(output)"
   ]
  },
  {
   "cell_type": "code",
   "execution_count": 41,
   "metadata": {},
   "outputs": [],
   "source": [
    "df_response = pd.DataFrame(response_dict)"
   ]
  },
  {
   "cell_type": "code",
   "execution_count": 42,
   "metadata": {},
   "outputs": [],
   "source": [
    "trial = []"
   ]
  },
  {
   "cell_type": "code",
   "execution_count": 43,
   "metadata": {},
   "outputs": [],
   "source": [
    "for i in range(len(df_response)):\n",
    "    ck = pd.DataFrame(df_response.results[i])\n",
    "    trial.append(ck[ck.index == 'objectId'])\n",
    "    \n",
    "final_df_MCQtable = pd.concat(trial, ignore_index=True)\n"
   ]
  },
  {
   "cell_type": "code",
   "execution_count": 44,
   "metadata": {
    "scrolled": true
   },
   "outputs": [
    {
     "data": {
      "text/html": [
       "<div>\n",
       "<style scoped>\n",
       "    .dataframe tbody tr th:only-of-type {\n",
       "        vertical-align: middle;\n",
       "    }\n",
       "\n",
       "    .dataframe tbody tr th {\n",
       "        vertical-align: top;\n",
       "    }\n",
       "\n",
       "    .dataframe thead th {\n",
       "        text-align: right;\n",
       "    }\n",
       "</style>\n",
       "<table border=\"1\" class=\"dataframe\">\n",
       "  <thead>\n",
       "    <tr style=\"text-align: right;\">\n",
       "      <th></th>\n",
       "      <th>objectId</th>\n",
       "      <th>answerA</th>\n",
       "      <th>question</th>\n",
       "      <th>answerB</th>\n",
       "      <th>answerC</th>\n",
       "      <th>answerD</th>\n",
       "      <th>trueAnswer</th>\n",
       "      <th>createdAt</th>\n",
       "      <th>updatedAt</th>\n",
       "      <th>examId</th>\n",
       "      <th>frenchQuestion</th>\n",
       "      <th>arabicQuestion</th>\n",
       "      <th>frenchAnswerA</th>\n",
       "      <th>arabicAnswerA</th>\n",
       "      <th>frenchAnswerB</th>\n",
       "      <th>arabicAnswerB</th>\n",
       "      <th>frenchAnswerC</th>\n",
       "      <th>arabicAnswerC</th>\n",
       "      <th>frenchAnswerD</th>\n",
       "      <th>arabicAnswerD</th>\n",
       "    </tr>\n",
       "  </thead>\n",
       "  <tbody>\n",
       "    <tr>\n",
       "      <th>0</th>\n",
       "      <td>HZQ9LBYy07</td>\n",
       "      <td>4</td>\n",
       "      <td>What is 2 + 2?</td>\n",
       "      <td>2</td>\n",
       "      <td>3</td>\n",
       "      <td>1</td>\n",
       "      <td>1</td>\n",
       "      <td>2021-10-27T12:31:59.064Z</td>\n",
       "      <td>2021-10-28T07:54:20.256Z</td>\n",
       "      <td>1EKKLfkBDR</td>\n",
       "      <td>NaN</td>\n",
       "      <td>NaN</td>\n",
       "      <td>NaN</td>\n",
       "      <td>NaN</td>\n",
       "      <td>NaN</td>\n",
       "      <td>NaN</td>\n",
       "      <td>NaN</td>\n",
       "      <td>NaN</td>\n",
       "      <td>NaN</td>\n",
       "      <td>NaN</td>\n",
       "    </tr>\n",
       "    <tr>\n",
       "      <th>1</th>\n",
       "      <td>XxfMEUBz2K</td>\n",
       "      <td>8</td>\n",
       "      <td>What is 4 + 4?</td>\n",
       "      <td>10</td>\n",
       "      <td>12</td>\n",
       "      <td>14</td>\n",
       "      <td>1</td>\n",
       "      <td>2021-10-27T12:42:19.886Z</td>\n",
       "      <td>2021-10-28T07:54:24.674Z</td>\n",
       "      <td>1EKKLfkBDR</td>\n",
       "      <td>NaN</td>\n",
       "      <td>NaN</td>\n",
       "      <td>NaN</td>\n",
       "      <td>NaN</td>\n",
       "      <td>NaN</td>\n",
       "      <td>NaN</td>\n",
       "      <td>NaN</td>\n",
       "      <td>NaN</td>\n",
       "      <td>NaN</td>\n",
       "      <td>NaN</td>\n",
       "    </tr>\n",
       "    <tr>\n",
       "      <th>2</th>\n",
       "      <td>KraRmlAdki</td>\n",
       "      <td>15</td>\n",
       "      <td>What is 5 + 5?</td>\n",
       "      <td>20</td>\n",
       "      <td>5</td>\n",
       "      <td>10</td>\n",
       "      <td>4</td>\n",
       "      <td>2021-10-27T12:43:11.208Z</td>\n",
       "      <td>2021-10-28T07:54:21.728Z</td>\n",
       "      <td>1EKKLfkBDR</td>\n",
       "      <td>NaN</td>\n",
       "      <td>NaN</td>\n",
       "      <td>NaN</td>\n",
       "      <td>NaN</td>\n",
       "      <td>NaN</td>\n",
       "      <td>NaN</td>\n",
       "      <td>NaN</td>\n",
       "      <td>NaN</td>\n",
       "      <td>NaN</td>\n",
       "      <td>NaN</td>\n",
       "    </tr>\n",
       "    <tr>\n",
       "      <th>3</th>\n",
       "      <td>4qItIo2aSp</td>\n",
       "      <td>12</td>\n",
       "      <td>What is 8 + 5?</td>\n",
       "      <td>13</td>\n",
       "      <td>16</td>\n",
       "      <td>25</td>\n",
       "      <td>2</td>\n",
       "      <td>2021-10-27T12:43:47.227Z</td>\n",
       "      <td>2021-10-28T07:54:28.196Z</td>\n",
       "      <td>1EKKLfkBDR</td>\n",
       "      <td>NaN</td>\n",
       "      <td>NaN</td>\n",
       "      <td>NaN</td>\n",
       "      <td>NaN</td>\n",
       "      <td>NaN</td>\n",
       "      <td>NaN</td>\n",
       "      <td>NaN</td>\n",
       "      <td>NaN</td>\n",
       "      <td>NaN</td>\n",
       "      <td>NaN</td>\n",
       "    </tr>\n",
       "    <tr>\n",
       "      <th>4</th>\n",
       "      <td>A7VehTbDkj</td>\n",
       "      <td>36</td>\n",
       "      <td>What is 10 + 4?</td>\n",
       "      <td>20</td>\n",
       "      <td>14</td>\n",
       "      <td>25</td>\n",
       "      <td>3</td>\n",
       "      <td>2021-10-28T07:54:00.535Z</td>\n",
       "      <td>2021-10-29T08:44:04.911Z</td>\n",
       "      <td>1EKKLfkBDR</td>\n",
       "      <td>NaN</td>\n",
       "      <td>NaN</td>\n",
       "      <td>NaN</td>\n",
       "      <td>NaN</td>\n",
       "      <td>NaN</td>\n",
       "      <td>NaN</td>\n",
       "      <td>NaN</td>\n",
       "      <td>NaN</td>\n",
       "      <td>NaN</td>\n",
       "      <td>NaN</td>\n",
       "    </tr>\n",
       "    <tr>\n",
       "      <th>5</th>\n",
       "      <td>7ZNhhaVwlC</td>\n",
       "      <td>twelve</td>\n",
       "      <td>What is 6 + 6?</td>\n",
       "      <td>ten</td>\n",
       "      <td>nine</td>\n",
       "      <td>eight</td>\n",
       "      <td>1</td>\n",
       "      <td>2021-11-25T09:37:08.545Z</td>\n",
       "      <td>2021-11-25T09:37:08.545Z</td>\n",
       "      <td>undefined</td>\n",
       "      <td>Qu'est-ce que 6 + 6 ?</td>\n",
       "      <td>Ù",
       "Ø§ ÙÙ 6 + 6Ø</td>\n",
       "      <td>Douze</td>\n",
       "      <td>Ø§Ø«ÙÙ Ø¹Ø´Ø±</td>\n",
       "      <td>Dix</td>\n",
       "      <td>Ø¹Ø´Ø±Ø©</td>\n",
       "      <td>neuf</td>\n",
       "      <td>ØªØ³Ø¹</td>\n",
       "      <td>huit</td>\n",
       "      <td>Ø«Ù",
       "Ø§ÙÙØ©</td>\n",
       "    </tr>\n",
       "    <tr>\n",
       "      <th>6</th>\n",
       "      <td>c2l2LxWucx</td>\n",
       "      <td>four</td>\n",
       "      <td>What is 5 + 5?</td>\n",
       "      <td>twelve</td>\n",
       "      <td>ten</td>\n",
       "      <td>nine</td>\n",
       "      <td>3</td>\n",
       "      <td>2021-11-25T09:37:08.551Z</td>\n",
       "      <td>2021-11-25T09:37:08.551Z</td>\n",
       "      <td>undefined</td>\n",
       "      <td>Qu'est-ce que 5 + 5 ?</td>\n",
       "      <td>Ù",
       "Ø§ ÙÙ 5 + 5Ø</td>\n",
       "      <td>quatre</td>\n",
       "      <td>Ø£Ø±Ø¨Ø¹Ø©</td>\n",
       "      <td>Douze</td>\n",
       "      <td>Ø§Ø«ÙÙ Ø¹Ø´Ø±</td>\n",
       "      <td>Dix</td>\n",
       "      <td>Ø¹Ø´Ø±Ø©</td>\n",
       "      <td>neuf</td>\n",
       "      <td>ØªØ³Ø¹</td>\n",
       "    </tr>\n",
       "    <tr>\n",
       "      <th>7</th>\n",
       "      <td>8UB3ZCHsMP</td>\n",
       "      <td>sixteen</td>\n",
       "      <td>What is 10 + 10?</td>\n",
       "      <td>twenty</td>\n",
       "      <td>two</td>\n",
       "      <td>three</td>\n",
       "      <td>2</td>\n",
       "      <td>2021-11-25T09:37:08.553Z</td>\n",
       "      <td>2021-11-25T09:37:08.553Z</td>\n",
       "      <td>undefined</td>\n",
       "      <td>Qu'est-ce que 10 + 10 ?</td>\n",
       "      <td>Ù",
       "Ø§ ÙÙ 10 + 10Ø</td>\n",
       "      <td>seize</td>\n",
       "      <td>Ø§ÙØ³Ø§Ø¯Ø³ Ø¹Ø´Ø±</td>\n",
       "      <td>vingt</td>\n",
       "      <td>Ø¹Ø´Ø±ÙÙ</td>\n",
       "      <td>deux</td>\n",
       "      <td>Ø§Ø«ÙÙÙ</td>\n",
       "      <td>Trois</td>\n",
       "      <td>Ø«ÙØ§Ø«Ø©</td>\n",
       "    </tr>\n",
       "  </tbody>\n",
       "</table>\n",
       "</div>"
      ],
      "text/plain": [
       "     objectId  answerA          question answerB answerC answerD  trueAnswer  \\\n",
       "0  HZQ9LBYy07        4    What is 2 + 2?       2       3       1           1   \n",
       "1  XxfMEUBz2K        8    What is 4 + 4?      10      12      14           1   \n",
       "2  KraRmlAdki       15    What is 5 + 5?      20       5      10           4   \n",
       "3  4qItIo2aSp       12    What is 8 + 5?      13      16      25           2   \n",
       "4  A7VehTbDkj       36   What is 10 + 4?      20      14      25           3   \n",
       "5  7ZNhhaVwlC   twelve    What is 6 + 6?     ten    nine   eight           1   \n",
       "6  c2l2LxWucx     four    What is 5 + 5?  twelve     ten    nine           3   \n",
       "7  8UB3ZCHsMP  sixteen  What is 10 + 10?  twenty     two   three           2   \n",
       "\n",
       "                  createdAt                 updatedAt      examId  \\\n",
       "0  2021-10-27T12:31:59.064Z  2021-10-28T07:54:20.256Z  1EKKLfkBDR   \n",
       "1  2021-10-27T12:42:19.886Z  2021-10-28T07:54:24.674Z  1EKKLfkBDR   \n",
       "2  2021-10-27T12:43:11.208Z  2021-10-28T07:54:21.728Z  1EKKLfkBDR   \n",
       "3  2021-10-27T12:43:47.227Z  2021-10-28T07:54:28.196Z  1EKKLfkBDR   \n",
       "4  2021-10-28T07:54:00.535Z  2021-10-29T08:44:04.911Z  1EKKLfkBDR   \n",
       "5  2021-11-25T09:37:08.545Z  2021-11-25T09:37:08.545Z   undefined   \n",
       "6  2021-11-25T09:37:08.551Z  2021-11-25T09:37:08.551Z   undefined   \n",
       "7  2021-11-25T09:37:08.553Z  2021-11-25T09:37:08.553Z   undefined   \n",
       "\n",
       "            frenchQuestion       arabicQuestion frenchAnswerA  \\\n",
       "0                      NaN                  NaN           NaN   \n",
       "1                      NaN                  NaN           NaN   \n",
       "2                      NaN                  NaN           NaN   \n",
       "3                      NaN                  NaN           NaN   \n",
       "4                      NaN                  NaN           NaN   \n",
       "5    Qu'est-ce que 6 + 6 ?    Ù\n",
       "Ø§ ÙÙ 6 + 6Ø         Douze   \n",
       "6    Qu'est-ce que 5 + 5 ?    Ù\n",
       "Ø§ ÙÙ 5 + 5Ø        quatre   \n",
       "7  Qu'est-ce que 10 + 10 ?  Ù\n",
       "Ø§ ÙÙ 10 + 10Ø         seize   \n",
       "\n",
       "         arabicAnswerA frenchAnswerB    arabicAnswerB frenchAnswerC  \\\n",
       "0                  NaN           NaN              NaN           NaN   \n",
       "1                  NaN           NaN              NaN           NaN   \n",
       "2                  NaN           NaN              NaN           NaN   \n",
       "3                  NaN           NaN              NaN           NaN   \n",
       "4                  NaN           NaN              NaN           NaN   \n",
       "5      Ø§Ø«ÙÙ Ø¹Ø´Ø±           Dix         Ø¹Ø´Ø±Ø©          neuf   \n",
       "6           Ø£Ø±Ø¨Ø¹Ø©         Douze  Ø§Ø«ÙÙ Ø¹Ø´Ø±           Dix   \n",
       "7  Ø§ÙØ³Ø§Ø¯Ø³ Ø¹Ø´Ø±         vingt       Ø¹Ø´Ø±ÙÙ          deux   \n",
       "\n",
       "  arabicAnswerC frenchAnswerD arabicAnswerD  \n",
       "0           NaN           NaN           NaN  \n",
       "1           NaN           NaN           NaN  \n",
       "2           NaN           NaN           NaN  \n",
       "3           NaN           NaN           NaN  \n",
       "4           NaN           NaN           NaN  \n",
       "5        ØªØ³Ø¹          huit  Ø«Ù\n",
       "Ø§ÙÙØ©  \n",
       "6      Ø¹Ø´Ø±Ø©          neuf        ØªØ³Ø¹  \n",
       "7    Ø§Ø«ÙÙÙ         Trois    Ø«ÙØ§Ø«Ø©  "
      ]
     },
     "execution_count": 44,
     "metadata": {},
     "output_type": "execute_result"
    }
   ],
   "source": [
    "final_df_MCQtable"
   ]
  },
  {
   "cell_type": "markdown",
   "metadata": {},
   "source": [
    "# MCQ answers of all users"
   ]
  },
  {
   "cell_type": "code",
   "execution_count": 45,
   "metadata": {
    "scrolled": true
   },
   "outputs": [],
   "source": [
    "url = \"https://inzone-c-parse.tools.deployimpact.ch/parse/classes/UserMCQAnswer\"\n",
    "querystring = {}\n",
    "payload = \"\"\n",
    "headers = {\n",
    "    'X-Parse-Application-Id': \"inzonec\"\n",
    "    }\n",
    "response = requests.request(\"GET\", url, data=payload, headers=headers, params=querystring)\n",
    "#print(response.text)"
   ]
  },
  {
   "cell_type": "code",
   "execution_count": 46,
   "metadata": {},
   "outputs": [],
   "source": [
    "output = response.text"
   ]
  },
  {
   "cell_type": "code",
   "execution_count": 47,
   "metadata": {},
   "outputs": [],
   "source": [
    "response_dict = json.loads(output)"
   ]
  },
  {
   "cell_type": "code",
   "execution_count": 48,
   "metadata": {},
   "outputs": [],
   "source": [
    "df_response = pd.DataFrame(response_dict)"
   ]
  },
  {
   "cell_type": "code",
   "execution_count": 49,
   "metadata": {},
   "outputs": [],
   "source": [
    "trial = []"
   ]
  },
  {
   "cell_type": "code",
   "execution_count": 50,
   "metadata": {},
   "outputs": [],
   "source": [
    "for i in range(len(df_response)):\n",
    "    ck = pd.DataFrame(df_response.results[i])\n",
    "    trial.append(ck[ck.index == 'objectId'])\n",
    "    \n",
    "final_df_MCQAns = pd.concat(trial, ignore_index=True)"
   ]
  },
  {
   "cell_type": "code",
   "execution_count": 51,
   "metadata": {
    "scrolled": true
   },
   "outputs": [
    {
     "data": {
      "text/html": [
       "<div>\n",
       "<style scoped>\n",
       "    .dataframe tbody tr th:only-of-type {\n",
       "        vertical-align: middle;\n",
       "    }\n",
       "\n",
       "    .dataframe tbody tr th {\n",
       "        vertical-align: top;\n",
       "    }\n",
       "\n",
       "    .dataframe thead th {\n",
       "        text-align: right;\n",
       "    }\n",
       "</style>\n",
       "<table border=\"1\" class=\"dataframe\">\n",
       "  <thead>\n",
       "    <tr style=\"text-align: right;\">\n",
       "      <th></th>\n",
       "      <th>objectId</th>\n",
       "      <th>answer</th>\n",
       "      <th>howManySecondsPassed</th>\n",
       "      <th>questionId</th>\n",
       "      <th>userId</th>\n",
       "      <th>createdAt</th>\n",
       "      <th>updatedAt</th>\n",
       "    </tr>\n",
       "  </thead>\n",
       "  <tbody>\n",
       "    <tr>\n",
       "      <th>0</th>\n",
       "      <td>V5CJCArRvZ</td>\n",
       "      <td>1</td>\n",
       "      <td>1</td>\n",
       "      <td>HZQ9LBYy07</td>\n",
       "      <td>vcM0w26xi6</td>\n",
       "      <td>2021-11-18T14:07:47.456Z</td>\n",
       "      <td>2021-11-18T14:07:47.456Z</td>\n",
       "    </tr>\n",
       "    <tr>\n",
       "      <th>1</th>\n",
       "      <td>DrGD2RUHdP</td>\n",
       "      <td>2</td>\n",
       "      <td>2</td>\n",
       "      <td>XxfMEUBz2K</td>\n",
       "      <td>vcM0w26xi6</td>\n",
       "      <td>2021-11-18T14:07:49.346Z</td>\n",
       "      <td>2021-11-18T14:07:49.346Z</td>\n",
       "    </tr>\n",
       "    <tr>\n",
       "      <th>2</th>\n",
       "      <td>aNQ78oBfPi</td>\n",
       "      <td>4</td>\n",
       "      <td>1</td>\n",
       "      <td>KraRmlAdki</td>\n",
       "      <td>vcM0w26xi6</td>\n",
       "      <td>2021-11-18T14:07:50.776Z</td>\n",
       "      <td>2021-11-18T14:07:50.776Z</td>\n",
       "    </tr>\n",
       "    <tr>\n",
       "      <th>3</th>\n",
       "      <td>tMTWPB61Dy</td>\n",
       "      <td>2</td>\n",
       "      <td>2</td>\n",
       "      <td>4qItIo2aSp</td>\n",
       "      <td>vcM0w26xi6</td>\n",
       "      <td>2021-11-18T14:07:52.318Z</td>\n",
       "      <td>2021-11-18T14:07:52.318Z</td>\n",
       "    </tr>\n",
       "    <tr>\n",
       "      <th>4</th>\n",
       "      <td>gG2gDSn6t1</td>\n",
       "      <td>3</td>\n",
       "      <td>2</td>\n",
       "      <td>A7VehTbDkj</td>\n",
       "      <td>vcM0w26xi6</td>\n",
       "      <td>2021-11-18T14:07:54.546Z</td>\n",
       "      <td>2021-11-18T14:07:54.546Z</td>\n",
       "    </tr>\n",
       "    <tr>\n",
       "      <th>5</th>\n",
       "      <td>eInMMXdyPf</td>\n",
       "      <td>1</td>\n",
       "      <td>1</td>\n",
       "      <td>HZQ9LBYy07</td>\n",
       "      <td>e1lEFJC3hK</td>\n",
       "      <td>2021-11-19T07:45:27.348Z</td>\n",
       "      <td>2021-11-19T07:45:48.550Z</td>\n",
       "    </tr>\n",
       "    <tr>\n",
       "      <th>6</th>\n",
       "      <td>WYQ9CeFxHz</td>\n",
       "      <td>2</td>\n",
       "      <td>2</td>\n",
       "      <td>XxfMEUBz2K</td>\n",
       "      <td>e1lEFJC3hK</td>\n",
       "      <td>2021-11-19T07:45:28.909Z</td>\n",
       "      <td>2021-11-19T07:45:28.909Z</td>\n",
       "    </tr>\n",
       "    <tr>\n",
       "      <th>7</th>\n",
       "      <td>JiA6gQ35zA</td>\n",
       "      <td>4</td>\n",
       "      <td>1</td>\n",
       "      <td>KraRmlAdki</td>\n",
       "      <td>e1lEFJC3hK</td>\n",
       "      <td>2021-11-19T07:45:32.939Z</td>\n",
       "      <td>2021-11-19T07:45:50.049Z</td>\n",
       "    </tr>\n",
       "    <tr>\n",
       "      <th>8</th>\n",
       "      <td>GU8WxVdWGK</td>\n",
       "      <td>2</td>\n",
       "      <td>2</td>\n",
       "      <td>4qItIo2aSp</td>\n",
       "      <td>e1lEFJC3hK</td>\n",
       "      <td>2021-11-19T07:45:34.621Z</td>\n",
       "      <td>2021-11-19T07:45:59.455Z</td>\n",
       "    </tr>\n",
       "    <tr>\n",
       "      <th>9</th>\n",
       "      <td>DQTLDSGooC</td>\n",
       "      <td>3</td>\n",
       "      <td>2</td>\n",
       "      <td>A7VehTbDkj</td>\n",
       "      <td>e1lEFJC3hK</td>\n",
       "      <td>2021-11-19T07:45:36.899Z</td>\n",
       "      <td>2021-11-19T07:45:36.899Z</td>\n",
       "    </tr>\n",
       "    <tr>\n",
       "      <th>10</th>\n",
       "      <td>W4KItbdSfx</td>\n",
       "      <td>1</td>\n",
       "      <td>3</td>\n",
       "      <td>HZQ9LBYy07</td>\n",
       "      <td>zy2Iymim8g</td>\n",
       "      <td>2021-11-19T20:03:36.813Z</td>\n",
       "      <td>2021-11-19T20:03:36.813Z</td>\n",
       "    </tr>\n",
       "    <tr>\n",
       "      <th>11</th>\n",
       "      <td>lRfuOlhGxm</td>\n",
       "      <td>2</td>\n",
       "      <td>4</td>\n",
       "      <td>XxfMEUBz2K</td>\n",
       "      <td>zy2Iymim8g</td>\n",
       "      <td>2021-11-19T20:03:40.291Z</td>\n",
       "      <td>2021-11-19T20:03:40.291Z</td>\n",
       "    </tr>\n",
       "    <tr>\n",
       "      <th>12</th>\n",
       "      <td>Pm7aUqjYld</td>\n",
       "      <td>1</td>\n",
       "      <td>3</td>\n",
       "      <td>KraRmlAdki</td>\n",
       "      <td>zy2Iymim8g</td>\n",
       "      <td>2021-11-19T20:03:44.021Z</td>\n",
       "      <td>2021-11-19T20:03:44.021Z</td>\n",
       "    </tr>\n",
       "    <tr>\n",
       "      <th>13</th>\n",
       "      <td>63E9kcYmzA</td>\n",
       "      <td>2</td>\n",
       "      <td>3</td>\n",
       "      <td>4qItIo2aSp</td>\n",
       "      <td>zy2Iymim8g</td>\n",
       "      <td>2021-11-19T20:03:46.731Z</td>\n",
       "      <td>2021-11-19T20:03:46.731Z</td>\n",
       "    </tr>\n",
       "    <tr>\n",
       "      <th>14</th>\n",
       "      <td>GpOEyZpgOo</td>\n",
       "      <td>4</td>\n",
       "      <td>4</td>\n",
       "      <td>A7VehTbDkj</td>\n",
       "      <td>zy2Iymim8g</td>\n",
       "      <td>2021-11-19T20:03:51.113Z</td>\n",
       "      <td>2021-11-19T20:03:51.113Z</td>\n",
       "    </tr>\n",
       "    <tr>\n",
       "      <th>15</th>\n",
       "      <td>7lY3Ienf8h</td>\n",
       "      <td>1</td>\n",
       "      <td>2</td>\n",
       "      <td>HZQ9LBYy07</td>\n",
       "      <td>Zs9uCTRg59</td>\n",
       "      <td>2021-11-19T20:06:49.972Z</td>\n",
       "      <td>2021-11-19T20:06:49.972Z</td>\n",
       "    </tr>\n",
       "    <tr>\n",
       "      <th>16</th>\n",
       "      <td>FDhvA2G7ms</td>\n",
       "      <td>1</td>\n",
       "      <td>5</td>\n",
       "      <td>XxfMEUBz2K</td>\n",
       "      <td>Zs9uCTRg59</td>\n",
       "      <td>2021-11-19T20:06:55.561Z</td>\n",
       "      <td>2021-11-19T20:06:55.561Z</td>\n",
       "    </tr>\n",
       "    <tr>\n",
       "      <th>17</th>\n",
       "      <td>ihaYek2RpQ</td>\n",
       "      <td>4</td>\n",
       "      <td>3</td>\n",
       "      <td>KraRmlAdki</td>\n",
       "      <td>Zs9uCTRg59</td>\n",
       "      <td>2021-11-19T20:06:57.933Z</td>\n",
       "      <td>2021-11-19T20:06:57.933Z</td>\n",
       "    </tr>\n",
       "    <tr>\n",
       "      <th>18</th>\n",
       "      <td>XY1GYfFXKe</td>\n",
       "      <td>2</td>\n",
       "      <td>2</td>\n",
       "      <td>4qItIo2aSp</td>\n",
       "      <td>Zs9uCTRg59</td>\n",
       "      <td>2021-11-19T20:07:00.737Z</td>\n",
       "      <td>2021-11-19T20:07:00.737Z</td>\n",
       "    </tr>\n",
       "    <tr>\n",
       "      <th>19</th>\n",
       "      <td>4UEFg1KysC</td>\n",
       "      <td>2</td>\n",
       "      <td>3</td>\n",
       "      <td>A7VehTbDkj</td>\n",
       "      <td>Zs9uCTRg59</td>\n",
       "      <td>2021-11-19T20:07:03.719Z</td>\n",
       "      <td>2021-11-19T20:07:03.719Z</td>\n",
       "    </tr>\n",
       "    <tr>\n",
       "      <th>20</th>\n",
       "      <td>6HVUvAJHDo</td>\n",
       "      <td>1</td>\n",
       "      <td>3</td>\n",
       "      <td>HZQ9LBYy07</td>\n",
       "      <td>aZ0gXwjlNK</td>\n",
       "      <td>2021-11-19T20:10:01.912Z</td>\n",
       "      <td>2021-11-19T20:10:01.912Z</td>\n",
       "    </tr>\n",
       "    <tr>\n",
       "      <th>21</th>\n",
       "      <td>KcO3ZVBKIP</td>\n",
       "      <td>3</td>\n",
       "      <td>4</td>\n",
       "      <td>XxfMEUBz2K</td>\n",
       "      <td>aZ0gXwjlNK</td>\n",
       "      <td>2021-11-19T20:10:05.531Z</td>\n",
       "      <td>2021-11-19T20:10:05.531Z</td>\n",
       "    </tr>\n",
       "    <tr>\n",
       "      <th>22</th>\n",
       "      <td>rqemAzEIJQ</td>\n",
       "      <td>1</td>\n",
       "      <td>5</td>\n",
       "      <td>KraRmlAdki</td>\n",
       "      <td>aZ0gXwjlNK</td>\n",
       "      <td>2021-11-19T20:10:11.402Z</td>\n",
       "      <td>2021-11-19T20:10:11.402Z</td>\n",
       "    </tr>\n",
       "    <tr>\n",
       "      <th>23</th>\n",
       "      <td>2SGFVgEXJW</td>\n",
       "      <td>2</td>\n",
       "      <td>2</td>\n",
       "      <td>4qItIo2aSp</td>\n",
       "      <td>aZ0gXwjlNK</td>\n",
       "      <td>2021-11-19T20:10:13.243Z</td>\n",
       "      <td>2021-11-19T20:10:13.243Z</td>\n",
       "    </tr>\n",
       "    <tr>\n",
       "      <th>24</th>\n",
       "      <td>0YTUY13ku5</td>\n",
       "      <td>3</td>\n",
       "      <td>2</td>\n",
       "      <td>A7VehTbDkj</td>\n",
       "      <td>aZ0gXwjlNK</td>\n",
       "      <td>2021-11-19T20:10:15.129Z</td>\n",
       "      <td>2021-11-19T20:10:15.129Z</td>\n",
       "    </tr>\n",
       "  </tbody>\n",
       "</table>\n",
       "</div>"
      ],
      "text/plain": [
       "      objectId  answer  howManySecondsPassed  questionId      userId  \\\n",
       "0   V5CJCArRvZ       1                     1  HZQ9LBYy07  vcM0w26xi6   \n",
       "1   DrGD2RUHdP       2                     2  XxfMEUBz2K  vcM0w26xi6   \n",
       "2   aNQ78oBfPi       4                     1  KraRmlAdki  vcM0w26xi6   \n",
       "3   tMTWPB61Dy       2                     2  4qItIo2aSp  vcM0w26xi6   \n",
       "4   gG2gDSn6t1       3                     2  A7VehTbDkj  vcM0w26xi6   \n",
       "5   eInMMXdyPf       1                     1  HZQ9LBYy07  e1lEFJC3hK   \n",
       "6   WYQ9CeFxHz       2                     2  XxfMEUBz2K  e1lEFJC3hK   \n",
       "7   JiA6gQ35zA       4                     1  KraRmlAdki  e1lEFJC3hK   \n",
       "8   GU8WxVdWGK       2                     2  4qItIo2aSp  e1lEFJC3hK   \n",
       "9   DQTLDSGooC       3                     2  A7VehTbDkj  e1lEFJC3hK   \n",
       "10  W4KItbdSfx       1                     3  HZQ9LBYy07  zy2Iymim8g   \n",
       "11  lRfuOlhGxm       2                     4  XxfMEUBz2K  zy2Iymim8g   \n",
       "12  Pm7aUqjYld       1                     3  KraRmlAdki  zy2Iymim8g   \n",
       "13  63E9kcYmzA       2                     3  4qItIo2aSp  zy2Iymim8g   \n",
       "14  GpOEyZpgOo       4                     4  A7VehTbDkj  zy2Iymim8g   \n",
       "15  7lY3Ienf8h       1                     2  HZQ9LBYy07  Zs9uCTRg59   \n",
       "16  FDhvA2G7ms       1                     5  XxfMEUBz2K  Zs9uCTRg59   \n",
       "17  ihaYek2RpQ       4                     3  KraRmlAdki  Zs9uCTRg59   \n",
       "18  XY1GYfFXKe       2                     2  4qItIo2aSp  Zs9uCTRg59   \n",
       "19  4UEFg1KysC       2                     3  A7VehTbDkj  Zs9uCTRg59   \n",
       "20  6HVUvAJHDo       1                     3  HZQ9LBYy07  aZ0gXwjlNK   \n",
       "21  KcO3ZVBKIP       3                     4  XxfMEUBz2K  aZ0gXwjlNK   \n",
       "22  rqemAzEIJQ       1                     5  KraRmlAdki  aZ0gXwjlNK   \n",
       "23  2SGFVgEXJW       2                     2  4qItIo2aSp  aZ0gXwjlNK   \n",
       "24  0YTUY13ku5       3                     2  A7VehTbDkj  aZ0gXwjlNK   \n",
       "\n",
       "                   createdAt                 updatedAt  \n",
       "0   2021-11-18T14:07:47.456Z  2021-11-18T14:07:47.456Z  \n",
       "1   2021-11-18T14:07:49.346Z  2021-11-18T14:07:49.346Z  \n",
       "2   2021-11-18T14:07:50.776Z  2021-11-18T14:07:50.776Z  \n",
       "3   2021-11-18T14:07:52.318Z  2021-11-18T14:07:52.318Z  \n",
       "4   2021-11-18T14:07:54.546Z  2021-11-18T14:07:54.546Z  \n",
       "5   2021-11-19T07:45:27.348Z  2021-11-19T07:45:48.550Z  \n",
       "6   2021-11-19T07:45:28.909Z  2021-11-19T07:45:28.909Z  \n",
       "7   2021-11-19T07:45:32.939Z  2021-11-19T07:45:50.049Z  \n",
       "8   2021-11-19T07:45:34.621Z  2021-11-19T07:45:59.455Z  \n",
       "9   2021-11-19T07:45:36.899Z  2021-11-19T07:45:36.899Z  \n",
       "10  2021-11-19T20:03:36.813Z  2021-11-19T20:03:36.813Z  \n",
       "11  2021-11-19T20:03:40.291Z  2021-11-19T20:03:40.291Z  \n",
       "12  2021-11-19T20:03:44.021Z  2021-11-19T20:03:44.021Z  \n",
       "13  2021-11-19T20:03:46.731Z  2021-11-19T20:03:46.731Z  \n",
       "14  2021-11-19T20:03:51.113Z  2021-11-19T20:03:51.113Z  \n",
       "15  2021-11-19T20:06:49.972Z  2021-11-19T20:06:49.972Z  \n",
       "16  2021-11-19T20:06:55.561Z  2021-11-19T20:06:55.561Z  \n",
       "17  2021-11-19T20:06:57.933Z  2021-11-19T20:06:57.933Z  \n",
       "18  2021-11-19T20:07:00.737Z  2021-11-19T20:07:00.737Z  \n",
       "19  2021-11-19T20:07:03.719Z  2021-11-19T20:07:03.719Z  \n",
       "20  2021-11-19T20:10:01.912Z  2021-11-19T20:10:01.912Z  \n",
       "21  2021-11-19T20:10:05.531Z  2021-11-19T20:10:05.531Z  \n",
       "22  2021-11-19T20:10:11.402Z  2021-11-19T20:10:11.402Z  \n",
       "23  2021-11-19T20:10:13.243Z  2021-11-19T20:10:13.243Z  \n",
       "24  2021-11-19T20:10:15.129Z  2021-11-19T20:10:15.129Z  "
      ]
     },
     "execution_count": 51,
     "metadata": {},
     "output_type": "execute_result"
    }
   ],
   "source": [
    "final_df_MCQAns"
   ]
  },
  {
   "cell_type": "code",
   "execution_count": 52,
   "metadata": {},
   "outputs": [],
   "source": [
    "questions = final_df_MCQAns['questionId'].unique()"
   ]
  },
  {
   "cell_type": "code",
   "execution_count": 53,
   "metadata": {},
   "outputs": [
    {
     "data": {
      "text/plain": [
       "array(['HZQ9LBYy07', 'XxfMEUBz2K', 'KraRmlAdki', '4qItIo2aSp',\n",
       "       'A7VehTbDkj'], dtype=object)"
      ]
     },
     "execution_count": 53,
     "metadata": {},
     "output_type": "execute_result"
    }
   ],
   "source": [
    "questions"
   ]
  },
  {
   "cell_type": "code",
   "execution_count": 54,
   "metadata": {},
   "outputs": [],
   "source": [
    "users = final_df_MCQAns['userId'].unique()"
   ]
  },
  {
   "cell_type": "code",
   "execution_count": 55,
   "metadata": {},
   "outputs": [
    {
     "data": {
      "text/plain": [
       "array(['vcM0w26xi6', 'e1lEFJC3hK', 'zy2Iymim8g', 'Zs9uCTRg59',\n",
       "       'aZ0gXwjlNK'], dtype=object)"
      ]
     },
     "execution_count": 55,
     "metadata": {},
     "output_type": "execute_result"
    }
   ],
   "source": [
    "users"
   ]
  },
  {
   "cell_type": "code",
   "execution_count": 56,
   "metadata": {},
   "outputs": [],
   "source": [
    "w, h = len(questions), len(users)\n",
    "Matrix = [[0 for x in range(w)] for y in range(h)] "
   ]
  },
  {
   "cell_type": "code",
   "execution_count": 57,
   "metadata": {
    "scrolled": true
   },
   "outputs": [],
   "source": [
    "for i in range(h):\n",
    "    for j in range(w):\n",
    "        row = final_df_MCQAns[(final_df_MCQAns['questionId']==questions[j]) & (final_df_MCQAns['userId']==users[i])]\n",
    "        if not row.empty:\n",
    "            Matrix[i][j] = row[\"answer\"]"
   ]
  },
  {
   "cell_type": "code",
   "execution_count": 58,
   "metadata": {},
   "outputs": [],
   "source": [
    "final_df_userans = pd.DataFrame(Matrix)"
   ]
  },
  {
   "cell_type": "code",
   "execution_count": 59,
   "metadata": {},
   "outputs": [
    {
     "data": {
      "text/html": [
       "<div>\n",
       "<style scoped>\n",
       "    .dataframe tbody tr th:only-of-type {\n",
       "        vertical-align: middle;\n",
       "    }\n",
       "\n",
       "    .dataframe tbody tr th {\n",
       "        vertical-align: top;\n",
       "    }\n",
       "\n",
       "    .dataframe thead th {\n",
       "        text-align: right;\n",
       "    }\n",
       "</style>\n",
       "<table border=\"1\" class=\"dataframe\">\n",
       "  <thead>\n",
       "    <tr style=\"text-align: right;\">\n",
       "      <th></th>\n",
       "      <th>0</th>\n",
       "      <th>1</th>\n",
       "      <th>2</th>\n",
       "      <th>3</th>\n",
       "      <th>4</th>\n",
       "    </tr>\n",
       "  </thead>\n",
       "  <tbody>\n",
       "    <tr>\n",
       "      <th>0</th>\n",
       "      <td>0    1\n",
       "Name: answer, dtype: int64</td>\n",
       "      <td>1    2\n",
       "Name: answer, dtype: int64</td>\n",
       "      <td>2    4\n",
       "Name: answer, dtype: int64</td>\n",
       "      <td>3    2\n",
       "Name: answer, dtype: int64</td>\n",
       "      <td>4    3\n",
       "Name: answer, dtype: int64</td>\n",
       "    </tr>\n",
       "    <tr>\n",
       "      <th>1</th>\n",
       "      <td>5    1\n",
       "Name: answer, dtype: int64</td>\n",
       "      <td>6    2\n",
       "Name: answer, dtype: int64</td>\n",
       "      <td>7    4\n",
       "Name: answer, dtype: int64</td>\n",
       "      <td>8    2\n",
       "Name: answer, dtype: int64</td>\n",
       "      <td>9    3\n",
       "Name: answer, dtype: int64</td>\n",
       "    </tr>\n",
       "    <tr>\n",
       "      <th>2</th>\n",
       "      <td>10    1\n",
       "Name: answer, dtype: int64</td>\n",
       "      <td>11    2\n",
       "Name: answer, dtype: int64</td>\n",
       "      <td>12    1\n",
       "Name: answer, dtype: int64</td>\n",
       "      <td>13    2\n",
       "Name: answer, dtype: int64</td>\n",
       "      <td>14    4\n",
       "Name: answer, dtype: int64</td>\n",
       "    </tr>\n",
       "    <tr>\n",
       "      <th>3</th>\n",
       "      <td>15    1\n",
       "Name: answer, dtype: int64</td>\n",
       "      <td>16    1\n",
       "Name: answer, dtype: int64</td>\n",
       "      <td>17    4\n",
       "Name: answer, dtype: int64</td>\n",
       "      <td>18    2\n",
       "Name: answer, dtype: int64</td>\n",
       "      <td>19    2\n",
       "Name: answer, dtype: int64</td>\n",
       "    </tr>\n",
       "    <tr>\n",
       "      <th>4</th>\n",
       "      <td>20    1\n",
       "Name: answer, dtype: int64</td>\n",
       "      <td>21    3\n",
       "Name: answer, dtype: int64</td>\n",
       "      <td>22    1\n",
       "Name: answer, dtype: int64</td>\n",
       "      <td>23    2\n",
       "Name: answer, dtype: int64</td>\n",
       "      <td>24    3\n",
       "Name: answer, dtype: int64</td>\n",
       "    </tr>\n",
       "  </tbody>\n",
       "</table>\n",
       "</div>"
      ],
      "text/plain": [
       "                                    0                                   1  \\\n",
       "0   0    1\n",
       "Name: answer, dtype: int64   1    2\n",
       "Name: answer, dtype: int64   \n",
       "1   5    1\n",
       "Name: answer, dtype: int64   6    2\n",
       "Name: answer, dtype: int64   \n",
       "2  10    1\n",
       "Name: answer, dtype: int64  11    2\n",
       "Name: answer, dtype: int64   \n",
       "3  15    1\n",
       "Name: answer, dtype: int64  16    1\n",
       "Name: answer, dtype: int64   \n",
       "4  20    1\n",
       "Name: answer, dtype: int64  21    3\n",
       "Name: answer, dtype: int64   \n",
       "\n",
       "                                    2                                   3  \\\n",
       "0   2    4\n",
       "Name: answer, dtype: int64   3    2\n",
       "Name: answer, dtype: int64   \n",
       "1   7    4\n",
       "Name: answer, dtype: int64   8    2\n",
       "Name: answer, dtype: int64   \n",
       "2  12    1\n",
       "Name: answer, dtype: int64  13    2\n",
       "Name: answer, dtype: int64   \n",
       "3  17    4\n",
       "Name: answer, dtype: int64  18    2\n",
       "Name: answer, dtype: int64   \n",
       "4  22    1\n",
       "Name: answer, dtype: int64  23    2\n",
       "Name: answer, dtype: int64   \n",
       "\n",
       "                                    4  \n",
       "0   4    3\n",
       "Name: answer, dtype: int64  \n",
       "1   9    3\n",
       "Name: answer, dtype: int64  \n",
       "2  14    4\n",
       "Name: answer, dtype: int64  \n",
       "3  19    2\n",
       "Name: answer, dtype: int64  \n",
       "4  24    3\n",
       "Name: answer, dtype: int64  "
      ]
     },
     "execution_count": 59,
     "metadata": {},
     "output_type": "execute_result"
    }
   ],
   "source": [
    "final_df_userans"
   ]
  },
  {
   "cell_type": "code",
   "execution_count": 60,
   "metadata": {},
   "outputs": [],
   "source": [
    "for i in range(final_df_userans.shape[1]):\n",
    "    final_df_userans = final_df_userans.rename(columns={i: questions[i]})"
   ]
  },
  {
   "cell_type": "code",
   "execution_count": 61,
   "metadata": {},
   "outputs": [],
   "source": [
    "for j in range(final_df_userans.shape[0]):\n",
    "    final_df_userans = final_df_userans.rename(index={j: users[j]})"
   ]
  },
  {
   "cell_type": "code",
   "execution_count": 62,
   "metadata": {},
   "outputs": [],
   "source": [
    "final_df_userans = final_df_userans.astype(int)"
   ]
  },
  {
   "cell_type": "code",
   "execution_count": 63,
   "metadata": {
    "scrolled": false
   },
   "outputs": [
    {
     "data": {
      "text/html": [
       "<div>\n",
       "<style scoped>\n",
       "    .dataframe tbody tr th:only-of-type {\n",
       "        vertical-align: middle;\n",
       "    }\n",
       "\n",
       "    .dataframe tbody tr th {\n",
       "        vertical-align: top;\n",
       "    }\n",
       "\n",
       "    .dataframe thead th {\n",
       "        text-align: right;\n",
       "    }\n",
       "</style>\n",
       "<table border=\"1\" class=\"dataframe\">\n",
       "  <thead>\n",
       "    <tr style=\"text-align: right;\">\n",
       "      <th></th>\n",
       "      <th>HZQ9LBYy07</th>\n",
       "      <th>XxfMEUBz2K</th>\n",
       "      <th>KraRmlAdki</th>\n",
       "      <th>4qItIo2aSp</th>\n",
       "      <th>A7VehTbDkj</th>\n",
       "    </tr>\n",
       "  </thead>\n",
       "  <tbody>\n",
       "    <tr>\n",
       "      <th>vcM0w26xi6</th>\n",
       "      <td>1</td>\n",
       "      <td>2</td>\n",
       "      <td>4</td>\n",
       "      <td>2</td>\n",
       "      <td>3</td>\n",
       "    </tr>\n",
       "    <tr>\n",
       "      <th>e1lEFJC3hK</th>\n",
       "      <td>1</td>\n",
       "      <td>2</td>\n",
       "      <td>4</td>\n",
       "      <td>2</td>\n",
       "      <td>3</td>\n",
       "    </tr>\n",
       "    <tr>\n",
       "      <th>zy2Iymim8g</th>\n",
       "      <td>1</td>\n",
       "      <td>2</td>\n",
       "      <td>1</td>\n",
       "      <td>2</td>\n",
       "      <td>4</td>\n",
       "    </tr>\n",
       "    <tr>\n",
       "      <th>Zs9uCTRg59</th>\n",
       "      <td>1</td>\n",
       "      <td>1</td>\n",
       "      <td>4</td>\n",
       "      <td>2</td>\n",
       "      <td>2</td>\n",
       "    </tr>\n",
       "    <tr>\n",
       "      <th>aZ0gXwjlNK</th>\n",
       "      <td>1</td>\n",
       "      <td>3</td>\n",
       "      <td>1</td>\n",
       "      <td>2</td>\n",
       "      <td>3</td>\n",
       "    </tr>\n",
       "  </tbody>\n",
       "</table>\n",
       "</div>"
      ],
      "text/plain": [
       "            HZQ9LBYy07  XxfMEUBz2K  KraRmlAdki  4qItIo2aSp  A7VehTbDkj\n",
       "vcM0w26xi6           1           2           4           2           3\n",
       "e1lEFJC3hK           1           2           4           2           3\n",
       "zy2Iymim8g           1           2           1           2           4\n",
       "Zs9uCTRg59           1           1           4           2           2\n",
       "aZ0gXwjlNK           1           3           1           2           3"
      ]
     },
     "execution_count": 63,
     "metadata": {},
     "output_type": "execute_result"
    }
   ],
   "source": [
    "final_df_userans"
   ]
  },
  {
   "cell_type": "code",
   "execution_count": 64,
   "metadata": {
    "scrolled": false
   },
   "outputs": [],
   "source": [
    "duplicate_answers = final_df_userans[final_df_userans.duplicated(keep=False)]"
   ]
  },
  {
   "cell_type": "code",
   "execution_count": 65,
   "metadata": {
    "scrolled": true
   },
   "outputs": [
    {
     "data": {
      "text/html": [
       "<div>\n",
       "<style scoped>\n",
       "    .dataframe tbody tr th:only-of-type {\n",
       "        vertical-align: middle;\n",
       "    }\n",
       "\n",
       "    .dataframe tbody tr th {\n",
       "        vertical-align: top;\n",
       "    }\n",
       "\n",
       "    .dataframe thead th {\n",
       "        text-align: right;\n",
       "    }\n",
       "</style>\n",
       "<table border=\"1\" class=\"dataframe\">\n",
       "  <thead>\n",
       "    <tr style=\"text-align: right;\">\n",
       "      <th></th>\n",
       "      <th>HZQ9LBYy07</th>\n",
       "      <th>XxfMEUBz2K</th>\n",
       "      <th>KraRmlAdki</th>\n",
       "      <th>4qItIo2aSp</th>\n",
       "      <th>A7VehTbDkj</th>\n",
       "    </tr>\n",
       "  </thead>\n",
       "  <tbody>\n",
       "    <tr>\n",
       "      <th>vcM0w26xi6</th>\n",
       "      <td>1</td>\n",
       "      <td>2</td>\n",
       "      <td>4</td>\n",
       "      <td>2</td>\n",
       "      <td>3</td>\n",
       "    </tr>\n",
       "    <tr>\n",
       "      <th>e1lEFJC3hK</th>\n",
       "      <td>1</td>\n",
       "      <td>2</td>\n",
       "      <td>4</td>\n",
       "      <td>2</td>\n",
       "      <td>3</td>\n",
       "    </tr>\n",
       "  </tbody>\n",
       "</table>\n",
       "</div>"
      ],
      "text/plain": [
       "            HZQ9LBYy07  XxfMEUBz2K  KraRmlAdki  4qItIo2aSp  A7VehTbDkj\n",
       "vcM0w26xi6           1           2           4           2           3\n",
       "e1lEFJC3hK           1           2           4           2           3"
      ]
     },
     "execution_count": 65,
     "metadata": {},
     "output_type": "execute_result"
    }
   ],
   "source": [
    "duplicate_answers"
   ]
  },
  {
   "cell_type": "code",
   "execution_count": 66,
   "metadata": {},
   "outputs": [
    {
     "name": "stderr",
     "output_type": "stream",
     "text": [
      "<ipython-input-66-5cf6e91a42af>:1: SettingWithCopyWarning: \n",
      "A value is trying to be set on a copy of a slice from a DataFrame.\n",
      "Try using .loc[row_indexer,col_indexer] = value instead\n",
      "\n",
      "See the caveats in the documentation: https://pandas.pydata.org/pandas-docs/stable/user_guide/indexing.html#returning-a-view-versus-a-copy\n",
      "  duplicate_answers[\"timetaken\"]=0\n",
      "<ipython-input-66-5cf6e91a42af>:2: SettingWithCopyWarning: \n",
      "A value is trying to be set on a copy of a slice from a DataFrame.\n",
      "Try using .loc[row_indexer,col_indexer] = value instead\n",
      "\n",
      "See the caveats in the documentation: https://pandas.pydata.org/pandas-docs/stable/user_guide/indexing.html#returning-a-view-versus-a-copy\n",
      "  duplicate_answers[\"username\"]=\"\"\n"
     ]
    }
   ],
   "source": [
    "duplicate_answers[\"timetaken\"]=0\n",
    "duplicate_answers[\"username\"]=\"\""
   ]
  },
  {
   "cell_type": "code",
   "execution_count": 74,
   "metadata": {},
   "outputs": [
    {
     "name": "stderr",
     "output_type": "stream",
     "text": [
      "<ipython-input-74-8ee773fb3143>:5: SettingWithCopyWarning: \n",
      "A value is trying to be set on a copy of a slice from a DataFrame\n",
      "\n",
      "See the caveats in the documentation: https://pandas.pydata.org/pandas-docs/stable/user_guide/indexing.html#returning-a-view-versus-a-copy\n",
      "  duplicate_answers[\"timetaken\"][i] = final_df_examtable[\"totalTimeToFinishSecondSection\"][j]\n",
      "C:\\Users\\namra\\anaconda3\\lib\\site-packages\\IPython\\core\\interactiveshell.py:3343: SettingWithCopyWarning: \n",
      "A value is trying to be set on a copy of a slice from a DataFrame\n",
      "\n",
      "See the caveats in the documentation: https://pandas.pydata.org/pandas-docs/stable/user_guide/indexing.html#returning-a-view-versus-a-copy\n",
      "  exec(code_obj, self.user_global_ns, self.user_ns)\n",
      "<ipython-input-74-8ee773fb3143>:6: SettingWithCopyWarning: \n",
      "A value is trying to be set on a copy of a slice from a DataFrame\n",
      "\n",
      "See the caveats in the documentation: https://pandas.pydata.org/pandas-docs/stable/user_guide/indexing.html#returning-a-view-versus-a-copy\n",
      "  duplicate_answers[\"username\"][i] = final_df_examtable[\"username\"][j]\n"
     ]
    }
   ],
   "source": [
    "for i in range(len(duplicate_answers)):\n",
    "    for j in range(len(final_df_examtable)):\n",
    "        if (pd.isna(final_df_examtable[\"totalTimeToFinishSecondSection\"][j]) == False):\n",
    "            if (final_df_userans.index[i]==final_df_examtable[\"userId\"][j]):\n",
    "                duplicate_answers[\"timetaken\"][i] = final_df_examtable[\"totalTimeToFinishSecondSection\"][j]\n",
    "                duplicate_answers[\"username\"][i] = final_df_examtable[\"username\"][j]"
   ]
  },
  {
   "cell_type": "markdown",
   "metadata": {},
   "source": [
    "## Cheating Notification"
   ]
  },
  {
   "cell_type": "code",
   "execution_count": 75,
   "metadata": {},
   "outputs": [
    {
     "data": {
      "text/html": [
       "<div>\n",
       "<style scoped>\n",
       "    .dataframe tbody tr th:only-of-type {\n",
       "        vertical-align: middle;\n",
       "    }\n",
       "\n",
       "    .dataframe tbody tr th {\n",
       "        vertical-align: top;\n",
       "    }\n",
       "\n",
       "    .dataframe thead th {\n",
       "        text-align: right;\n",
       "    }\n",
       "</style>\n",
       "<table border=\"1\" class=\"dataframe\">\n",
       "  <thead>\n",
       "    <tr style=\"text-align: right;\">\n",
       "      <th></th>\n",
       "      <th>HZQ9LBYy07</th>\n",
       "      <th>XxfMEUBz2K</th>\n",
       "      <th>KraRmlAdki</th>\n",
       "      <th>4qItIo2aSp</th>\n",
       "      <th>A7VehTbDkj</th>\n",
       "      <th>timetaken</th>\n",
       "      <th>username</th>\n",
       "    </tr>\n",
       "  </thead>\n",
       "  <tbody>\n",
       "    <tr>\n",
       "      <th>vcM0w26xi6</th>\n",
       "      <td>1</td>\n",
       "      <td>2</td>\n",
       "      <td>4</td>\n",
       "      <td>2</td>\n",
       "      <td>3</td>\n",
       "      <td>8</td>\n",
       "      <td>zakia</td>\n",
       "    </tr>\n",
       "    <tr>\n",
       "      <th>e1lEFJC3hK</th>\n",
       "      <td>1</td>\n",
       "      <td>2</td>\n",
       "      <td>4</td>\n",
       "      <td>2</td>\n",
       "      <td>3</td>\n",
       "      <td>8</td>\n",
       "      <td>giada</td>\n",
       "    </tr>\n",
       "  </tbody>\n",
       "</table>\n",
       "</div>"
      ],
      "text/plain": [
       "            HZQ9LBYy07  XxfMEUBz2K  KraRmlAdki  4qItIo2aSp  A7VehTbDkj  \\\n",
       "vcM0w26xi6           1           2           4           2           3   \n",
       "e1lEFJC3hK           1           2           4           2           3   \n",
       "\n",
       "            timetaken username  \n",
       "vcM0w26xi6          8    zakia  \n",
       "e1lEFJC3hK          8    giada  "
      ]
     },
     "execution_count": 75,
     "metadata": {},
     "output_type": "execute_result"
    }
   ],
   "source": [
    "duplicate_answers"
   ]
  },
  {
   "cell_type": "code",
   "execution_count": 76,
   "metadata": {},
   "outputs": [],
   "source": [
    "new_row = final_df_MCQtable[\"trueAnswer\"]"
   ]
  },
  {
   "cell_type": "code",
   "execution_count": 77,
   "metadata": {},
   "outputs": [],
   "source": [
    "new_row.index = final_df_MCQtable[\"objectId\"]"
   ]
  },
  {
   "cell_type": "code",
   "execution_count": 78,
   "metadata": {},
   "outputs": [],
   "source": [
    "final_df_userans = final_df_userans.append(new_row)"
   ]
  },
  {
   "cell_type": "code",
   "execution_count": 79,
   "metadata": {},
   "outputs": [
    {
     "data": {
      "text/html": [
       "<div>\n",
       "<style scoped>\n",
       "    .dataframe tbody tr th:only-of-type {\n",
       "        vertical-align: middle;\n",
       "    }\n",
       "\n",
       "    .dataframe tbody tr th {\n",
       "        vertical-align: top;\n",
       "    }\n",
       "\n",
       "    .dataframe thead th {\n",
       "        text-align: right;\n",
       "    }\n",
       "</style>\n",
       "<table border=\"1\" class=\"dataframe\">\n",
       "  <thead>\n",
       "    <tr style=\"text-align: right;\">\n",
       "      <th></th>\n",
       "      <th>HZQ9LBYy07</th>\n",
       "      <th>XxfMEUBz2K</th>\n",
       "      <th>KraRmlAdki</th>\n",
       "      <th>4qItIo2aSp</th>\n",
       "      <th>A7VehTbDkj</th>\n",
       "      <th>7ZNhhaVwlC</th>\n",
       "      <th>8UB3ZCHsMP</th>\n",
       "      <th>c2l2LxWucx</th>\n",
       "    </tr>\n",
       "  </thead>\n",
       "  <tbody>\n",
       "    <tr>\n",
       "      <th>vcM0w26xi6</th>\n",
       "      <td>1</td>\n",
       "      <td>2</td>\n",
       "      <td>4</td>\n",
       "      <td>2</td>\n",
       "      <td>3</td>\n",
       "      <td>NaN</td>\n",
       "      <td>NaN</td>\n",
       "      <td>NaN</td>\n",
       "    </tr>\n",
       "    <tr>\n",
       "      <th>e1lEFJC3hK</th>\n",
       "      <td>1</td>\n",
       "      <td>2</td>\n",
       "      <td>4</td>\n",
       "      <td>2</td>\n",
       "      <td>3</td>\n",
       "      <td>NaN</td>\n",
       "      <td>NaN</td>\n",
       "      <td>NaN</td>\n",
       "    </tr>\n",
       "    <tr>\n",
       "      <th>zy2Iymim8g</th>\n",
       "      <td>1</td>\n",
       "      <td>2</td>\n",
       "      <td>1</td>\n",
       "      <td>2</td>\n",
       "      <td>4</td>\n",
       "      <td>NaN</td>\n",
       "      <td>NaN</td>\n",
       "      <td>NaN</td>\n",
       "    </tr>\n",
       "    <tr>\n",
       "      <th>Zs9uCTRg59</th>\n",
       "      <td>1</td>\n",
       "      <td>1</td>\n",
       "      <td>4</td>\n",
       "      <td>2</td>\n",
       "      <td>2</td>\n",
       "      <td>NaN</td>\n",
       "      <td>NaN</td>\n",
       "      <td>NaN</td>\n",
       "    </tr>\n",
       "    <tr>\n",
       "      <th>aZ0gXwjlNK</th>\n",
       "      <td>1</td>\n",
       "      <td>3</td>\n",
       "      <td>1</td>\n",
       "      <td>2</td>\n",
       "      <td>3</td>\n",
       "      <td>NaN</td>\n",
       "      <td>NaN</td>\n",
       "      <td>NaN</td>\n",
       "    </tr>\n",
       "    <tr>\n",
       "      <th>trueAnswer</th>\n",
       "      <td>1</td>\n",
       "      <td>1</td>\n",
       "      <td>4</td>\n",
       "      <td>2</td>\n",
       "      <td>3</td>\n",
       "      <td>1.0</td>\n",
       "      <td>2.0</td>\n",
       "      <td>3.0</td>\n",
       "    </tr>\n",
       "  </tbody>\n",
       "</table>\n",
       "</div>"
      ],
      "text/plain": [
       "            HZQ9LBYy07  XxfMEUBz2K  KraRmlAdki  4qItIo2aSp  A7VehTbDkj  \\\n",
       "vcM0w26xi6           1           2           4           2           3   \n",
       "e1lEFJC3hK           1           2           4           2           3   \n",
       "zy2Iymim8g           1           2           1           2           4   \n",
       "Zs9uCTRg59           1           1           4           2           2   \n",
       "aZ0gXwjlNK           1           3           1           2           3   \n",
       "trueAnswer           1           1           4           2           3   \n",
       "\n",
       "            7ZNhhaVwlC  8UB3ZCHsMP  c2l2LxWucx  \n",
       "vcM0w26xi6         NaN         NaN         NaN  \n",
       "e1lEFJC3hK         NaN         NaN         NaN  \n",
       "zy2Iymim8g         NaN         NaN         NaN  \n",
       "Zs9uCTRg59         NaN         NaN         NaN  \n",
       "aZ0gXwjlNK         NaN         NaN         NaN  \n",
       "trueAnswer         1.0         2.0         3.0  "
      ]
     },
     "execution_count": 79,
     "metadata": {},
     "output_type": "execute_result"
    }
   ],
   "source": [
    "final_df_userans"
   ]
  },
  {
   "cell_type": "code",
   "execution_count": 80,
   "metadata": {},
   "outputs": [],
   "source": [
    "ck = final_df_userans[final_df_userans.index == \"trueAnswer\"]"
   ]
  },
  {
   "cell_type": "code",
   "execution_count": 81,
   "metadata": {},
   "outputs": [
    {
     "data": {
      "text/html": [
       "<div>\n",
       "<style scoped>\n",
       "    .dataframe tbody tr th:only-of-type {\n",
       "        vertical-align: middle;\n",
       "    }\n",
       "\n",
       "    .dataframe tbody tr th {\n",
       "        vertical-align: top;\n",
       "    }\n",
       "\n",
       "    .dataframe thead th {\n",
       "        text-align: right;\n",
       "    }\n",
       "</style>\n",
       "<table border=\"1\" class=\"dataframe\">\n",
       "  <thead>\n",
       "    <tr style=\"text-align: right;\">\n",
       "      <th></th>\n",
       "      <th>HZQ9LBYy07</th>\n",
       "      <th>XxfMEUBz2K</th>\n",
       "      <th>KraRmlAdki</th>\n",
       "      <th>4qItIo2aSp</th>\n",
       "      <th>A7VehTbDkj</th>\n",
       "      <th>7ZNhhaVwlC</th>\n",
       "      <th>8UB3ZCHsMP</th>\n",
       "      <th>c2l2LxWucx</th>\n",
       "    </tr>\n",
       "  </thead>\n",
       "  <tbody>\n",
       "    <tr>\n",
       "      <th>trueAnswer</th>\n",
       "      <td>1</td>\n",
       "      <td>1</td>\n",
       "      <td>4</td>\n",
       "      <td>2</td>\n",
       "      <td>3</td>\n",
       "      <td>1.0</td>\n",
       "      <td>2.0</td>\n",
       "      <td>3.0</td>\n",
       "    </tr>\n",
       "  </tbody>\n",
       "</table>\n",
       "</div>"
      ],
      "text/plain": [
       "            HZQ9LBYy07  XxfMEUBz2K  KraRmlAdki  4qItIo2aSp  A7VehTbDkj  \\\n",
       "trueAnswer           1           1           4           2           3   \n",
       "\n",
       "            7ZNhhaVwlC  8UB3ZCHsMP  c2l2LxWucx  \n",
       "trueAnswer         1.0         2.0         3.0  "
      ]
     },
     "execution_count": 81,
     "metadata": {},
     "output_type": "execute_result"
    }
   ],
   "source": [
    "ck"
   ]
  },
  {
   "cell_type": "code",
   "execution_count": 83,
   "metadata": {},
   "outputs": [],
   "source": [
    "max_score_per_question = 100/len(questions)"
   ]
  },
  {
   "cell_type": "code",
   "execution_count": 84,
   "metadata": {},
   "outputs": [
    {
     "data": {
      "text/plain": [
       "20.0"
      ]
     },
     "execution_count": 84,
     "metadata": {},
     "output_type": "execute_result"
    }
   ],
   "source": [
    "max_score_per_question"
   ]
  },
  {
   "cell_type": "code",
   "execution_count": 89,
   "metadata": {},
   "outputs": [],
   "source": [
    "ta = final_df_userans[final_df_userans.index == \"trueAnswer\"]"
   ]
  },
  {
   "cell_type": "code",
   "execution_count": 90,
   "metadata": {},
   "outputs": [
    {
     "data": {
      "text/plain": [
       "trueAnswer    True\n",
       "Name: XxfMEUBz2K, dtype: bool"
      ]
     },
     "execution_count": 90,
     "metadata": {},
     "output_type": "execute_result"
    }
   ],
   "source": [
    "ct.index[1] == ta[\"XxfMEUBz2K\"]"
   ]
  },
  {
   "cell_type": "code",
   "execution_count": 91,
   "metadata": {},
   "outputs": [
    {
     "data": {
      "text/plain": [
       "trueAnswer    1\n",
       "Name: HZQ9LBYy07, dtype: int64"
      ]
     },
     "execution_count": 91,
     "metadata": {},
     "output_type": "execute_result"
    }
   ],
   "source": [
    "ta[ta.columns[0]]"
   ]
  },
  {
   "cell_type": "code",
   "execution_count": 92,
   "metadata": {},
   "outputs": [
    {
     "data": {
      "text/plain": [
       "2"
      ]
     },
     "execution_count": 92,
     "metadata": {},
     "output_type": "execute_result"
    }
   ],
   "source": [
    "ct.index[0]"
   ]
  },
  {
   "cell_type": "code",
   "execution_count": 93,
   "metadata": {},
   "outputs": [
    {
     "data": {
      "text/plain": [
       "Index(['HZQ9LBYy07', 'XxfMEUBz2K', 'KraRmlAdki', '4qItIo2aSp', 'A7VehTbDkj',\n",
       "       '7ZNhhaVwlC', '8UB3ZCHsMP', 'c2l2LxWucx'],\n",
       "      dtype='object')"
      ]
     },
     "execution_count": 93,
     "metadata": {},
     "output_type": "execute_result"
    }
   ],
   "source": [
    "ta.columns"
   ]
  },
  {
   "cell_type": "code",
   "execution_count": 94,
   "metadata": {},
   "outputs": [
    {
     "data": {
      "text/plain": [
       "'HZQ9LBYy07'"
      ]
     },
     "execution_count": 94,
     "metadata": {},
     "output_type": "execute_result"
    }
   ],
   "source": [
    "final_df_userans.columns[0]"
   ]
  },
  {
   "cell_type": "code",
   "execution_count": 95,
   "metadata": {},
   "outputs": [],
   "source": [
    "w = len(questions)\n",
    "counts_incorrect = [0 for x in range(w)]"
   ]
  },
  {
   "cell_type": "code",
   "execution_count": 96,
   "metadata": {},
   "outputs": [
    {
     "data": {
      "text/plain": [
       "8"
      ]
     },
     "execution_count": 96,
     "metadata": {},
     "output_type": "execute_result"
    }
   ],
   "source": [
    "len(ta.columns)"
   ]
  },
  {
   "cell_type": "code",
   "execution_count": 97,
   "metadata": {},
   "outputs": [
    {
     "data": {
      "text/html": [
       "<div>\n",
       "<style scoped>\n",
       "    .dataframe tbody tr th:only-of-type {\n",
       "        vertical-align: middle;\n",
       "    }\n",
       "\n",
       "    .dataframe tbody tr th {\n",
       "        vertical-align: top;\n",
       "    }\n",
       "\n",
       "    .dataframe thead th {\n",
       "        text-align: right;\n",
       "    }\n",
       "</style>\n",
       "<table border=\"1\" class=\"dataframe\">\n",
       "  <thead>\n",
       "    <tr style=\"text-align: right;\">\n",
       "      <th></th>\n",
       "      <th>HZQ9LBYy07</th>\n",
       "      <th>XxfMEUBz2K</th>\n",
       "      <th>KraRmlAdki</th>\n",
       "      <th>4qItIo2aSp</th>\n",
       "      <th>A7VehTbDkj</th>\n",
       "      <th>7ZNhhaVwlC</th>\n",
       "      <th>8UB3ZCHsMP</th>\n",
       "      <th>c2l2LxWucx</th>\n",
       "    </tr>\n",
       "  </thead>\n",
       "  <tbody>\n",
       "    <tr>\n",
       "      <th>vcM0w26xi6</th>\n",
       "      <td>1</td>\n",
       "      <td>2</td>\n",
       "      <td>4</td>\n",
       "      <td>2</td>\n",
       "      <td>3</td>\n",
       "      <td>NaN</td>\n",
       "      <td>NaN</td>\n",
       "      <td>NaN</td>\n",
       "    </tr>\n",
       "    <tr>\n",
       "      <th>e1lEFJC3hK</th>\n",
       "      <td>1</td>\n",
       "      <td>2</td>\n",
       "      <td>4</td>\n",
       "      <td>2</td>\n",
       "      <td>3</td>\n",
       "      <td>NaN</td>\n",
       "      <td>NaN</td>\n",
       "      <td>NaN</td>\n",
       "    </tr>\n",
       "    <tr>\n",
       "      <th>zy2Iymim8g</th>\n",
       "      <td>1</td>\n",
       "      <td>2</td>\n",
       "      <td>1</td>\n",
       "      <td>2</td>\n",
       "      <td>4</td>\n",
       "      <td>NaN</td>\n",
       "      <td>NaN</td>\n",
       "      <td>NaN</td>\n",
       "    </tr>\n",
       "    <tr>\n",
       "      <th>Zs9uCTRg59</th>\n",
       "      <td>1</td>\n",
       "      <td>1</td>\n",
       "      <td>4</td>\n",
       "      <td>2</td>\n",
       "      <td>2</td>\n",
       "      <td>NaN</td>\n",
       "      <td>NaN</td>\n",
       "      <td>NaN</td>\n",
       "    </tr>\n",
       "    <tr>\n",
       "      <th>aZ0gXwjlNK</th>\n",
       "      <td>1</td>\n",
       "      <td>3</td>\n",
       "      <td>1</td>\n",
       "      <td>2</td>\n",
       "      <td>3</td>\n",
       "      <td>NaN</td>\n",
       "      <td>NaN</td>\n",
       "      <td>NaN</td>\n",
       "    </tr>\n",
       "    <tr>\n",
       "      <th>trueAnswer</th>\n",
       "      <td>1</td>\n",
       "      <td>1</td>\n",
       "      <td>4</td>\n",
       "      <td>2</td>\n",
       "      <td>3</td>\n",
       "      <td>1.0</td>\n",
       "      <td>2.0</td>\n",
       "      <td>3.0</td>\n",
       "    </tr>\n",
       "  </tbody>\n",
       "</table>\n",
       "</div>"
      ],
      "text/plain": [
       "            HZQ9LBYy07  XxfMEUBz2K  KraRmlAdki  4qItIo2aSp  A7VehTbDkj  \\\n",
       "vcM0w26xi6           1           2           4           2           3   \n",
       "e1lEFJC3hK           1           2           4           2           3   \n",
       "zy2Iymim8g           1           2           1           2           4   \n",
       "Zs9uCTRg59           1           1           4           2           2   \n",
       "aZ0gXwjlNK           1           3           1           2           3   \n",
       "trueAnswer           1           1           4           2           3   \n",
       "\n",
       "            7ZNhhaVwlC  8UB3ZCHsMP  c2l2LxWucx  \n",
       "vcM0w26xi6         NaN         NaN         NaN  \n",
       "e1lEFJC3hK         NaN         NaN         NaN  \n",
       "zy2Iymim8g         NaN         NaN         NaN  \n",
       "Zs9uCTRg59         NaN         NaN         NaN  \n",
       "aZ0gXwjlNK         NaN         NaN         NaN  \n",
       "trueAnswer         1.0         2.0         3.0  "
      ]
     },
     "execution_count": 97,
     "metadata": {},
     "output_type": "execute_result"
    }
   ],
   "source": [
    "final_df_userans"
   ]
  },
  {
   "cell_type": "code",
   "execution_count": 98,
   "metadata": {},
   "outputs": [],
   "source": [
    "Matrix = [[0 for x in range(final_df_userans.shape[1])] for y in range(final_df_userans.shape[0]-1)] "
   ]
  },
  {
   "cell_type": "code",
   "execution_count": 99,
   "metadata": {},
   "outputs": [
    {
     "data": {
      "text/plain": [
       "[[0, 0, 0, 0, 0, 0, 0, 0],\n",
       " [0, 0, 0, 0, 0, 0, 0, 0],\n",
       " [0, 0, 0, 0, 0, 0, 0, 0],\n",
       " [0, 0, 0, 0, 0, 0, 0, 0],\n",
       " [0, 0, 0, 0, 0, 0, 0, 0]]"
      ]
     },
     "execution_count": 99,
     "metadata": {},
     "output_type": "execute_result"
    }
   ],
   "source": [
    "Matrix"
   ]
  },
  {
   "cell_type": "code",
   "execution_count": 105,
   "metadata": {},
   "outputs": [],
   "source": [
    "ta = final_df_userans[final_df_userans.index == \"trueAnswer\"]\n",
    "\n",
    "for i in range(final_df_userans.shape[0]-1):\n",
    "    for j in range(final_df_userans.shape[1]):\n",
    "        Matrix[i][j] = (final_df_userans[final_df_userans.columns[j]][i]==ta[ta.columns[j]][0])"
   ]
  },
  {
   "cell_type": "code",
   "execution_count": 106,
   "metadata": {},
   "outputs": [
    {
     "data": {
      "text/plain": [
       "[[True, False, True, True, True, False, False, False],\n",
       " [True, False, True, True, True, False, False, False],\n",
       " [True, False, False, True, False, False, False, False],\n",
       " [True, True, True, True, False, False, False, False],\n",
       " [True, False, False, True, True, False, False, False]]"
      ]
     },
     "execution_count": 106,
     "metadata": {},
     "output_type": "execute_result"
    }
   ],
   "source": [
    "Matrix"
   ]
  },
  {
   "cell_type": "code",
   "execution_count": 107,
   "metadata": {},
   "outputs": [],
   "source": [
    "final_df_ta = pd.DataFrame(Matrix)"
   ]
  },
  {
   "cell_type": "code",
   "execution_count": 108,
   "metadata": {},
   "outputs": [
    {
     "data": {
      "text/html": [
       "<div>\n",
       "<style scoped>\n",
       "    .dataframe tbody tr th:only-of-type {\n",
       "        vertical-align: middle;\n",
       "    }\n",
       "\n",
       "    .dataframe tbody tr th {\n",
       "        vertical-align: top;\n",
       "    }\n",
       "\n",
       "    .dataframe thead th {\n",
       "        text-align: right;\n",
       "    }\n",
       "</style>\n",
       "<table border=\"1\" class=\"dataframe\">\n",
       "  <thead>\n",
       "    <tr style=\"text-align: right;\">\n",
       "      <th></th>\n",
       "      <th>0</th>\n",
       "      <th>1</th>\n",
       "      <th>2</th>\n",
       "      <th>3</th>\n",
       "      <th>4</th>\n",
       "      <th>5</th>\n",
       "      <th>6</th>\n",
       "      <th>7</th>\n",
       "    </tr>\n",
       "  </thead>\n",
       "  <tbody>\n",
       "    <tr>\n",
       "      <th>0</th>\n",
       "      <td>True</td>\n",
       "      <td>False</td>\n",
       "      <td>True</td>\n",
       "      <td>True</td>\n",
       "      <td>True</td>\n",
       "      <td>False</td>\n",
       "      <td>False</td>\n",
       "      <td>False</td>\n",
       "    </tr>\n",
       "    <tr>\n",
       "      <th>1</th>\n",
       "      <td>True</td>\n",
       "      <td>False</td>\n",
       "      <td>True</td>\n",
       "      <td>True</td>\n",
       "      <td>True</td>\n",
       "      <td>False</td>\n",
       "      <td>False</td>\n",
       "      <td>False</td>\n",
       "    </tr>\n",
       "    <tr>\n",
       "      <th>2</th>\n",
       "      <td>True</td>\n",
       "      <td>False</td>\n",
       "      <td>False</td>\n",
       "      <td>True</td>\n",
       "      <td>False</td>\n",
       "      <td>False</td>\n",
       "      <td>False</td>\n",
       "      <td>False</td>\n",
       "    </tr>\n",
       "    <tr>\n",
       "      <th>3</th>\n",
       "      <td>True</td>\n",
       "      <td>True</td>\n",
       "      <td>True</td>\n",
       "      <td>True</td>\n",
       "      <td>False</td>\n",
       "      <td>False</td>\n",
       "      <td>False</td>\n",
       "      <td>False</td>\n",
       "    </tr>\n",
       "    <tr>\n",
       "      <th>4</th>\n",
       "      <td>True</td>\n",
       "      <td>False</td>\n",
       "      <td>False</td>\n",
       "      <td>True</td>\n",
       "      <td>True</td>\n",
       "      <td>False</td>\n",
       "      <td>False</td>\n",
       "      <td>False</td>\n",
       "    </tr>\n",
       "  </tbody>\n",
       "</table>\n",
       "</div>"
      ],
      "text/plain": [
       "      0      1      2     3      4      5      6      7\n",
       "0  True  False   True  True   True  False  False  False\n",
       "1  True  False   True  True   True  False  False  False\n",
       "2  True  False  False  True  False  False  False  False\n",
       "3  True   True   True  True  False  False  False  False\n",
       "4  True  False  False  True   True  False  False  False"
      ]
     },
     "execution_count": 108,
     "metadata": {},
     "output_type": "execute_result"
    }
   ],
   "source": [
    "final_df_ta"
   ]
  },
  {
   "cell_type": "code",
   "execution_count": 109,
   "metadata": {},
   "outputs": [
    {
     "ename": "IndexError",
     "evalue": "index 5 is out of bounds for axis 0 with size 5",
     "output_type": "error",
     "traceback": [
      "\u001b[1;31m---------------------------------------------------------------------------\u001b[0m",
      "\u001b[1;31mIndexError\u001b[0m                                Traceback (most recent call last)",
      "\u001b[1;32m<ipython-input-109-7d6579a3d763>\u001b[0m in \u001b[0;36m<module>\u001b[1;34m\u001b[0m\n\u001b[0;32m      1\u001b[0m \u001b[1;32mfor\u001b[0m \u001b[0mi\u001b[0m \u001b[1;32min\u001b[0m \u001b[0mrange\u001b[0m\u001b[1;33m(\u001b[0m\u001b[0mfinal_df_ta\u001b[0m\u001b[1;33m.\u001b[0m\u001b[0mshape\u001b[0m\u001b[1;33m[\u001b[0m\u001b[1;36m1\u001b[0m\u001b[1;33m]\u001b[0m\u001b[1;33m)\u001b[0m\u001b[1;33m:\u001b[0m\u001b[1;33m\u001b[0m\u001b[1;33m\u001b[0m\u001b[0m\n\u001b[1;32m----> 2\u001b[1;33m     \u001b[0mfinal_df_ta\u001b[0m \u001b[1;33m=\u001b[0m \u001b[0mfinal_df_ta\u001b[0m\u001b[1;33m.\u001b[0m\u001b[0mrename\u001b[0m\u001b[1;33m(\u001b[0m\u001b[0mcolumns\u001b[0m\u001b[1;33m=\u001b[0m\u001b[1;33m{\u001b[0m\u001b[0mi\u001b[0m\u001b[1;33m:\u001b[0m \u001b[0mquestions\u001b[0m\u001b[1;33m[\u001b[0m\u001b[0mi\u001b[0m\u001b[1;33m]\u001b[0m\u001b[1;33m}\u001b[0m\u001b[1;33m)\u001b[0m\u001b[1;33m\u001b[0m\u001b[1;33m\u001b[0m\u001b[0m\n\u001b[0m",
      "\u001b[1;31mIndexError\u001b[0m: index 5 is out of bounds for axis 0 with size 5"
     ]
    }
   ],
   "source": [
    "for i in range(final_df_ta.shape[1]):\n",
    "    final_df_ta = final_df_ta.rename(columns={i: questions[i]})"
   ]
  },
  {
   "cell_type": "code",
   "execution_count": 110,
   "metadata": {},
   "outputs": [],
   "source": [
    "for j in range(final_df_ta.shape[0]):\n",
    "    final_df_ta = final_df_ta.rename(index={j: users[j]})"
   ]
  },
  {
   "cell_type": "code",
   "execution_count": 111,
   "metadata": {},
   "outputs": [],
   "source": [
    "final_df_ta = final_df_ta.astype(int)"
   ]
  },
  {
   "cell_type": "markdown",
   "metadata": {},
   "source": [
    "## Truth Table"
   ]
  },
  {
   "cell_type": "code",
   "execution_count": 112,
   "metadata": {
    "scrolled": false
   },
   "outputs": [
    {
     "data": {
      "text/html": [
       "<div>\n",
       "<style scoped>\n",
       "    .dataframe tbody tr th:only-of-type {\n",
       "        vertical-align: middle;\n",
       "    }\n",
       "\n",
       "    .dataframe tbody tr th {\n",
       "        vertical-align: top;\n",
       "    }\n",
       "\n",
       "    .dataframe thead th {\n",
       "        text-align: right;\n",
       "    }\n",
       "</style>\n",
       "<table border=\"1\" class=\"dataframe\">\n",
       "  <thead>\n",
       "    <tr style=\"text-align: right;\">\n",
       "      <th></th>\n",
       "      <th>HZQ9LBYy07</th>\n",
       "      <th>XxfMEUBz2K</th>\n",
       "      <th>KraRmlAdki</th>\n",
       "      <th>4qItIo2aSp</th>\n",
       "      <th>A7VehTbDkj</th>\n",
       "      <th>5</th>\n",
       "      <th>6</th>\n",
       "      <th>7</th>\n",
       "    </tr>\n",
       "  </thead>\n",
       "  <tbody>\n",
       "    <tr>\n",
       "      <th>vcM0w26xi6</th>\n",
       "      <td>1</td>\n",
       "      <td>0</td>\n",
       "      <td>1</td>\n",
       "      <td>1</td>\n",
       "      <td>1</td>\n",
       "      <td>0</td>\n",
       "      <td>0</td>\n",
       "      <td>0</td>\n",
       "    </tr>\n",
       "    <tr>\n",
       "      <th>e1lEFJC3hK</th>\n",
       "      <td>1</td>\n",
       "      <td>0</td>\n",
       "      <td>1</td>\n",
       "      <td>1</td>\n",
       "      <td>1</td>\n",
       "      <td>0</td>\n",
       "      <td>0</td>\n",
       "      <td>0</td>\n",
       "    </tr>\n",
       "    <tr>\n",
       "      <th>zy2Iymim8g</th>\n",
       "      <td>1</td>\n",
       "      <td>0</td>\n",
       "      <td>0</td>\n",
       "      <td>1</td>\n",
       "      <td>0</td>\n",
       "      <td>0</td>\n",
       "      <td>0</td>\n",
       "      <td>0</td>\n",
       "    </tr>\n",
       "    <tr>\n",
       "      <th>Zs9uCTRg59</th>\n",
       "      <td>1</td>\n",
       "      <td>1</td>\n",
       "      <td>1</td>\n",
       "      <td>1</td>\n",
       "      <td>0</td>\n",
       "      <td>0</td>\n",
       "      <td>0</td>\n",
       "      <td>0</td>\n",
       "    </tr>\n",
       "    <tr>\n",
       "      <th>aZ0gXwjlNK</th>\n",
       "      <td>1</td>\n",
       "      <td>0</td>\n",
       "      <td>0</td>\n",
       "      <td>1</td>\n",
       "      <td>1</td>\n",
       "      <td>0</td>\n",
       "      <td>0</td>\n",
       "      <td>0</td>\n",
       "    </tr>\n",
       "  </tbody>\n",
       "</table>\n",
       "</div>"
      ],
      "text/plain": [
       "            HZQ9LBYy07  XxfMEUBz2K  KraRmlAdki  4qItIo2aSp  A7VehTbDkj  5  6  \\\n",
       "vcM0w26xi6           1           0           1           1           1  0  0   \n",
       "e1lEFJC3hK           1           0           1           1           1  0  0   \n",
       "zy2Iymim8g           1           0           0           1           0  0  0   \n",
       "Zs9uCTRg59           1           1           1           1           0  0  0   \n",
       "aZ0gXwjlNK           1           0           0           1           1  0  0   \n",
       "\n",
       "            7  \n",
       "vcM0w26xi6  0  \n",
       "e1lEFJC3hK  0  \n",
       "zy2Iymim8g  0  \n",
       "Zs9uCTRg59  0  \n",
       "aZ0gXwjlNK  0  "
      ]
     },
     "execution_count": 112,
     "metadata": {},
     "output_type": "execute_result"
    }
   ],
   "source": [
    "final_df_ta"
   ]
  },
  {
   "cell_type": "code",
   "execution_count": 113,
   "metadata": {},
   "outputs": [],
   "source": [
    "sum_ques = final_df_ta.sum(axis=0)"
   ]
  },
  {
   "cell_type": "code",
   "execution_count": 114,
   "metadata": {},
   "outputs": [
    {
     "data": {
      "text/plain": [
       "HZQ9LBYy07    5\n",
       "XxfMEUBz2K    1\n",
       "KraRmlAdki    3\n",
       "4qItIo2aSp    5\n",
       "A7VehTbDkj    3\n",
       "5             0\n",
       "6             0\n",
       "7             0\n",
       "dtype: int64"
      ]
     },
     "execution_count": 114,
     "metadata": {},
     "output_type": "execute_result"
    }
   ],
   "source": [
    "sum_ques"
   ]
  },
  {
   "cell_type": "code",
   "execution_count": null,
   "metadata": {},
   "outputs": [],
   "source": [
    "## Hardest Questions"
   ]
  },
  {
   "cell_type": "code",
   "execution_count": 115,
   "metadata": {},
   "outputs": [
    {
     "name": "stdout",
     "output_type": "stream",
     "text": [
      "0\n"
     ]
    },
    {
     "ename": "KeyError",
     "evalue": "0",
     "output_type": "error",
     "traceback": [
      "\u001b[1;31m---------------------------------------------------------------------------\u001b[0m",
      "\u001b[1;31mKeyError\u001b[0m                                  Traceback (most recent call last)",
      "\u001b[1;32m<ipython-input-115-a760fd9928ab>\u001b[0m in \u001b[0;36m<module>\u001b[1;34m\u001b[0m\n\u001b[0;32m      2\u001b[0m \u001b[0mprint\u001b[0m\u001b[1;33m(\u001b[0m\u001b[0mhard_ques_score\u001b[0m\u001b[1;33m)\u001b[0m\u001b[1;33m\u001b[0m\u001b[1;33m\u001b[0m\u001b[0m\n\u001b[0;32m      3\u001b[0m \u001b[1;32mfor\u001b[0m \u001b[0mi\u001b[0m \u001b[1;32min\u001b[0m \u001b[0mrange\u001b[0m\u001b[1;33m(\u001b[0m\u001b[0mlen\u001b[0m\u001b[1;33m(\u001b[0m\u001b[0msum_ques\u001b[0m\u001b[1;33m)\u001b[0m\u001b[1;33m)\u001b[0m\u001b[1;33m:\u001b[0m\u001b[1;33m\u001b[0m\u001b[1;33m\u001b[0m\u001b[0m\n\u001b[1;32m----> 4\u001b[1;33m     \u001b[1;32mif\u001b[0m \u001b[1;33m(\u001b[0m\u001b[0msum_ques\u001b[0m\u001b[1;33m[\u001b[0m\u001b[0mi\u001b[0m\u001b[1;33m]\u001b[0m\u001b[1;33m==\u001b[0m\u001b[0mhard_ques_score\u001b[0m\u001b[1;33m)\u001b[0m\u001b[1;33m:\u001b[0m\u001b[1;33m\u001b[0m\u001b[1;33m\u001b[0m\u001b[0m\n\u001b[0m\u001b[0;32m      5\u001b[0m         \u001b[0mprint\u001b[0m\u001b[1;33m(\u001b[0m\u001b[0msum_ques\u001b[0m\u001b[1;33m.\u001b[0m\u001b[0mindex\u001b[0m\u001b[1;33m[\u001b[0m\u001b[0mi\u001b[0m\u001b[1;33m]\u001b[0m\u001b[1;33m)\u001b[0m\u001b[1;33m\u001b[0m\u001b[1;33m\u001b[0m\u001b[0m\n\u001b[0;32m      6\u001b[0m         \u001b[1;32mfor\u001b[0m \u001b[0mj\u001b[0m \u001b[1;32min\u001b[0m \u001b[0mrange\u001b[0m\u001b[1;33m(\u001b[0m\u001b[0mlen\u001b[0m\u001b[1;33m(\u001b[0m\u001b[0mfinal_df_MCQtable\u001b[0m\u001b[1;33m)\u001b[0m\u001b[1;33m)\u001b[0m\u001b[1;33m:\u001b[0m\u001b[1;33m\u001b[0m\u001b[1;33m\u001b[0m\u001b[0m\n",
      "\u001b[1;32m~\\anaconda3\\lib\\site-packages\\pandas\\core\\series.py\u001b[0m in \u001b[0;36m__getitem__\u001b[1;34m(self, key)\u001b[0m\n\u001b[0;32m    869\u001b[0m         \u001b[0mkey\u001b[0m \u001b[1;33m=\u001b[0m \u001b[0mcom\u001b[0m\u001b[1;33m.\u001b[0m\u001b[0mapply_if_callable\u001b[0m\u001b[1;33m(\u001b[0m\u001b[0mkey\u001b[0m\u001b[1;33m,\u001b[0m \u001b[0mself\u001b[0m\u001b[1;33m)\u001b[0m\u001b[1;33m\u001b[0m\u001b[1;33m\u001b[0m\u001b[0m\n\u001b[0;32m    870\u001b[0m         \u001b[1;32mtry\u001b[0m\u001b[1;33m:\u001b[0m\u001b[1;33m\u001b[0m\u001b[1;33m\u001b[0m\u001b[0m\n\u001b[1;32m--> 871\u001b[1;33m             \u001b[0mresult\u001b[0m \u001b[1;33m=\u001b[0m \u001b[0mself\u001b[0m\u001b[1;33m.\u001b[0m\u001b[0mindex\u001b[0m\u001b[1;33m.\u001b[0m\u001b[0mget_value\u001b[0m\u001b[1;33m(\u001b[0m\u001b[0mself\u001b[0m\u001b[1;33m,\u001b[0m \u001b[0mkey\u001b[0m\u001b[1;33m)\u001b[0m\u001b[1;33m\u001b[0m\u001b[1;33m\u001b[0m\u001b[0m\n\u001b[0m\u001b[0;32m    872\u001b[0m \u001b[1;33m\u001b[0m\u001b[0m\n\u001b[0;32m    873\u001b[0m             \u001b[1;32mif\u001b[0m \u001b[1;32mnot\u001b[0m \u001b[0mis_scalar\u001b[0m\u001b[1;33m(\u001b[0m\u001b[0mresult\u001b[0m\u001b[1;33m)\u001b[0m\u001b[1;33m:\u001b[0m\u001b[1;33m\u001b[0m\u001b[1;33m\u001b[0m\u001b[0m\n",
      "\u001b[1;32m~\\anaconda3\\lib\\site-packages\\pandas\\core\\indexes\\base.py\u001b[0m in \u001b[0;36mget_value\u001b[1;34m(self, series, key)\u001b[0m\n\u001b[0;32m   4403\u001b[0m         \u001b[0mk\u001b[0m \u001b[1;33m=\u001b[0m \u001b[0mself\u001b[0m\u001b[1;33m.\u001b[0m\u001b[0m_convert_scalar_indexer\u001b[0m\u001b[1;33m(\u001b[0m\u001b[0mk\u001b[0m\u001b[1;33m,\u001b[0m \u001b[0mkind\u001b[0m\u001b[1;33m=\u001b[0m\u001b[1;34m\"getitem\"\u001b[0m\u001b[1;33m)\u001b[0m\u001b[1;33m\u001b[0m\u001b[1;33m\u001b[0m\u001b[0m\n\u001b[0;32m   4404\u001b[0m         \u001b[1;32mtry\u001b[0m\u001b[1;33m:\u001b[0m\u001b[1;33m\u001b[0m\u001b[1;33m\u001b[0m\u001b[0m\n\u001b[1;32m-> 4405\u001b[1;33m             \u001b[1;32mreturn\u001b[0m \u001b[0mself\u001b[0m\u001b[1;33m.\u001b[0m\u001b[0m_engine\u001b[0m\u001b[1;33m.\u001b[0m\u001b[0mget_value\u001b[0m\u001b[1;33m(\u001b[0m\u001b[0ms\u001b[0m\u001b[1;33m,\u001b[0m \u001b[0mk\u001b[0m\u001b[1;33m,\u001b[0m \u001b[0mtz\u001b[0m\u001b[1;33m=\u001b[0m\u001b[0mgetattr\u001b[0m\u001b[1;33m(\u001b[0m\u001b[0mseries\u001b[0m\u001b[1;33m.\u001b[0m\u001b[0mdtype\u001b[0m\u001b[1;33m,\u001b[0m \u001b[1;34m\"tz\"\u001b[0m\u001b[1;33m,\u001b[0m \u001b[1;32mNone\u001b[0m\u001b[1;33m)\u001b[0m\u001b[1;33m)\u001b[0m\u001b[1;33m\u001b[0m\u001b[1;33m\u001b[0m\u001b[0m\n\u001b[0m\u001b[0;32m   4406\u001b[0m         \u001b[1;32mexcept\u001b[0m \u001b[0mKeyError\u001b[0m \u001b[1;32mas\u001b[0m \u001b[0me1\u001b[0m\u001b[1;33m:\u001b[0m\u001b[1;33m\u001b[0m\u001b[1;33m\u001b[0m\u001b[0m\n\u001b[0;32m   4407\u001b[0m             \u001b[1;32mif\u001b[0m \u001b[0mlen\u001b[0m\u001b[1;33m(\u001b[0m\u001b[0mself\u001b[0m\u001b[1;33m)\u001b[0m \u001b[1;33m>\u001b[0m \u001b[1;36m0\u001b[0m \u001b[1;32mand\u001b[0m \u001b[1;33m(\u001b[0m\u001b[0mself\u001b[0m\u001b[1;33m.\u001b[0m\u001b[0mholds_integer\u001b[0m\u001b[1;33m(\u001b[0m\u001b[1;33m)\u001b[0m \u001b[1;32mor\u001b[0m \u001b[0mself\u001b[0m\u001b[1;33m.\u001b[0m\u001b[0mis_boolean\u001b[0m\u001b[1;33m(\u001b[0m\u001b[1;33m)\u001b[0m\u001b[1;33m)\u001b[0m\u001b[1;33m:\u001b[0m\u001b[1;33m\u001b[0m\u001b[1;33m\u001b[0m\u001b[0m\n",
      "\u001b[1;32mpandas\\_libs\\index.pyx\u001b[0m in \u001b[0;36mpandas._libs.index.IndexEngine.get_value\u001b[1;34m()\u001b[0m\n",
      "\u001b[1;32mpandas\\_libs\\index.pyx\u001b[0m in \u001b[0;36mpandas._libs.index.IndexEngine.get_value\u001b[1;34m()\u001b[0m\n",
      "\u001b[1;32mpandas\\_libs\\index.pyx\u001b[0m in \u001b[0;36mpandas._libs.index.IndexEngine.get_loc\u001b[1;34m()\u001b[0m\n",
      "\u001b[1;32mpandas\\_libs\\hashtable_class_helper.pxi\u001b[0m in \u001b[0;36mpandas._libs.hashtable.PyObjectHashTable.get_item\u001b[1;34m()\u001b[0m\n",
      "\u001b[1;32mpandas\\_libs\\hashtable_class_helper.pxi\u001b[0m in \u001b[0;36mpandas._libs.hashtable.PyObjectHashTable.get_item\u001b[1;34m()\u001b[0m\n",
      "\u001b[1;31mKeyError\u001b[0m: 0"
     ]
    }
   ],
   "source": [
    "hard_ques_score = sum_ques.min()\n",
    "print(hard_ques_score)\n",
    "for i in range(len(sum_ques)):\n",
    "    if (sum_ques[i]==hard_ques_score):\n",
    "        print(sum_ques.index[i])\n",
    "        for j in range(len(final_df_MCQtable)):\n",
    "            if (sum_ques.index[i]==final_df_MCQtable[\"objectId\"][j]):\n",
    "                print(final_df_MCQtable[\"question\"][j])"
   ]
  },
  {
   "cell_type": "code",
   "execution_count": 315,
   "metadata": {},
   "outputs": [],
   "source": [
    "sum_ans = final_df_ta.sum(axis=1)"
   ]
  },
  {
   "cell_type": "code",
   "execution_count": 319,
   "metadata": {},
   "outputs": [],
   "source": [
    "sum_ans = sum_ans*max_score_per_question"
   ]
  },
  {
   "cell_type": "code",
   "execution_count": 340,
   "metadata": {},
   "outputs": [
    {
     "data": {
      "text/plain": [
       "Index(['vcM0w26xi6', 'e1lEFJC3hK', 'khUX3max7b', 'zy2Iymim8g', 'Zs9uCTRg59',\n",
       "       'aZ0gXwjlNK'],\n",
       "      dtype='object')"
      ]
     },
     "execution_count": 340,
     "metadata": {},
     "output_type": "execute_result"
    }
   ],
   "source": [
    "sum_ans.index"
   ]
  },
  {
   "cell_type": "markdown",
   "metadata": {},
   "source": [
    "## Highest Scores"
   ]
  },
  {
   "cell_type": "code",
   "execution_count": 126,
   "metadata": {},
   "outputs": [
    {
     "ename": "NameError",
     "evalue": "name 'sum_ans' is not defined",
     "output_type": "error",
     "traceback": [
      "\u001b[1;31m---------------------------------------------------------------------------\u001b[0m",
      "\u001b[1;31mNameError\u001b[0m                                 Traceback (most recent call last)",
      "\u001b[1;32m<ipython-input-126-5dd5f0f279ce>\u001b[0m in \u001b[0;36m<module>\u001b[1;34m\u001b[0m\n\u001b[1;32m----> 1\u001b[1;33m \u001b[0mmax_score\u001b[0m \u001b[1;33m=\u001b[0m \u001b[0msum_ans\u001b[0m\u001b[1;33m.\u001b[0m\u001b[0mmax\u001b[0m\u001b[1;33m(\u001b[0m\u001b[1;33m)\u001b[0m\u001b[1;33m\u001b[0m\u001b[1;33m\u001b[0m\u001b[0m\n\u001b[0m\u001b[0;32m      2\u001b[0m \u001b[0mprint\u001b[0m\u001b[1;33m(\u001b[0m\u001b[0mmax_score\u001b[0m\u001b[1;33m)\u001b[0m\u001b[1;33m\u001b[0m\u001b[1;33m\u001b[0m\u001b[0m\n\u001b[0;32m      3\u001b[0m \u001b[1;32mfor\u001b[0m \u001b[0mi\u001b[0m \u001b[1;32min\u001b[0m \u001b[0mrange\u001b[0m\u001b[1;33m(\u001b[0m\u001b[0mlen\u001b[0m\u001b[1;33m(\u001b[0m\u001b[0msum_ans\u001b[0m\u001b[1;33m)\u001b[0m\u001b[1;33m)\u001b[0m\u001b[1;33m:\u001b[0m\u001b[1;33m\u001b[0m\u001b[1;33m\u001b[0m\u001b[0m\n\u001b[0;32m      4\u001b[0m     \u001b[1;32mif\u001b[0m \u001b[1;33m(\u001b[0m\u001b[0msum_ans\u001b[0m\u001b[1;33m[\u001b[0m\u001b[0mi\u001b[0m\u001b[1;33m]\u001b[0m\u001b[1;33m==\u001b[0m\u001b[0mmax_score\u001b[0m\u001b[1;33m)\u001b[0m\u001b[1;33m:\u001b[0m\u001b[1;33m\u001b[0m\u001b[1;33m\u001b[0m\u001b[0m\n\u001b[0;32m      5\u001b[0m         \u001b[0mprint\u001b[0m\u001b[1;33m(\u001b[0m\u001b[0msum_ans\u001b[0m\u001b[1;33m.\u001b[0m\u001b[0mindex\u001b[0m\u001b[1;33m[\u001b[0m\u001b[0mi\u001b[0m\u001b[1;33m]\u001b[0m\u001b[1;33m)\u001b[0m\u001b[1;33m\u001b[0m\u001b[1;33m\u001b[0m\u001b[0m\n",
      "\u001b[1;31mNameError\u001b[0m: name 'sum_ans' is not defined"
     ]
    }
   ],
   "source": [
    "max_score = sum_ans.max()\n",
    "print(max_score)\n",
    "for i in range(len(sum_ans)):\n",
    "    if (sum_ans[i]==max_score):\n",
    "        print(sum_ans.index[i])\n",
    "        for j in range(len(final_df_examtable)):\n",
    "            if (sum_ans.index[i]==final_df_examtable[\"userId\"][j]):\n",
    "                print(final_df_examtable[\"username\"][j])"
   ]
  },
  {
   "cell_type": "markdown",
   "metadata": {},
   "source": [
    "## Minimum Scores"
   ]
  },
  {
   "cell_type": "code",
   "execution_count": 353,
   "metadata": {},
   "outputs": [
    {
     "name": "stdout",
     "output_type": "stream",
     "text": [
      "40.0\n",
      "zy2Iymim8g\n",
      "gioele\n"
     ]
    }
   ],
   "source": [
    "min_score = sum_ans.min()\n",
    "print(min_score)\n",
    "for i in range(len(sum_ans)):\n",
    "    if (sum_ans[i]==min_score):\n",
    "        print(sum_ans.index[i])\n",
    "        for j in range(len(final_df_examtable)):\n",
    "            if (sum_ans.index[i]==final_df_examtable[\"userId\"][j]):\n",
    "                print(final_df_examtable[\"username\"][j])"
   ]
  },
  {
   "cell_type": "markdown",
   "metadata": {},
   "source": [
    "# Sentiment Analysis on Feedback Text and Wordcloud"
   ]
  },
  {
   "cell_type": "code",
   "execution_count": 116,
   "metadata": {},
   "outputs": [],
   "source": [
    "import spacy"
   ]
  },
  {
   "cell_type": "code",
   "execution_count": 117,
   "metadata": {
    "scrolled": true
   },
   "outputs": [],
   "source": [
    "#pip install spacytextblob"
   ]
  },
  {
   "cell_type": "code",
   "execution_count": 118,
   "metadata": {},
   "outputs": [],
   "source": [
    "from spacytextblob.spacytextblob import SpacyTextBlob"
   ]
  },
  {
   "cell_type": "code",
   "execution_count": 119,
   "metadata": {},
   "outputs": [],
   "source": [
    "nlp = spacy.load(\"en_core_web_sm\")"
   ]
  },
  {
   "cell_type": "code",
   "execution_count": 120,
   "metadata": {},
   "outputs": [
    {
     "data": {
      "text/html": [
       "<div>\n",
       "<style scoped>\n",
       "    .dataframe tbody tr th:only-of-type {\n",
       "        vertical-align: middle;\n",
       "    }\n",
       "\n",
       "    .dataframe tbody tr th {\n",
       "        vertical-align: top;\n",
       "    }\n",
       "\n",
       "    .dataframe thead th {\n",
       "        text-align: right;\n",
       "    }\n",
       "</style>\n",
       "<table border=\"1\" class=\"dataframe\">\n",
       "  <thead>\n",
       "    <tr style=\"text-align: right;\">\n",
       "      <th></th>\n",
       "      <th>objectId</th>\n",
       "      <th>thirdSection</th>\n",
       "      <th>userId</th>\n",
       "      <th>examId</th>\n",
       "      <th>createdAt</th>\n",
       "      <th>updatedAt</th>\n",
       "      <th>optionalFeedback</th>\n",
       "      <th>capstoneProjectTextFeedback</th>\n",
       "      <th>firstSection</th>\n",
       "      <th>secondSection</th>\n",
       "      <th>totalTimeToFinishSecondSection</th>\n",
       "      <th>overall_score</th>\n",
       "      <th>overall_score_percentage</th>\n",
       "      <th>gender</th>\n",
       "      <th>age</th>\n",
       "      <th>username</th>\n",
       "    </tr>\n",
       "  </thead>\n",
       "  <tbody>\n",
       "    <tr>\n",
       "      <th>0</th>\n",
       "      <td>MZiDmknBr3</td>\n",
       "      <td>100.0</td>\n",
       "      <td>vcM0w26xi6</td>\n",
       "      <td>1EKKLfkBDR</td>\n",
       "      <td>2021-11-11T08:18:24.227Z</td>\n",
       "      <td>2021-11-19T07:53:48.290Z</td>\n",
       "      <td>MCQ section was very hard! The live question s...</td>\n",
       "      <td>I am very very happy to finish this course.</td>\n",
       "      <td>60.0</td>\n",
       "      <td>80.0</td>\n",
       "      <td>8.0</td>\n",
       "      <td>240.0</td>\n",
       "      <td>80.000000</td>\n",
       "      <td>Female</td>\n",
       "      <td>20</td>\n",
       "      <td>zakia</td>\n",
       "    </tr>\n",
       "    <tr>\n",
       "      <th>1</th>\n",
       "      <td>CH0hVcqi5S</td>\n",
       "      <td>70.0</td>\n",
       "      <td>e1lEFJC3hK</td>\n",
       "      <td>1EKKLfkBDR</td>\n",
       "      <td>2021-11-19T07:31:58.321Z</td>\n",
       "      <td>2021-11-19T20:00:20.882Z</td>\n",
       "      <td>I have to work hard on those questions.</td>\n",
       "      <td>The course was awesome.</td>\n",
       "      <td>45.0</td>\n",
       "      <td>80.0</td>\n",
       "      <td>8.0</td>\n",
       "      <td>195.0</td>\n",
       "      <td>65.000000</td>\n",
       "      <td>Female</td>\n",
       "      <td>19</td>\n",
       "      <td>giada</td>\n",
       "    </tr>\n",
       "    <tr>\n",
       "      <th>2</th>\n",
       "      <td>tNSNzAvzZi</td>\n",
       "      <td>65.0</td>\n",
       "      <td>khUX3max7b</td>\n",
       "      <td>1EKKLfkBDR</td>\n",
       "      <td>2021-11-19T19:55:37.807Z</td>\n",
       "      <td>2021-11-25T11:52:12.434Z</td>\n",
       "      <td>Neither good nor bad. It was a normal exam.</td>\n",
       "      <td>I am very happy to finish this course.</td>\n",
       "      <td>50.0</td>\n",
       "      <td>NaN</td>\n",
       "      <td>16.0</td>\n",
       "      <td>NaN</td>\n",
       "      <td>NaN</td>\n",
       "      <td>Female</td>\n",
       "      <td>15</td>\n",
       "      <td>juliet</td>\n",
       "    </tr>\n",
       "    <tr>\n",
       "      <th>3</th>\n",
       "      <td>NOzD7Smsqe</td>\n",
       "      <td>55.0</td>\n",
       "      <td>zy2Iymim8g</td>\n",
       "      <td>1EKKLfkBDR</td>\n",
       "      <td>2021-11-19T20:03:28.131Z</td>\n",
       "      <td>2021-11-19T20:05:05.991Z</td>\n",
       "      <td>I had a hard time. Why did you ask so hard?</td>\n",
       "      <td>Although the course was good, unfortunately I ...</td>\n",
       "      <td>35.0</td>\n",
       "      <td>40.0</td>\n",
       "      <td>17.0</td>\n",
       "      <td>130.0</td>\n",
       "      <td>43.333333</td>\n",
       "      <td>Male</td>\n",
       "      <td>16</td>\n",
       "      <td>gioele</td>\n",
       "    </tr>\n",
       "    <tr>\n",
       "      <th>4</th>\n",
       "      <td>ozC9SB1b0f</td>\n",
       "      <td>100.0</td>\n",
       "      <td>Zs9uCTRg59</td>\n",
       "      <td>1EKKLfkBDR</td>\n",
       "      <td>2021-11-19T20:06:44.311Z</td>\n",
       "      <td>2021-11-19T20:07:52.891Z</td>\n",
       "      <td>Some questions were easy, some were hard. I di...</td>\n",
       "      <td>I am very happy to have finished this course. ...</td>\n",
       "      <td>75.0</td>\n",
       "      <td>80.0</td>\n",
       "      <td>15.0</td>\n",
       "      <td>255.0</td>\n",
       "      <td>85.000000</td>\n",
       "      <td>Female</td>\n",
       "      <td>17</td>\n",
       "      <td>marta</td>\n",
       "    </tr>\n",
       "    <tr>\n",
       "      <th>5</th>\n",
       "      <td>1Bgpkc7lXt</td>\n",
       "      <td>40.0</td>\n",
       "      <td>aZ0gXwjlNK</td>\n",
       "      <td>1EKKLfkBDR</td>\n",
       "      <td>2021-11-19T20:09:45.272Z</td>\n",
       "      <td>2021-11-19T20:11:14.832Z</td>\n",
       "      <td>I'm not sure about some questions but I think ...</td>\n",
       "      <td>It was a better course than I thought. If I ha...</td>\n",
       "      <td>80.0</td>\n",
       "      <td>60.0</td>\n",
       "      <td>16.0</td>\n",
       "      <td>180.0</td>\n",
       "      <td>60.000000</td>\n",
       "      <td>Female</td>\n",
       "      <td>18</td>\n",
       "      <td>namrata</td>\n",
       "    </tr>\n",
       "    <tr>\n",
       "      <th>6</th>\n",
       "      <td>JTKBqDcMHA</td>\n",
       "      <td>NaN</td>\n",
       "      <td>vcM0w26xi6</td>\n",
       "      <td>HahVtDxtil</td>\n",
       "      <td>2021-11-25T10:45:56.701Z</td>\n",
       "      <td>2021-11-25T10:45:56.701Z</td>\n",
       "      <td>NaN</td>\n",
       "      <td>NaN</td>\n",
       "      <td>NaN</td>\n",
       "      <td>NaN</td>\n",
       "      <td>NaN</td>\n",
       "      <td>NaN</td>\n",
       "      <td>NaN</td>\n",
       "      <td>Female</td>\n",
       "      <td>20</td>\n",
       "      <td>zakia</td>\n",
       "    </tr>\n",
       "  </tbody>\n",
       "</table>\n",
       "</div>"
      ],
      "text/plain": [
       "     objectId  thirdSection      userId      examId                 createdAt  \\\n",
       "0  MZiDmknBr3         100.0  vcM0w26xi6  1EKKLfkBDR  2021-11-11T08:18:24.227Z   \n",
       "1  CH0hVcqi5S          70.0  e1lEFJC3hK  1EKKLfkBDR  2021-11-19T07:31:58.321Z   \n",
       "2  tNSNzAvzZi          65.0  khUX3max7b  1EKKLfkBDR  2021-11-19T19:55:37.807Z   \n",
       "3  NOzD7Smsqe          55.0  zy2Iymim8g  1EKKLfkBDR  2021-11-19T20:03:28.131Z   \n",
       "4  ozC9SB1b0f         100.0  Zs9uCTRg59  1EKKLfkBDR  2021-11-19T20:06:44.311Z   \n",
       "5  1Bgpkc7lXt          40.0  aZ0gXwjlNK  1EKKLfkBDR  2021-11-19T20:09:45.272Z   \n",
       "6  JTKBqDcMHA           NaN  vcM0w26xi6  HahVtDxtil  2021-11-25T10:45:56.701Z   \n",
       "\n",
       "                  updatedAt  \\\n",
       "0  2021-11-19T07:53:48.290Z   \n",
       "1  2021-11-19T20:00:20.882Z   \n",
       "2  2021-11-25T11:52:12.434Z   \n",
       "3  2021-11-19T20:05:05.991Z   \n",
       "4  2021-11-19T20:07:52.891Z   \n",
       "5  2021-11-19T20:11:14.832Z   \n",
       "6  2021-11-25T10:45:56.701Z   \n",
       "\n",
       "                                    optionalFeedback  \\\n",
       "0  MCQ section was very hard! The live question s...   \n",
       "1            I have to work hard on those questions.   \n",
       "2        Neither good nor bad. It was a normal exam.   \n",
       "3        I had a hard time. Why did you ask so hard?   \n",
       "4  Some questions were easy, some were hard. I di...   \n",
       "5  I'm not sure about some questions but I think ...   \n",
       "6                                                NaN   \n",
       "\n",
       "                         capstoneProjectTextFeedback  firstSection  \\\n",
       "0        I am very very happy to finish this course.          60.0   \n",
       "1                            The course was awesome.          45.0   \n",
       "2             I am very happy to finish this course.          50.0   \n",
       "3  Although the course was good, unfortunately I ...          35.0   \n",
       "4  I am very happy to have finished this course. ...          75.0   \n",
       "5  It was a better course than I thought. If I ha...          80.0   \n",
       "6                                                NaN           NaN   \n",
       "\n",
       "   secondSection  totalTimeToFinishSecondSection  overall_score  \\\n",
       "0           80.0                             8.0          240.0   \n",
       "1           80.0                             8.0          195.0   \n",
       "2            NaN                            16.0            NaN   \n",
       "3           40.0                            17.0          130.0   \n",
       "4           80.0                            15.0          255.0   \n",
       "5           60.0                            16.0          180.0   \n",
       "6            NaN                             NaN            NaN   \n",
       "\n",
       "   overall_score_percentage  gender  age username  \n",
       "0                 80.000000  Female   20    zakia  \n",
       "1                 65.000000  Female   19    giada  \n",
       "2                       NaN  Female   15   juliet  \n",
       "3                 43.333333    Male   16   gioele  \n",
       "4                 85.000000  Female   17    marta  \n",
       "5                 60.000000  Female   18  namrata  \n",
       "6                       NaN  Female   20    zakia  "
      ]
     },
     "execution_count": 120,
     "metadata": {},
     "output_type": "execute_result"
    }
   ],
   "source": [
    "final_df_examtable"
   ]
  },
  {
   "cell_type": "code",
   "execution_count": 121,
   "metadata": {},
   "outputs": [],
   "source": [
    "text_overall = \"\""
   ]
  },
  {
   "cell_type": "code",
   "execution_count": 122,
   "metadata": {},
   "outputs": [
    {
     "ename": "TypeError",
     "evalue": "can only concatenate str (not \"float\") to str",
     "output_type": "error",
     "traceback": [
      "\u001b[1;31m---------------------------------------------------------------------------\u001b[0m",
      "\u001b[1;31mTypeError\u001b[0m                                 Traceback (most recent call last)",
      "\u001b[1;32m<ipython-input-122-f912cb9099e9>\u001b[0m in \u001b[0;36m<module>\u001b[1;34m\u001b[0m\n\u001b[0;32m      1\u001b[0m \u001b[1;32mfor\u001b[0m \u001b[0mi\u001b[0m \u001b[1;32min\u001b[0m \u001b[0mrange\u001b[0m\u001b[1;33m(\u001b[0m\u001b[0mlen\u001b[0m\u001b[1;33m(\u001b[0m\u001b[0mfinal_df_examtable\u001b[0m\u001b[1;33m)\u001b[0m\u001b[1;33m)\u001b[0m\u001b[1;33m:\u001b[0m\u001b[1;33m\u001b[0m\u001b[1;33m\u001b[0m\u001b[0m\n\u001b[1;32m----> 2\u001b[1;33m     \u001b[0mtext_overall\u001b[0m\u001b[1;33m+=\u001b[0m \u001b[0mfinal_df_examtable\u001b[0m\u001b[1;33m[\u001b[0m\u001b[1;34m'optionalFeedback'\u001b[0m\u001b[1;33m]\u001b[0m\u001b[1;33m[\u001b[0m\u001b[0mi\u001b[0m\u001b[1;33m]\u001b[0m\u001b[1;33m\u001b[0m\u001b[1;33m\u001b[0m\u001b[0m\n\u001b[0m",
      "\u001b[1;31mTypeError\u001b[0m: can only concatenate str (not \"float\") to str"
     ]
    }
   ],
   "source": [
    "for i in range(len(final_df_examtable)):\n",
    "    text_overall+= final_df_examtable['optionalFeedback'][i]"
   ]
  },
  {
   "cell_type": "code",
   "execution_count": null,
   "metadata": {
    "scrolled": true
   },
   "outputs": [],
   "source": [
    "text_overall"
   ]
  },
  {
   "cell_type": "code",
   "execution_count": null,
   "metadata": {},
   "outputs": [],
   "source": [
    "text = final_df['optionalFeedback'][5]"
   ]
  },
  {
   "cell_type": "code",
   "execution_count": null,
   "metadata": {},
   "outputs": [],
   "source": [
    "text"
   ]
  },
  {
   "cell_type": "code",
   "execution_count": 123,
   "metadata": {},
   "outputs": [
    {
     "ename": "NameError",
     "evalue": "name 'text' is not defined",
     "output_type": "error",
     "traceback": [
      "\u001b[1;31m---------------------------------------------------------------------------\u001b[0m",
      "\u001b[1;31mNameError\u001b[0m                                 Traceback (most recent call last)",
      "\u001b[1;32m<ipython-input-123-f228ebc1e1c7>\u001b[0m in \u001b[0;36m<module>\u001b[1;34m\u001b[0m\n\u001b[0;32m      1\u001b[0m \u001b[1;31m#nlp.add_pipe(\"spacytextblob\")\u001b[0m\u001b[1;33m\u001b[0m\u001b[1;33m\u001b[0m\u001b[1;33m\u001b[0m\u001b[0m\n\u001b[1;32m----> 2\u001b[1;33m \u001b[0mdoc\u001b[0m \u001b[1;33m=\u001b[0m \u001b[0mnlp\u001b[0m\u001b[1;33m(\u001b[0m\u001b[0mtext\u001b[0m\u001b[1;33m)\u001b[0m\u001b[1;33m\u001b[0m\u001b[1;33m\u001b[0m\u001b[0m\n\u001b[0m",
      "\u001b[1;31mNameError\u001b[0m: name 'text' is not defined"
     ]
    }
   ],
   "source": [
    "#nlp.add_pipe(\"spacytextblob\")\n",
    "doc = nlp(text)"
   ]
  },
  {
   "cell_type": "code",
   "execution_count": 167,
   "metadata": {},
   "outputs": [
    {
     "name": "stdout",
     "output_type": "stream",
     "text": [
      "Polarity: 0.6\n",
      "Sujectivity: 0.5833333333333334\n",
      "Assessments: [(['great'], 0.8, 0.75, None), (['especially', 'liked'], 1.0, 1.0, None), (['multiple'], 0.0, 0.0, None)]\n"
     ]
    }
   ],
   "source": [
    "print('Polarity:', doc._.polarity)\n",
    "print('Sujectivity:', doc._.subjectivity)\n",
    "print('Assessments:', doc._.assessments)"
   ]
  },
  {
   "cell_type": "code",
   "execution_count": 143,
   "metadata": {},
   "outputs": [
    {
     "name": "stdout",
     "output_type": "stream",
     "text": [
      "0.18076923076923077\n",
      "0.6324786324786326\n",
      "[(['great'], 0.8, 0.75, None), (['definitely'], 0.0, 0.5, None), (['such'], 0.0, 0.5, None), (['not', 'sure'], -0.25, 0.8888888888888888, None), (['easy'], 0.43333333333333335, 0.8333333333333334, None), (['hard'], -0.2916666666666667, 0.5416666666666666, None), (['hard'], -0.2916666666666667, 0.5416666666666666, None), (['good'], 0.7, 0.6000000000000001, None), (['bad'], -0.6999999999999998, 0.6666666666666666, None), (['normal'], 0.15, 0.6499999999999999, None), (['great'], 0.8, 0.75, None), (['especially', 'liked'], 1.0, 1.0, None), (['multiple'], 0.0, 0.0, None)]\n"
     ]
    }
   ],
   "source": [
    "from textblob import TextBlob\n",
    "blob = TextBlob(text)\n",
    "print(blob.sentiment_assessments.polarity)\n",
    "print(blob.sentiment_assessments.subjectivity)\n",
    "print(blob.sentiment_assessments.assessments)"
   ]
  },
  {
   "cell_type": "code",
   "execution_count": 113,
   "metadata": {
    "scrolled": false
   },
   "outputs": [
    {
     "name": "stdout",
     "output_type": "stream",
     "text": [
      "Requirement already satisfied: wordcloud in c:\\users\\namra\\anaconda3\\lib\\site-packages (1.8.1)\n",
      "Requirement already satisfied: matplotlib in c:\\users\\namra\\anaconda3\\lib\\site-packages (from wordcloud) (3.2.2)\n",
      "Requirement already satisfied: pillow in c:\\users\\namra\\anaconda3\\lib\\site-packages (from wordcloud) (7.2.0)\n",
      "Requirement already satisfied: numpy>=1.6.1 in c:\\users\\namra\\anaconda3\\lib\\site-packages (from wordcloud) (1.18.5)\n",
      "Requirement already satisfied: python-dateutil>=2.1 in c:\\users\\namra\\anaconda3\\lib\\site-packages (from matplotlib->wordcloud) (2.8.1)\n",
      "Requirement already satisfied: pyparsing!=2.0.4,!=2.1.2,!=2.1.6,>=2.0.1 in c:\\users\\namra\\anaconda3\\lib\\site-packages (from matplotlib->wordcloud) (2.4.7)\n",
      "Requirement already satisfied: cycler>=0.10 in c:\\users\\namra\\anaconda3\\lib\\site-packages (from matplotlib->wordcloud) (0.10.0)\n",
      "Requirement already satisfied: kiwisolver>=1.0.1 in c:\\users\\namra\\anaconda3\\lib\\site-packages (from matplotlib->wordcloud) (1.2.0)\n",
      "Requirement already satisfied: six>=1.5 in c:\\users\\namra\\anaconda3\\lib\\site-packages (from python-dateutil>=2.1->matplotlib->wordcloud) (1.12.0)\n",
      "Note: you may need to restart the kernel to use updated packages.\n"
     ]
    }
   ],
   "source": [
    "#pip install wordcloud"
   ]
  },
  {
   "cell_type": "code",
   "execution_count": 406,
   "metadata": {},
   "outputs": [],
   "source": [
    "from wordcloud import WordCloud, STOPWORDS"
   ]
  },
  {
   "cell_type": "code",
   "execution_count": 411,
   "metadata": {
    "scrolled": true
   },
   "outputs": [
    {
     "data": {
      "text/plain": [
       "(-0.5, 1919.5, 1079.5, -0.5)"
      ]
     },
     "execution_count": 411,
     "metadata": {},
     "output_type": "execute_result"
    },
    {
     "data": {
      "image/png": "[encoded data removed]",
      "text/plain": [
       "<Figure size 432x288 with 1 Axes>"
      ]
     },
     "metadata": {
      "needs_background": "light"
     },
     "output_type": "display_data"
    }
   ],
   "source": [
    "wc = WordCloud(background_color = 'white', width = 1920, height = 1080)\n",
    "wc.generate_from_text(text_overall)\n",
    "plt.imshow(wc)\n",
    "plt.axis(\"off\")"
   ]
  },
  {
   "cell_type": "markdown",
   "metadata": {},
   "source": [
    "# Visualize Attendance  "
   ]
  },
  {
   "cell_type": "code",
   "execution_count": 416,
   "metadata": {},
   "outputs": [
    {
     "name": "stdout",
     "output_type": "stream",
     "text": [
      "Enter attendance percentage:60\n"
     ]
    }
   ],
   "source": [
    "attendance = int(input(\"Enter attendance percentage:\"))"
   ]
  },
  {
   "cell_type": "code",
   "execution_count": 417,
   "metadata": {},
   "outputs": [
    {
     "data": {
      "image/png": "[encoded data removed]",
      "text/plain": [
       "<Figure size 432x288 with 1 Axes>"
      ]
     },
     "metadata": {},
     "output_type": "display_data"
    }
   ],
   "source": [
    "# Pie chart\n",
    "sizes = [attendance,100-attendance]\n",
    "#colors\n",
    "colors = [\"#F8BE48\",'#c4c4c4']\n",
    "#explsion\n",
    "#explode = (0.05,0.05,0.05,0.05)\n",
    " \n",
    "plt.pie(sizes, colors = colors, startangle=90, pctdistance=0.85) #autopct='%1.1f%%'\n",
    "#draw circle\n",
    "centre_circle = plt.Circle((0,0),0.70,fc='white')\n",
    "fig = plt.gcf()\n",
    "fig.gca().add_artist(centre_circle)\n",
    "fig.gca().add_artist(centre_circle)\n",
    "plt.text(0.28, 0.45, str(attendance)+'%', fontsize=50, horizontalalignment='center',\n",
    "         verticalalignment='center', transform=ax.transAxes)\n",
    "\n",
    "# Equal aspect ratio ensures that pie is drawn as a circle\n",
    "#ax1.axis('equal')  \n",
    "plt.tight_layout()\n",
    "plt.show()\n"
   ]
  },
  {
   "cell_type": "code",
   "execution_count": null,
   "metadata": {},
   "outputs": [],
   "source": []
  },
  {
   "cell_type": "code",
   "execution_count": null,
   "metadata": {},
   "outputs": [],
   "source": []
  }
 ],
 "metadata": {
  "kernelspec": {
   "display_name": "Python 3",
   "language": "python",
   "name": "python3"
  },
  "language_info": {
   "codemirror_mode": {
    "name": "ipython",
    "version": 3
   },
   "file_extension": ".py",
   "mimetype": "text/x-python",
   "name": "python",
   "nbconvert_exporter": "python",
   "pygments_lexer": "ipython3",
   "version": "3.8.3"
  }
 },
 "nbformat": 4,
 "nbformat_minor": 4
}
